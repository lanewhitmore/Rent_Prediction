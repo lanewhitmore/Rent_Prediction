{
 "cells": [
  {
   "cell_type": "markdown",
   "metadata": {},
   "source": [
    "# ADS 505 Final Project - Team 2\n",
    "## Rent Prediction\n",
    "### Kiran Singh, Lane Whitmore, Mendelina Lopez"
   ]
  },
  {
   "cell_type": "code",
   "execution_count": 38,
   "id": "3347d44e",
   "metadata": {},
   "outputs": [],
   "source": [
    "### Package Imports \n",
    "from sklearn.linear_model import LinearRegression\n",
    "from sklearn.model_selection import train_test_split, GridSearchCV\n",
    "from sklearn.preprocessing import LabelEncoder\n",
    "from sklearn.metrics import mean_squared_error, r2_score\n",
    "from sklearn.ensemble import RandomForestRegressor\n",
    "import matplotlib.pyplot as plt\n",
    "import seaborn as sns\n",
    "import pandas as pd\n",
    "import numpy as np\n",
    "import dmba\n",
    "from dmba import adjusted_r2_score, AIC_score, BIC_score\n",
    "from dmba import exhaustive_search, regressionSummary\n",
    "from dmba import stepwise_selection, forward_selection, backward_elimination\n",
    "from sklearn.linear_model import LogisticRegression\n",
    "from sklearn.linear_model import LinearRegression\n",
    "from sklearn.svm import SVR\n",
    "from sklearn.tree import DecisionTreeRegressor\n",
    "from sklearn.neural_network import MLPRegressor\n",
    "import itertools\n",
    "from sklearn.metrics.pairwise import haversine_distances\n",
    "from math import radians\n",
    "import xgboost as xgb\n",
    "\n",
    "%matplotlib inline"
   ]
  },
  {
   "cell_type": "code",
   "execution_count": 7,
   "id": "97c86cf4",
   "metadata": {},
   "outputs": [
    {
     "data": {
      "text/html": [
       "<div>\n",
       "<style scoped>\n",
       "    .dataframe tbody tr th:only-of-type {\n",
       "        vertical-align: middle;\n",
       "    }\n",
       "\n",
       "    .dataframe tbody tr th {\n",
       "        vertical-align: top;\n",
       "    }\n",
       "\n",
       "    .dataframe thead th {\n",
       "        text-align: right;\n",
       "    }\n",
       "</style>\n",
       "<table border=\"1\" class=\"dataframe\">\n",
       "  <thead>\n",
       "    <tr style=\"text-align: right;\">\n",
       "      <th></th>\n",
       "      <th>Posted On</th>\n",
       "      <th>BHK</th>\n",
       "      <th>Rent</th>\n",
       "      <th>Size</th>\n",
       "      <th>Floor</th>\n",
       "      <th>Area Type</th>\n",
       "      <th>Area Locality</th>\n",
       "      <th>City</th>\n",
       "      <th>Furnishing Status</th>\n",
       "      <th>Tenant Preferred</th>\n",
       "      <th>Bathroom</th>\n",
       "      <th>Point of Contact</th>\n",
       "    </tr>\n",
       "  </thead>\n",
       "  <tbody>\n",
       "    <tr>\n",
       "      <th>0</th>\n",
       "      <td>2022-05-18</td>\n",
       "      <td>2</td>\n",
       "      <td>10000</td>\n",
       "      <td>1100</td>\n",
       "      <td>Ground out of 2</td>\n",
       "      <td>Super Area</td>\n",
       "      <td>Bandel</td>\n",
       "      <td>Kolkata</td>\n",
       "      <td>Unfurnished</td>\n",
       "      <td>Bachelors/Family</td>\n",
       "      <td>2</td>\n",
       "      <td>Contact Owner</td>\n",
       "    </tr>\n",
       "    <tr>\n",
       "      <th>1</th>\n",
       "      <td>2022-05-13</td>\n",
       "      <td>2</td>\n",
       "      <td>20000</td>\n",
       "      <td>800</td>\n",
       "      <td>1 out of 3</td>\n",
       "      <td>Super Area</td>\n",
       "      <td>Phool Bagan, Kankurgachi</td>\n",
       "      <td>Kolkata</td>\n",
       "      <td>Semi-Furnished</td>\n",
       "      <td>Bachelors/Family</td>\n",
       "      <td>1</td>\n",
       "      <td>Contact Owner</td>\n",
       "    </tr>\n",
       "    <tr>\n",
       "      <th>2</th>\n",
       "      <td>2022-05-16</td>\n",
       "      <td>2</td>\n",
       "      <td>17000</td>\n",
       "      <td>1000</td>\n",
       "      <td>1 out of 3</td>\n",
       "      <td>Super Area</td>\n",
       "      <td>Salt Lake City Sector 2</td>\n",
       "      <td>Kolkata</td>\n",
       "      <td>Semi-Furnished</td>\n",
       "      <td>Bachelors/Family</td>\n",
       "      <td>1</td>\n",
       "      <td>Contact Owner</td>\n",
       "    </tr>\n",
       "    <tr>\n",
       "      <th>3</th>\n",
       "      <td>2022-07-04</td>\n",
       "      <td>2</td>\n",
       "      <td>10000</td>\n",
       "      <td>800</td>\n",
       "      <td>1 out of 2</td>\n",
       "      <td>Super Area</td>\n",
       "      <td>Dumdum Park</td>\n",
       "      <td>Kolkata</td>\n",
       "      <td>Unfurnished</td>\n",
       "      <td>Bachelors/Family</td>\n",
       "      <td>1</td>\n",
       "      <td>Contact Owner</td>\n",
       "    </tr>\n",
       "    <tr>\n",
       "      <th>4</th>\n",
       "      <td>2022-05-09</td>\n",
       "      <td>2</td>\n",
       "      <td>7500</td>\n",
       "      <td>850</td>\n",
       "      <td>1 out of 2</td>\n",
       "      <td>Carpet Area</td>\n",
       "      <td>South Dum Dum</td>\n",
       "      <td>Kolkata</td>\n",
       "      <td>Unfurnished</td>\n",
       "      <td>Bachelors</td>\n",
       "      <td>1</td>\n",
       "      <td>Contact Owner</td>\n",
       "    </tr>\n",
       "  </tbody>\n",
       "</table>\n",
       "</div>"
      ],
      "text/plain": [
       "    Posted On  BHK   Rent  Size            Floor    Area Type  \\\n",
       "0  2022-05-18    2  10000  1100  Ground out of 2   Super Area   \n",
       "1  2022-05-13    2  20000   800       1 out of 3   Super Area   \n",
       "2  2022-05-16    2  17000  1000       1 out of 3   Super Area   \n",
       "3  2022-07-04    2  10000   800       1 out of 2   Super Area   \n",
       "4  2022-05-09    2   7500   850       1 out of 2  Carpet Area   \n",
       "\n",
       "              Area Locality     City Furnishing Status  Tenant Preferred  \\\n",
       "0                    Bandel  Kolkata       Unfurnished  Bachelors/Family   \n",
       "1  Phool Bagan, Kankurgachi  Kolkata    Semi-Furnished  Bachelors/Family   \n",
       "2   Salt Lake City Sector 2  Kolkata    Semi-Furnished  Bachelors/Family   \n",
       "3               Dumdum Park  Kolkata       Unfurnished  Bachelors/Family   \n",
       "4             South Dum Dum  Kolkata       Unfurnished         Bachelors   \n",
       "\n",
       "   Bathroom Point of Contact  \n",
       "0         2    Contact Owner  \n",
       "1         1    Contact Owner  \n",
       "2         1    Contact Owner  \n",
       "3         1    Contact Owner  \n",
       "4         1    Contact Owner  "
      ]
     },
     "execution_count": 7,
     "metadata": {},
     "output_type": "execute_result"
    }
   ],
   "source": [
    "rent = pd.read_csv(r'C:\\Users\\whitm\\OneDrive\\Documents\\GitHub\\Rent_Prediction/House_Rent_Dataset.csv')\n",
    "\n",
    "### Data cleanup will entail splitting dates and addressing categorical variables\n",
    "rent.head()"
   ]
  },
  {
   "cell_type": "markdown",
   "id": "6b900185",
   "metadata": {},
   "source": [
    "## Pre-Processing"
   ]
  },
  {
   "cell_type": "markdown",
   "id": "916772b9",
   "metadata": {},
   "source": [
    "#### Label Encoding\n",
    "\n",
    "for Area Type, Locality, City, Furnishing, Tenant Preferred, Point of Contact"
   ]
  },
  {
   "cell_type": "code",
   "execution_count": 8,
   "id": "a4bbd739",
   "metadata": {},
   "outputs": [],
   "source": [
    "le_areatype = LabelEncoder()\n",
    "rent['Area Type'] = le_areatype.fit_transform(rent['Area Type'])"
   ]
  },
  {
   "cell_type": "code",
   "execution_count": 9,
   "id": "2b7f3f5e",
   "metadata": {},
   "outputs": [],
   "source": [
    "le_arealocality = LabelEncoder()\n",
    "rent['Area Locality'] = le_arealocality.fit_transform(rent['Area Locality'])"
   ]
  },
  {
   "cell_type": "code",
   "execution_count": 10,
   "id": "0cb0e686",
   "metadata": {},
   "outputs": [],
   "source": [
    "le_city = LabelEncoder()\n",
    "rent['City'] = le_city.fit_transform(rent['City'])"
   ]
  },
  {
   "cell_type": "code",
   "execution_count": 11,
   "id": "2570cedc",
   "metadata": {},
   "outputs": [],
   "source": [
    "le_furnish = LabelEncoder()\n",
    "rent['Furnishing Status'] = le_furnish.fit_transform(rent['Furnishing Status'])"
   ]
  },
  {
   "cell_type": "code",
   "execution_count": 12,
   "id": "b2ce6ea9",
   "metadata": {},
   "outputs": [],
   "source": [
    "le_tenant = LabelEncoder()\n",
    "rent['Tenant Preferred'] = le_tenant.fit_transform(rent['Tenant Preferred'])"
   ]
  },
  {
   "cell_type": "code",
   "execution_count": 13,
   "id": "e3dd4688",
   "metadata": {},
   "outputs": [],
   "source": [
    "le_contact = LabelEncoder()\n",
    "rent['Point of Contact'] = le_contact.fit_transform(rent['Point of Contact'])"
   ]
  },
  {
   "cell_type": "code",
   "execution_count": 14,
   "id": "89f539e2",
   "metadata": {},
   "outputs": [
    {
     "name": "stdout",
     "output_type": "stream",
     "text": [
      "\n",
      "Training Set Length: 3322\n",
      "\n",
      "Testing Set Length: 1424\n"
     ]
    },
    {
     "data": {
      "text/html": [
       "<div>\n",
       "<style scoped>\n",
       "    .dataframe tbody tr th:only-of-type {\n",
       "        vertical-align: middle;\n",
       "    }\n",
       "\n",
       "    .dataframe tbody tr th {\n",
       "        vertical-align: top;\n",
       "    }\n",
       "\n",
       "    .dataframe thead th {\n",
       "        text-align: right;\n",
       "    }\n",
       "</style>\n",
       "<table border=\"1\" class=\"dataframe\">\n",
       "  <thead>\n",
       "    <tr style=\"text-align: right;\">\n",
       "      <th></th>\n",
       "      <th>Posted On</th>\n",
       "      <th>BHK</th>\n",
       "      <th>Rent</th>\n",
       "      <th>Size</th>\n",
       "      <th>Floor</th>\n",
       "      <th>Area Type</th>\n",
       "      <th>Area Locality</th>\n",
       "      <th>City</th>\n",
       "      <th>Furnishing Status</th>\n",
       "      <th>Tenant Preferred</th>\n",
       "      <th>Bathroom</th>\n",
       "      <th>Point of Contact</th>\n",
       "    </tr>\n",
       "  </thead>\n",
       "  <tbody>\n",
       "    <tr>\n",
       "      <th>1698</th>\n",
       "      <td>2022-06-04</td>\n",
       "      <td>2</td>\n",
       "      <td>17000</td>\n",
       "      <td>1000</td>\n",
       "      <td>3 out of 4</td>\n",
       "      <td>2</td>\n",
       "      <td>322</td>\n",
       "      <td>0</td>\n",
       "      <td>1</td>\n",
       "      <td>1</td>\n",
       "      <td>2</td>\n",
       "      <td>2</td>\n",
       "    </tr>\n",
       "    <tr>\n",
       "      <th>3924</th>\n",
       "      <td>2022-05-10</td>\n",
       "      <td>2</td>\n",
       "      <td>6500</td>\n",
       "      <td>200</td>\n",
       "      <td>Ground out of 1</td>\n",
       "      <td>1</td>\n",
       "      <td>460</td>\n",
       "      <td>3</td>\n",
       "      <td>2</td>\n",
       "      <td>0</td>\n",
       "      <td>2</td>\n",
       "      <td>2</td>\n",
       "    </tr>\n",
       "    <tr>\n",
       "      <th>4375</th>\n",
       "      <td>2022-05-24</td>\n",
       "      <td>2</td>\n",
       "      <td>10000</td>\n",
       "      <td>1200</td>\n",
       "      <td>2 out of 2</td>\n",
       "      <td>2</td>\n",
       "      <td>255</td>\n",
       "      <td>3</td>\n",
       "      <td>2</td>\n",
       "      <td>0</td>\n",
       "      <td>2</td>\n",
       "      <td>2</td>\n",
       "    </tr>\n",
       "    <tr>\n",
       "      <th>3910</th>\n",
       "      <td>2022-06-10</td>\n",
       "      <td>2</td>\n",
       "      <td>9500</td>\n",
       "      <td>1140</td>\n",
       "      <td>3 out of 4</td>\n",
       "      <td>2</td>\n",
       "      <td>1412</td>\n",
       "      <td>3</td>\n",
       "      <td>1</td>\n",
       "      <td>1</td>\n",
       "      <td>2</td>\n",
       "      <td>2</td>\n",
       "    </tr>\n",
       "    <tr>\n",
       "      <th>3864</th>\n",
       "      <td>2022-05-16</td>\n",
       "      <td>2</td>\n",
       "      <td>14000</td>\n",
       "      <td>1000</td>\n",
       "      <td>2 out of 3</td>\n",
       "      <td>2</td>\n",
       "      <td>423</td>\n",
       "      <td>1</td>\n",
       "      <td>2</td>\n",
       "      <td>1</td>\n",
       "      <td>2</td>\n",
       "      <td>2</td>\n",
       "    </tr>\n",
       "  </tbody>\n",
       "</table>\n",
       "</div>"
      ],
      "text/plain": [
       "       Posted On  BHK   Rent  Size            Floor  Area Type  Area Locality  \\\n",
       "1698  2022-06-04    2  17000  1000       3 out of 4          2            322   \n",
       "3924  2022-05-10    2   6500   200  Ground out of 1          1            460   \n",
       "4375  2022-05-24    2  10000  1200       2 out of 2          2            255   \n",
       "3910  2022-06-10    2   9500  1140       3 out of 4          2           1412   \n",
       "3864  2022-05-16    2  14000  1000       2 out of 3          2            423   \n",
       "\n",
       "      City  Furnishing Status  Tenant Preferred  Bathroom  Point of Contact  \n",
       "1698     0                  1                 1         2                 2  \n",
       "3924     3                  2                 0         2                 2  \n",
       "4375     3                  2                 0         2                 2  \n",
       "3910     3                  1                 1         2                 2  \n",
       "3864     1                  2                 1         2                 2  "
      ]
     },
     "execution_count": 14,
     "metadata": {},
     "output_type": "execute_result"
    }
   ],
   "source": [
    "### Splitting train and test sets before preprocessing\n",
    "train, test = train_test_split(rent, test_size = 0.3, random_state = 33)\n",
    "\n",
    "### Train set predictors & Response\n",
    "X_train = train.drop('Rent', axis = 1)\n",
    "y_train = train['Rent']\n",
    "\n",
    "### Test set predictors & Response\n",
    "X_test = test.drop('Rent', axis = 1)\n",
    "y_test = test['Rent']\n",
    "\n",
    "print('\\nTraining Set Length:', len(train))\n",
    "print('\\nTesting Set Length:', len(test))\n",
    "train.head()"
   ]
  },
  {
   "cell_type": "markdown",
   "id": "4b45a65b",
   "metadata": {},
   "source": [
    "The dataset has been split 70/30 train/test and now has been split between predictors and reponse variables before moving into EDA and preprocessing. "
   ]
  },
  {
   "cell_type": "code",
   "execution_count": 15,
   "id": "176ed6ae",
   "metadata": {},
   "outputs": [
    {
     "data": {
      "text/plain": [
       "Posted On            0\n",
       "BHK                  0\n",
       "Size                 0\n",
       "Floor                0\n",
       "Area Type            0\n",
       "Area Locality        0\n",
       "City                 0\n",
       "Furnishing Status    0\n",
       "Tenant Preferred     0\n",
       "Bathroom             0\n",
       "Point of Contact     0\n",
       "dtype: int64"
      ]
     },
     "execution_count": 15,
     "metadata": {},
     "output_type": "execute_result"
    }
   ],
   "source": [
    "### There are no null values to fill\n",
    "X_train.isna().sum()"
   ]
  },
  {
   "cell_type": "markdown",
   "id": "7cd95e7a",
   "metadata": {},
   "source": [
    "The formulas below extract the numerical values from the Floor predictor creating two predictors that represent the floors the individual is on and the total floors in the building. \n",
    "In the UK and India, the ground floor is referred to as the first floor in the U.S. and first floor in the UK and India is the second floor in the U.S..\n",
    "Therefore, ground floor must be made into 0 and basement has been made into -1."
   ]
  },
  {
   "cell_type": "code",
   "execution_count": 17,
   "id": "471b43f8",
   "metadata": {},
   "outputs": [],
   "source": [
    "def clean_flooron(x):\n",
    "    for i, _ in enumerate(x):\n",
    "        if 'Gr' in str(x[:2]):\n",
    "            return 0\n",
    "        if 'Up' in str(x[:2]):\n",
    "            return -1\n",
    "        if 'Lo' in str(x[:2]):\n",
    "            return -2\n",
    "        else:\n",
    "            return str(x[:2])\n",
    "\n",
    "def clean_floortot(x):\n",
    "    for i, _ in enumerate(x):\n",
    "        if 'nd' in str(x[-2:]):\n",
    "            return 0\n",
    "        else:\n",
    "            return str(x[-2:])"
   ]
  },
  {
   "cell_type": "code",
   "execution_count": 18,
   "id": "47a4b45e",
   "metadata": {},
   "outputs": [
    {
     "data": {
      "text/html": [
       "<div>\n",
       "<style scoped>\n",
       "    .dataframe tbody tr th:only-of-type {\n",
       "        vertical-align: middle;\n",
       "    }\n",
       "\n",
       "    .dataframe tbody tr th {\n",
       "        vertical-align: top;\n",
       "    }\n",
       "\n",
       "    .dataframe thead th {\n",
       "        text-align: right;\n",
       "    }\n",
       "</style>\n",
       "<table border=\"1\" class=\"dataframe\">\n",
       "  <thead>\n",
       "    <tr style=\"text-align: right;\">\n",
       "      <th></th>\n",
       "      <th>Posted On</th>\n",
       "      <th>BHK</th>\n",
       "      <th>Size</th>\n",
       "      <th>Floor</th>\n",
       "      <th>Area Type</th>\n",
       "      <th>Area Locality</th>\n",
       "      <th>City</th>\n",
       "      <th>Furnishing Status</th>\n",
       "      <th>Tenant Preferred</th>\n",
       "      <th>Bathroom</th>\n",
       "      <th>Point of Contact</th>\n",
       "      <th>floor on</th>\n",
       "      <th>floor total</th>\n",
       "    </tr>\n",
       "  </thead>\n",
       "  <tbody>\n",
       "    <tr>\n",
       "      <th>998</th>\n",
       "      <td>2022-07-09</td>\n",
       "      <td>2</td>\n",
       "      <td>900</td>\n",
       "      <td>10 out of 15</td>\n",
       "      <td>2</td>\n",
       "      <td>11</td>\n",
       "      <td>5</td>\n",
       "      <td>2</td>\n",
       "      <td>1</td>\n",
       "      <td>2</td>\n",
       "      <td>0</td>\n",
       "      <td>10</td>\n",
       "      <td>15</td>\n",
       "    </tr>\n",
       "    <tr>\n",
       "      <th>1945</th>\n",
       "      <td>2022-05-14</td>\n",
       "      <td>1</td>\n",
       "      <td>400</td>\n",
       "      <td>Ground out of 3</td>\n",
       "      <td>2</td>\n",
       "      <td>789</td>\n",
       "      <td>0</td>\n",
       "      <td>1</td>\n",
       "      <td>1</td>\n",
       "      <td>1</td>\n",
       "      <td>2</td>\n",
       "      <td>0</td>\n",
       "      <td>3</td>\n",
       "    </tr>\n",
       "    <tr>\n",
       "      <th>1679</th>\n",
       "      <td>2022-06-16</td>\n",
       "      <td>2</td>\n",
       "      <td>1050</td>\n",
       "      <td>1 out of 5</td>\n",
       "      <td>2</td>\n",
       "      <td>756</td>\n",
       "      <td>0</td>\n",
       "      <td>1</td>\n",
       "      <td>1</td>\n",
       "      <td>2</td>\n",
       "      <td>2</td>\n",
       "      <td>1</td>\n",
       "      <td>5</td>\n",
       "    </tr>\n",
       "    <tr>\n",
       "      <th>2579</th>\n",
       "      <td>2022-05-18</td>\n",
       "      <td>3</td>\n",
       "      <td>200</td>\n",
       "      <td>1 out of 4</td>\n",
       "      <td>1</td>\n",
       "      <td>1505</td>\n",
       "      <td>2</td>\n",
       "      <td>1</td>\n",
       "      <td>0</td>\n",
       "      <td>3</td>\n",
       "      <td>0</td>\n",
       "      <td>1</td>\n",
       "      <td>4</td>\n",
       "    </tr>\n",
       "    <tr>\n",
       "      <th>3374</th>\n",
       "      <td>2022-05-06</td>\n",
       "      <td>2</td>\n",
       "      <td>780</td>\n",
       "      <td>1 out of 2</td>\n",
       "      <td>2</td>\n",
       "      <td>1152</td>\n",
       "      <td>1</td>\n",
       "      <td>0</td>\n",
       "      <td>1</td>\n",
       "      <td>2</td>\n",
       "      <td>2</td>\n",
       "      <td>1</td>\n",
       "      <td>2</td>\n",
       "    </tr>\n",
       "  </tbody>\n",
       "</table>\n",
       "</div>"
      ],
      "text/plain": [
       "       Posted On  BHK  Size            Floor  Area Type  Area Locality  City  \\\n",
       "998   2022-07-09    2   900     10 out of 15          2             11     5   \n",
       "1945  2022-05-14    1   400  Ground out of 3          2            789     0   \n",
       "1679  2022-06-16    2  1050       1 out of 5          2            756     0   \n",
       "2579  2022-05-18    3   200       1 out of 4          1           1505     2   \n",
       "3374  2022-05-06    2   780       1 out of 2          2           1152     1   \n",
       "\n",
       "      Furnishing Status  Tenant Preferred  Bathroom  Point of Contact  \\\n",
       "998                   2                 1         2                 0   \n",
       "1945                  1                 1         1                 2   \n",
       "1679                  1                 1         2                 2   \n",
       "2579                  1                 0         3                 0   \n",
       "3374                  0                 1         2                 2   \n",
       "\n",
       "     floor on floor total  \n",
       "998        10          15  \n",
       "1945        0           3  \n",
       "1679       1            5  \n",
       "2579       1            4  \n",
       "3374       1            2  "
      ]
     },
     "execution_count": 18,
     "metadata": {},
     "output_type": "execute_result"
    }
   ],
   "source": [
    "### applying formulas to train and test set\n",
    "X_train['floor on'] = X_train['Floor'].apply(clean_flooron)\n",
    "X_train['floor total'] = X_train['Floor'].apply(clean_floortot)\n",
    "\n",
    "\n",
    "X_test['floor on'] = X_test['Floor'].apply(clean_flooron)\n",
    "X_test['floor total'] = X_test['Floor'].apply(clean_floortot)\n",
    "\n",
    "X_test.head()"
   ]
  },
  {
   "cell_type": "code",
   "execution_count": 19,
   "id": "789eecd4",
   "metadata": {
    "scrolled": true
   },
   "outputs": [
    {
     "data": {
      "text/html": [
       "<div>\n",
       "<style scoped>\n",
       "    .dataframe tbody tr th:only-of-type {\n",
       "        vertical-align: middle;\n",
       "    }\n",
       "\n",
       "    .dataframe tbody tr th {\n",
       "        vertical-align: top;\n",
       "    }\n",
       "\n",
       "    .dataframe thead th {\n",
       "        text-align: right;\n",
       "    }\n",
       "</style>\n",
       "<table border=\"1\" class=\"dataframe\">\n",
       "  <thead>\n",
       "    <tr style=\"text-align: right;\">\n",
       "      <th></th>\n",
       "      <th>Posted On</th>\n",
       "      <th>BHK</th>\n",
       "      <th>Size</th>\n",
       "      <th>Floor</th>\n",
       "      <th>Area Type</th>\n",
       "      <th>Area Locality</th>\n",
       "      <th>City</th>\n",
       "      <th>Furnishing Status</th>\n",
       "      <th>Tenant Preferred</th>\n",
       "      <th>Bathroom</th>\n",
       "      <th>Point of Contact</th>\n",
       "      <th>floor on</th>\n",
       "      <th>floor total</th>\n",
       "      <th>month</th>\n",
       "      <th>year</th>\n",
       "      <th>DOW</th>\n",
       "    </tr>\n",
       "  </thead>\n",
       "  <tbody>\n",
       "    <tr>\n",
       "      <th>1698</th>\n",
       "      <td>2022-06-04</td>\n",
       "      <td>2</td>\n",
       "      <td>1000</td>\n",
       "      <td>3 out of 4</td>\n",
       "      <td>2</td>\n",
       "      <td>322</td>\n",
       "      <td>0</td>\n",
       "      <td>1</td>\n",
       "      <td>1</td>\n",
       "      <td>2</td>\n",
       "      <td>2</td>\n",
       "      <td>3</td>\n",
       "      <td>4</td>\n",
       "      <td>6</td>\n",
       "      <td>2022</td>\n",
       "      <td>5</td>\n",
       "    </tr>\n",
       "    <tr>\n",
       "      <th>3924</th>\n",
       "      <td>2022-05-10</td>\n",
       "      <td>2</td>\n",
       "      <td>200</td>\n",
       "      <td>Ground out of 1</td>\n",
       "      <td>1</td>\n",
       "      <td>460</td>\n",
       "      <td>3</td>\n",
       "      <td>2</td>\n",
       "      <td>0</td>\n",
       "      <td>2</td>\n",
       "      <td>2</td>\n",
       "      <td>0</td>\n",
       "      <td>1</td>\n",
       "      <td>5</td>\n",
       "      <td>2022</td>\n",
       "      <td>1</td>\n",
       "    </tr>\n",
       "    <tr>\n",
       "      <th>4375</th>\n",
       "      <td>2022-05-24</td>\n",
       "      <td>2</td>\n",
       "      <td>1200</td>\n",
       "      <td>2 out of 2</td>\n",
       "      <td>2</td>\n",
       "      <td>255</td>\n",
       "      <td>3</td>\n",
       "      <td>2</td>\n",
       "      <td>0</td>\n",
       "      <td>2</td>\n",
       "      <td>2</td>\n",
       "      <td>2</td>\n",
       "      <td>2</td>\n",
       "      <td>5</td>\n",
       "      <td>2022</td>\n",
       "      <td>1</td>\n",
       "    </tr>\n",
       "    <tr>\n",
       "      <th>3910</th>\n",
       "      <td>2022-06-10</td>\n",
       "      <td>2</td>\n",
       "      <td>1140</td>\n",
       "      <td>3 out of 4</td>\n",
       "      <td>2</td>\n",
       "      <td>1412</td>\n",
       "      <td>3</td>\n",
       "      <td>1</td>\n",
       "      <td>1</td>\n",
       "      <td>2</td>\n",
       "      <td>2</td>\n",
       "      <td>3</td>\n",
       "      <td>4</td>\n",
       "      <td>6</td>\n",
       "      <td>2022</td>\n",
       "      <td>4</td>\n",
       "    </tr>\n",
       "    <tr>\n",
       "      <th>3864</th>\n",
       "      <td>2022-05-16</td>\n",
       "      <td>2</td>\n",
       "      <td>1000</td>\n",
       "      <td>2 out of 3</td>\n",
       "      <td>2</td>\n",
       "      <td>423</td>\n",
       "      <td>1</td>\n",
       "      <td>2</td>\n",
       "      <td>1</td>\n",
       "      <td>2</td>\n",
       "      <td>2</td>\n",
       "      <td>2</td>\n",
       "      <td>3</td>\n",
       "      <td>5</td>\n",
       "      <td>2022</td>\n",
       "      <td>0</td>\n",
       "    </tr>\n",
       "  </tbody>\n",
       "</table>\n",
       "</div>"
      ],
      "text/plain": [
       "      Posted On  BHK  Size            Floor  Area Type  Area Locality  City  \\\n",
       "1698 2022-06-04    2  1000       3 out of 4          2            322     0   \n",
       "3924 2022-05-10    2   200  Ground out of 1          1            460     3   \n",
       "4375 2022-05-24    2  1200       2 out of 2          2            255     3   \n",
       "3910 2022-06-10    2  1140       3 out of 4          2           1412     3   \n",
       "3864 2022-05-16    2  1000       2 out of 3          2            423     1   \n",
       "\n",
       "      Furnishing Status  Tenant Preferred  Bathroom  Point of Contact  \\\n",
       "1698                  1                 1         2                 2   \n",
       "3924                  2                 0         2                 2   \n",
       "4375                  2                 0         2                 2   \n",
       "3910                  1                 1         2                 2   \n",
       "3864                  2                 1         2                 2   \n",
       "\n",
       "     floor on floor total  month  year  DOW  \n",
       "1698       3            4      6  2022    5  \n",
       "3924        0           1      5  2022    1  \n",
       "4375       2            2      5  2022    1  \n",
       "3910       3            4      6  2022    4  \n",
       "3864       2            3      5  2022    0  "
      ]
     },
     "execution_count": 19,
     "metadata": {},
     "output_type": "execute_result"
    }
   ],
   "source": [
    "### Convert obj to datetime\n",
    "X_train['Posted On'] = pd.to_datetime(X_train['Posted On'])\n",
    "X_train['month'] = X_train['Posted On'].dt.month\n",
    "X_train['year'] = X_train['Posted On'].dt.year\n",
    "X_train['DOW'] = X_train['Posted On'].dt.dayofweek\n",
    "\n",
    "X_test['Posted On'] = pd.to_datetime(X_test['Posted On'])\n",
    "X_test['month'] = X_test['Posted On'].dt.month\n",
    "X_test['DOW'] = X_test['Posted On'].dt.dayofweek\n",
    "X_test['year'] = X_test['Posted On'].dt.year\n",
    "\n",
    "X_train.head()"
   ]
  },
  {
   "cell_type": "code",
   "execution_count": 20,
   "id": "fdf707e5",
   "metadata": {},
   "outputs": [
    {
     "name": "stdout",
     "output_type": "stream",
     "text": [
      "<class 'pandas.core.frame.DataFrame'>\n",
      "Int64Index: 3322 entries, 1698 to 2439\n",
      "Data columns (total 16 columns):\n",
      " #   Column             Non-Null Count  Dtype         \n",
      "---  ------             --------------  -----         \n",
      " 0   Posted On          3322 non-null   datetime64[ns]\n",
      " 1   BHK                3322 non-null   int64         \n",
      " 2   Size               3322 non-null   int64         \n",
      " 3   Floor              3322 non-null   object        \n",
      " 4   Area Type          3322 non-null   int32         \n",
      " 5   Area Locality      3322 non-null   int32         \n",
      " 6   City               3322 non-null   int32         \n",
      " 7   Furnishing Status  3322 non-null   int32         \n",
      " 8   Tenant Preferred   3322 non-null   int32         \n",
      " 9   Bathroom           3322 non-null   int64         \n",
      " 10  Point of Contact   3322 non-null   int32         \n",
      " 11  floor on           3322 non-null   object        \n",
      " 12  floor total        3322 non-null   object        \n",
      " 13  month              3322 non-null   int64         \n",
      " 14  year               3322 non-null   int64         \n",
      " 15  DOW                3322 non-null   int64         \n",
      "dtypes: datetime64[ns](1), int32(6), int64(6), object(3)\n",
      "memory usage: 363.3+ KB\n"
     ]
    }
   ],
   "source": [
    "X_train.info()"
   ]
  },
  {
   "cell_type": "code",
   "execution_count": 21,
   "id": "eca35a8e",
   "metadata": {},
   "outputs": [],
   "source": [
    "X_train[['floor on', 'floor total']] = X_train[['floor on', 'floor total']].astype(int)\n",
    "X_test[['floor on', 'floor total']] = X_test[['floor on', 'floor total']].astype(int)"
   ]
  },
  {
   "cell_type": "markdown",
   "id": "3459af85",
   "metadata": {},
   "source": [
    "## EDA "
   ]
  },
  {
   "cell_type": "code",
   "execution_count": 22,
   "id": "3d809064",
   "metadata": {},
   "outputs": [
    {
     "data": {
      "text/plain": [
       "year\n",
       "2022    3322\n",
       "dtype: int64"
      ]
     },
     "execution_count": 22,
     "metadata": {},
     "output_type": "execute_result"
    }
   ],
   "source": [
    "### Year will be a zero variance variable and therefore can be dropped\n",
    "X_train[['year']].value_counts()"
   ]
  },
  {
   "cell_type": "code",
   "execution_count": 23,
   "id": "fac1e4ec",
   "metadata": {},
   "outputs": [
    {
     "data": {
      "text/plain": [
       "Area Type\n",
       "2            1688\n",
       "1            1632\n",
       "0               2\n",
       "dtype: int64"
      ]
     },
     "execution_count": 23,
     "metadata": {},
     "output_type": "execute_result"
    }
   ],
   "source": [
    "X_train[['Area Type']].value_counts()"
   ]
  },
  {
   "cell_type": "code",
   "execution_count": 24,
   "id": "517ee4c2",
   "metadata": {},
   "outputs": [
    {
     "data": {
      "text/plain": [
       "City\n",
       "5       707\n",
       "1       624\n",
       "0       613\n",
       "3       593\n",
       "2       424\n",
       "4       361\n",
       "dtype: int64"
      ]
     },
     "execution_count": 24,
     "metadata": {},
     "output_type": "execute_result"
    }
   ],
   "source": [
    "X_train[['City']].value_counts()"
   ]
  },
  {
   "cell_type": "code",
   "execution_count": 25,
   "id": "74343c15",
   "metadata": {},
   "outputs": [
    {
     "data": {
      "text/plain": [
       "Tenant Preferred\n",
       "1                   2392\n",
       "0                    586\n",
       "2                    344\n",
       "dtype: int64"
      ]
     },
     "execution_count": 25,
     "metadata": {},
     "output_type": "execute_result"
    }
   ],
   "source": [
    "X_train[['Tenant Preferred']].value_counts()"
   ]
  },
  {
   "cell_type": "markdown",
   "id": "6e07768b",
   "metadata": {},
   "source": [
    "#### Histogram for Continuous Variables"
   ]
  },
  {
   "cell_type": "code",
   "execution_count": 27,
   "id": "9a656bc6",
   "metadata": {},
   "outputs": [
    {
     "data": {
      "image/png": "[encoded data removed]",
      "text/plain": [
       "<Figure size 576x576 with 4 Axes>"
      ]
     },
     "metadata": {
      "needs_background": "light"
     },
     "output_type": "display_data"
    }
   ],
   "source": [
    "fig, axes = plt.subplots(2, 2, figsize=(8,8))\n",
    "sns.histplot(X_train[\"Size\"] , color=\"skyblue\", ax=axes[0,0])\n",
    "sns.histplot(X_train[\"floor total\"] , color=\"olive\", ax=axes[0,1])\n",
    "sns.histplot(X_train[\"floor on\"] , color=\"orange\", ax=axes[1,0])\n",
    "sns.histplot(y_train , color=\"red\", ax=axes[1,1])\n",
    "plt.show()"
   ]
  },
  {
   "cell_type": "markdown",
   "id": "a15b2b19",
   "metadata": {},
   "source": [
    "#### Correlation Matrix"
   ]
  },
  {
   "cell_type": "code",
   "execution_count": 28,
   "id": "ba9cb4f2",
   "metadata": {},
   "outputs": [
    {
     "data": {
      "image/png": "[encoded data removed]",
      "text/plain": [
       "<Figure size 864x864 with 2 Axes>"
      ]
     },
     "metadata": {
      "needs_background": "light"
     },
     "output_type": "display_data"
    }
   ],
   "source": [
    "matrix = pd.concat([X_train, y_train], axis = 1).corr().round(2)\n",
    "plt.figure(figsize=(12,12))\n",
    "sns.heatmap(matrix, annot=True)\n",
    "plt.title('Correlation Heatmap of Variables Under Consideration')\n",
    "plt.show()"
   ]
  },
  {
   "cell_type": "markdown",
   "id": "6185bb8c",
   "metadata": {},
   "source": [
    "#### Scatterplots"
   ]
  },
  {
   "cell_type": "code",
   "execution_count": 29,
   "id": "fbedc7a7",
   "metadata": {},
   "outputs": [
    {
     "data": {
      "image/png": "[encoded data removed]",
      "text/plain": [
       "<Figure size 432x288 with 1 Axes>"
      ]
     },
     "metadata": {
      "needs_background": "light"
     },
     "output_type": "display_data"
    }
   ],
   "source": [
    "plt.scatter(x = X_train['Size'], y = y_train)\n",
    "plt.title('Rent Cost vs. Size in square feet')\n",
    "plt.xlabel('Size')\n",
    "plt.ylabel('Rent')\n",
    "plt.show()"
   ]
  },
  {
   "cell_type": "code",
   "execution_count": 30,
   "id": "652e57f3",
   "metadata": {},
   "outputs": [
    {
     "data": {
      "image/png": "[encoded data removed]",
      "text/plain": [
       "<Figure size 432x288 with 1 Axes>"
      ]
     },
     "metadata": {
      "needs_background": "light"
     },
     "output_type": "display_data"
    }
   ],
   "source": [
    "plt.scatter(x = X_train['floor total'], y = y_train)\n",
    "plt.title('Rent Cost vs. Floors in Building')\n",
    "plt.xlabel('Floor Total')\n",
    "plt.ylabel('Rent')\n",
    "plt.show()"
   ]
  },
  {
   "cell_type": "code",
   "execution_count": 31,
   "id": "15ef9d63",
   "metadata": {},
   "outputs": [
    {
     "data": {
      "text/html": [
       "<div>\n",
       "<style scoped>\n",
       "    .dataframe tbody tr th:only-of-type {\n",
       "        vertical-align: middle;\n",
       "    }\n",
       "\n",
       "    .dataframe tbody tr th {\n",
       "        vertical-align: top;\n",
       "    }\n",
       "\n",
       "    .dataframe thead th {\n",
       "        text-align: right;\n",
       "    }\n",
       "</style>\n",
       "<table border=\"1\" class=\"dataframe\">\n",
       "  <thead>\n",
       "    <tr style=\"text-align: right;\">\n",
       "      <th></th>\n",
       "      <th>BHK</th>\n",
       "      <th>Size</th>\n",
       "      <th>Area Type</th>\n",
       "      <th>Area Locality</th>\n",
       "      <th>City</th>\n",
       "      <th>Furnishing Status</th>\n",
       "      <th>Tenant Preferred</th>\n",
       "      <th>Bathroom</th>\n",
       "      <th>Point of Contact</th>\n",
       "      <th>floor on</th>\n",
       "      <th>floor total</th>\n",
       "      <th>month</th>\n",
       "      <th>DOW</th>\n",
       "    </tr>\n",
       "  </thead>\n",
       "  <tbody>\n",
       "    <tr>\n",
       "      <th>1698</th>\n",
       "      <td>2</td>\n",
       "      <td>1000</td>\n",
       "      <td>2</td>\n",
       "      <td>322</td>\n",
       "      <td>0</td>\n",
       "      <td>1</td>\n",
       "      <td>1</td>\n",
       "      <td>2</td>\n",
       "      <td>2</td>\n",
       "      <td>3</td>\n",
       "      <td>4</td>\n",
       "      <td>6</td>\n",
       "      <td>5</td>\n",
       "    </tr>\n",
       "    <tr>\n",
       "      <th>3924</th>\n",
       "      <td>2</td>\n",
       "      <td>200</td>\n",
       "      <td>1</td>\n",
       "      <td>460</td>\n",
       "      <td>3</td>\n",
       "      <td>2</td>\n",
       "      <td>0</td>\n",
       "      <td>2</td>\n",
       "      <td>2</td>\n",
       "      <td>0</td>\n",
       "      <td>1</td>\n",
       "      <td>5</td>\n",
       "      <td>1</td>\n",
       "    </tr>\n",
       "    <tr>\n",
       "      <th>4375</th>\n",
       "      <td>2</td>\n",
       "      <td>1200</td>\n",
       "      <td>2</td>\n",
       "      <td>255</td>\n",
       "      <td>3</td>\n",
       "      <td>2</td>\n",
       "      <td>0</td>\n",
       "      <td>2</td>\n",
       "      <td>2</td>\n",
       "      <td>2</td>\n",
       "      <td>2</td>\n",
       "      <td>5</td>\n",
       "      <td>1</td>\n",
       "    </tr>\n",
       "    <tr>\n",
       "      <th>3910</th>\n",
       "      <td>2</td>\n",
       "      <td>1140</td>\n",
       "      <td>2</td>\n",
       "      <td>1412</td>\n",
       "      <td>3</td>\n",
       "      <td>1</td>\n",
       "      <td>1</td>\n",
       "      <td>2</td>\n",
       "      <td>2</td>\n",
       "      <td>3</td>\n",
       "      <td>4</td>\n",
       "      <td>6</td>\n",
       "      <td>4</td>\n",
       "    </tr>\n",
       "    <tr>\n",
       "      <th>3864</th>\n",
       "      <td>2</td>\n",
       "      <td>1000</td>\n",
       "      <td>2</td>\n",
       "      <td>423</td>\n",
       "      <td>1</td>\n",
       "      <td>2</td>\n",
       "      <td>1</td>\n",
       "      <td>2</td>\n",
       "      <td>2</td>\n",
       "      <td>2</td>\n",
       "      <td>3</td>\n",
       "      <td>5</td>\n",
       "      <td>0</td>\n",
       "    </tr>\n",
       "  </tbody>\n",
       "</table>\n",
       "</div>"
      ],
      "text/plain": [
       "      BHK  Size  Area Type  Area Locality  City  Furnishing Status  \\\n",
       "1698    2  1000          2            322     0                  1   \n",
       "3924    2   200          1            460     3                  2   \n",
       "4375    2  1200          2            255     3                  2   \n",
       "3910    2  1140          2           1412     3                  1   \n",
       "3864    2  1000          2            423     1                  2   \n",
       "\n",
       "      Tenant Preferred  Bathroom  Point of Contact  floor on  floor total  \\\n",
       "1698                 1         2                 2         3            4   \n",
       "3924                 0         2                 2         0            1   \n",
       "4375                 0         2                 2         2            2   \n",
       "3910                 1         2                 2         3            4   \n",
       "3864                 1         2                 2         2            3   \n",
       "\n",
       "      month  DOW  \n",
       "1698      6    5  \n",
       "3924      5    1  \n",
       "4375      5    1  \n",
       "3910      6    4  \n",
       "3864      5    0  "
      ]
     },
     "execution_count": 31,
     "metadata": {},
     "output_type": "execute_result"
    }
   ],
   "source": [
    "Xmod_train = X_train.drop(['Posted On','Floor','year'], axis = 1)\n",
    "\n",
    "Xmod_test = X_test.drop(['Posted On','Floor','year'], axis = 1)\n",
    "\n",
    "Xmod_train.head()"
   ]
  },
  {
   "cell_type": "markdown",
   "id": "797f681b",
   "metadata": {},
   "source": [
    "## Feature Extraction"
   ]
  },
  {
   "cell_type": "code",
   "execution_count": 32,
   "id": "6b434e92",
   "metadata": {},
   "outputs": [],
   "source": [
    "### train model is built to iterate through the variables when performing stepwise regression\n",
    "def train_model(variables):\n",
    "    if len(variables) == 0:\n",
    "        return None\n",
    "    ### Building linear regression\n",
    "    Model = LinearRegression()\n",
    "    Model.fit(Xmod_train[variables], y_train)\n",
    "    ### Returning the model fit with X amount of variables\n",
    "    return Model\n",
    "\n",
    "### Score model calculates the AIC of the models in order to choose the best variables based off of AIC\n",
    "def score_model(Model, variables):\n",
    "    if len(variables) == 0:\n",
    "        return AIC_score(y_train, [y_train.mean()] * len(y_train), Model, df = 1)\n",
    "    return AIC_score(y_train, Model.predict(Xmod_train[variables]), Model)"
   ]
  },
  {
   "cell_type": "code",
   "execution_count": 33,
   "id": "8400bb9d",
   "metadata": {},
   "outputs": [
    {
     "name": "stdout",
     "output_type": "stream",
     "text": [
      "Variables: BHK, Size, Area Type, Area Locality, City, Furnishing Status, Tenant Preferred, Bathroom, Point of Contact, floor on, floor total, month, DOW\n",
      "Start: score=82714.61, constant\n",
      "Step: score=81423.82, add Bathroom\n",
      "Step: score=81058.38, add floor total\n",
      "Step: score=80869.84, add Size\n",
      "Step: score=80687.18, add City\n",
      "Step: score=80609.16, add Point of Contact\n",
      "Step: score=80583.89, add Furnishing Status\n",
      "Step: score=80571.13, add month\n",
      "Step: score=80568.30, add Area Locality\n",
      "Step: score=80565.19, add floor on\n",
      "Step: score=80563.48, add DOW\n",
      "Step: score=80561.58, add Area Type\n",
      "Step: score=80561.58, unchanged None\n",
      "['Bathroom', 'floor total', 'Size', 'City', 'Point of Contact', 'Furnishing Status', 'month', 'Area Locality', 'floor on', 'DOW', 'Area Type']\n"
     ]
    }
   ],
   "source": [
    "### Using Stepwise selection to extract the best variables\n",
    "best_model, best_variables = stepwise_selection(Xmod_train.columns, train_model, score_model,\n",
    "                                               verbose = True)\n",
    "print(best_variables)"
   ]
  },
  {
   "cell_type": "code",
   "execution_count": 34,
   "id": "afa997a9",
   "metadata": {},
   "outputs": [],
   "source": [
    "sub_X_train = Xmod_train[['Bathroom','Size', \n",
    "                          'City','Point of Contact',\n",
    "                          'Furnishing Status','month',\n",
    "                          'Area Locality','floor on',\n",
    "                          'DOW','Area Type']]\n",
    "\n",
    "sub_X_test = Xmod_test[['Bathroom','Size', \n",
    "                        'City','Point of Contact',\n",
    "                        'Furnishing Status','month',\n",
    "                        'Area Locality','floor on',\n",
    "                        'DOW','Area Type']]"
   ]
  },
  {
   "cell_type": "markdown",
   "id": "c94d5d41",
   "metadata": {},
   "source": [
    "## Model Construction"
   ]
  },
  {
   "cell_type": "markdown",
   "id": "e515b354",
   "metadata": {},
   "source": [
    "### Random Forest Regressor"
   ]
  },
  {
   "cell_type": "markdown",
   "id": "cd533ef5",
   "metadata": {},
   "source": [
    "#### Full Dataset"
   ]
  },
  {
   "cell_type": "code",
   "execution_count": 35,
   "id": "245b2b51",
   "metadata": {},
   "outputs": [
    {
     "name": "stdout",
     "output_type": "stream",
     "text": [
      "\n",
      "Best Score: 0.6981481510631657\n",
      "\n",
      "General Parameters: {'max_depth': 15, 'min_impurity_decrease': 0, 'min_samples_split': 20}\n"
     ]
    }
   ],
   "source": [
    "rf_param_grid = {\n",
    "    'max_depth': [5,10,15,20],\n",
    "    'min_impurity_decrease': [0,0.001,0.005,0.01],\n",
    "    'min_samples_split': [10,20,30,40,50]\n",
    "}\n",
    "### Using GridSearch Cross Validation to identify best parameters\n",
    "rf_search = GridSearchCV(RandomForestRegressor(random_state = 33), rf_param_grid, cv = 10, \n",
    "                          n_jobs = -1, return_train_score = True)\n",
    "\n",
    "rf_search.fit(Xmod_train, y_train)\n",
    "print('\\nBest Score:', rf_search.best_score_)\n",
    "print('\\nGeneral Parameters:', rf_search.best_params_)"
   ]
  },
  {
   "cell_type": "code",
   "execution_count": 36,
   "id": "07208da3",
   "metadata": {},
   "outputs": [
    {
     "name": "stdout",
     "output_type": "stream",
     "text": [
      "\n",
      "Best Score: 0.6994364359399143\n",
      "\n",
      "General Parameters: {'max_depth': 13, 'min_impurity_decrease': 0, 'min_samples_split': 23}\n"
     ]
    }
   ],
   "source": [
    "rrf_param_grid = {\n",
    "    'max_depth': [10,11,12,13,14,15,16,17,18,19],\n",
    "    'min_impurity_decrease': [0,0.001,0.005,0.01],\n",
    "    'min_samples_split': [17,18,19,20,21,22,23]\n",
    "}\n",
    "### Using GridSearch Cross Validation to identify best parameters\n",
    "rrf_search = GridSearchCV(RandomForestRegressor(random_state = 33), rrf_param_grid, cv = 10, \n",
    "                          n_jobs = -1, return_train_score = True)\n",
    "\n",
    "rrf_search.fit(Xmod_train, y_train)\n",
    "print('\\nBest Score:', rrf_search.best_score_)\n",
    "print('\\nGeneral Parameters:', rrf_search.best_params_)"
   ]
  },
  {
   "cell_type": "code",
   "execution_count": 39,
   "id": "c84ec51a",
   "metadata": {},
   "outputs": [
    {
     "name": "stdout",
     "output_type": "stream",
     "text": [
      "\n",
      "Regression statistics\n",
      "\n",
      "                      Mean Error (ME) : 2912.6864\n",
      "       Root Mean Squared Error (RMSE) : 95028.1241\n",
      "            Mean Absolute Error (MAE) : 12915.7051\n",
      "          Mean Percentage Error (MPE) : -19.1178\n",
      "Mean Absolute Percentage Error (MAPE) : 36.1443\n",
      "\n",
      "\n",
      "r2 Score: 0.21120062429597786\n"
     ]
    }
   ],
   "source": [
    "### Building Random Forest Model based off of parameters\n",
    "rf = RandomForestRegressor(max_depth = 13, min_impurity_decrease = 0, \n",
    "                            min_samples_split = 23, random_state = 33).fit(Xmod_train, y_train)\n",
    "\n",
    "### rsquared score\n",
    "regressionSummary(y_test, rf.predict(Xmod_test))\n",
    "print('\\n')\n",
    "print('r2 Score:', r2_score(y_test, rf.predict(Xmod_test)))"
   ]
  },
  {
   "cell_type": "code",
   "execution_count": 40,
   "id": "59cc160d",
   "metadata": {},
   "outputs": [
    {
     "data": {
      "image/png": "[encoded data removed]",
      "text/plain": [
       "<Figure size 864x432 with 1 Axes>"
      ]
     },
     "metadata": {
      "needs_background": "light"
     },
     "output_type": "display_data"
    }
   ],
   "source": [
    "### Looking at the most important features for selection\n",
    "feature_names = Xmod_train.columns\n",
    "importances = rf.feature_importances_\n",
    "std = np.std([tree.feature_importances_ for tree in rf.estimators_], axis=0)\n",
    "\n",
    "forest_importances = pd.Series(importances, index=feature_names)\n",
    "\n",
    "fig, ax = plt.subplots(figsize=(12,6))\n",
    "forest_importances.plot.bar(yerr=std, ax=ax)\n",
    "ax.set_title(\"Feature importances\")\n",
    "ax.set_ylabel(\"Mean Decrease in Impurity\")\n",
    "plt.show()"
   ]
  },
  {
   "cell_type": "markdown",
   "id": "b236bc2d",
   "metadata": {},
   "source": [
    "#### Subset Dataset Modeling"
   ]
  },
  {
   "cell_type": "code",
   "execution_count": 41,
   "id": "1bae4ac7",
   "metadata": {},
   "outputs": [
    {
     "name": "stdout",
     "output_type": "stream",
     "text": [
      "\n",
      "Best Score: 0.6999952234012795\n",
      "\n",
      "General Parameters: {'max_depth': 15, 'min_impurity_decrease': 0, 'min_samples_split': 20}\n"
     ]
    }
   ],
   "source": [
    "srf_param_grid = {\n",
    "    'max_depth': [5,10,15,20],\n",
    "    'min_impurity_decrease': [0,0.001,0.005,0.01],\n",
    "    'min_samples_split': [10,20,30,40,50]\n",
    "}\n",
    "### Using GridSearch Cross Validation to identify best parameters\n",
    "srf_search = GridSearchCV(RandomForestRegressor(random_state = 33), srf_param_grid, cv = 10, \n",
    "                          n_jobs = -1, return_train_score = True)\n",
    "\n",
    "srf_search.fit(sub_X_train, y_train)\n",
    "print('\\nBest Score:', srf_search.best_score_)\n",
    "print('\\nGeneral Parameters:', srf_search.best_params_)"
   ]
  },
  {
   "cell_type": "code",
   "execution_count": 42,
   "id": "b3622096",
   "metadata": {},
   "outputs": [
    {
     "name": "stdout",
     "output_type": "stream",
     "text": [
      "\n",
      "Best Score: 0.7012834727133469\n",
      "\n",
      "General Parameters: {'max_depth': 14, 'min_impurity_decrease': 0, 'min_samples_split': 18}\n"
     ]
    }
   ],
   "source": [
    "srrf_param_grid = {\n",
    "    'max_depth': [10,11,12,13,14,15,16,17,18,19],\n",
    "    'min_impurity_decrease': [0,0.001,0.005,0.01],\n",
    "    'min_samples_split': [17,18,19,20,21,22,23,24]\n",
    "}\n",
    "### Using GridSearch Cross Validation to identify best parameters\n",
    "srrf_search = GridSearchCV(RandomForestRegressor(random_state = 33), srrf_param_grid, cv = 10, \n",
    "                           n_jobs = -1, return_train_score = True)\n",
    "\n",
    "srrf_search.fit(sub_X_train, y_train)\n",
    "print('\\nBest Score:', srrf_search.best_score_)\n",
    "print('\\nGeneral Parameters:', srrf_search.best_params_)"
   ]
  },
  {
   "cell_type": "code",
   "execution_count": 43,
   "id": "72ddcdb3",
   "metadata": {},
   "outputs": [
    {
     "name": "stdout",
     "output_type": "stream",
     "text": [
      "\n",
      "Regression statistics\n",
      "\n",
      "                      Mean Error (ME) : 2825.6717\n",
      "       Root Mean Squared Error (RMSE) : 95053.2341\n",
      "            Mean Absolute Error (MAE) : 12864.6708\n",
      "          Mean Percentage Error (MPE) : -19.4581\n",
      "Mean Absolute Percentage Error (MAPE) : 36.5744\n",
      "\n",
      "\n",
      "r2 Score: 0.2107837097024522\n"
     ]
    }
   ],
   "source": [
    "### Building Random Forest Model based off of parameters\n",
    "sub_rf = RandomForestRegressor(max_depth = 14, min_impurity_decrease = 0, \n",
    "                               min_samples_split = 18, random_state = 33).fit(sub_X_train, y_train)\n",
    "\n",
    "### rsquared score\n",
    "regressionSummary(y_test, sub_rf.predict(sub_X_test))\n",
    "print('\\n')\n",
    "print('r2 Score:', r2_score(y_test, sub_rf.predict(sub_X_test)))"
   ]
  },
  {
   "cell_type": "markdown",
   "id": "e829c40e",
   "metadata": {},
   "source": [
    "### MLP Regressor"
   ]
  },
  {
   "cell_type": "markdown",
   "id": "0ad56647",
   "metadata": {},
   "source": [
    "#### Full Dataset"
   ]
  },
  {
   "cell_type": "code",
   "execution_count": 187,
   "id": "433faf15",
   "metadata": {},
   "outputs": [
    {
     "name": "stderr",
     "output_type": "stream",
     "text": [
      "c:\\Users\\whitm\\anaconda3\\envs\\ads505\\lib\\site-packages\\sklearn\\model_selection\\_search.py:925: UserWarning: One or more of the test scores are non-finite: [ 4.90118077e-001              nan  4.97700739e-001              nan\n",
      "  4.52705986e-001              nan  4.58656973e-001              nan\n",
      " -7.13221732e-002 -1.27122544e-002 -7.74630252e-003              nan\n",
      " -1.10120024e-002              nan -5.66649688e-002              nan\n",
      " -1.29598159e-001 -2.62180484e-001 -4.15032821e-002              nan\n",
      " -2.48606605e-002              nan -1.50982733e-002              nan\n",
      "  6.28355884e-001 -4.20805231e+117  6.02323292e-001 -1.38315686e+152\n",
      "  5.76193642e-001              nan  5.04999738e-001              nan]\n",
      "  category=UserWarning\n"
     ]
    },
    {
     "name": "stdout",
     "output_type": "stream",
     "text": [
      "\n",
      "General Parameters: {'activation': 'relu', 'learning_rate_init': 0.01, 'solver': 'adam'}\n"
     ]
    }
   ],
   "source": [
    "### Initial gridsearch looking for activation // solver tune\n",
    "mlp_param_grid = {\n",
    "    'activation': ['identity', 'logistic', 'tanh', 'relu'],\n",
    "    'solver': ['adam','sgd'], \n",
    "    'learning_rate_init': [0.01, 0.05, 0.075, 0.1]\n",
    "}\n",
    "\n",
    "mlp_search = GridSearchCV(MLPRegressor(random_state = 33, batch_size = 64, max_iter = 2000), mlp_param_grid, \n",
    "                          cv = 10, n_jobs = -1)\n",
    "\n",
    "mlp_search.fit(Xmod_train, y_train)\n",
    "print('\\nGeneral Parameters:', mlp_search.best_params_)"
   ]
  },
  {
   "cell_type": "code",
   "execution_count": 188,
   "id": "18697461",
   "metadata": {},
   "outputs": [
    {
     "name": "stdout",
     "output_type": "stream",
     "text": [
      "\n",
      "General Parameters: {'alpha': 0.001, 'hidden_layer_sizes': 50}\n"
     ]
    }
   ],
   "source": [
    "### GridSearching hyperparameters\n",
    "rmlp_param_grid = {\n",
    "    'hidden_layer_sizes': [20, 30, 40, 50, 60, 70, 80, 90, 100],\n",
    "    'alpha': [0.0001, 0.001, 0.005, 0.01, 0.1]\n",
    "}\n",
    "\n",
    "rmlp_search = GridSearchCV(MLPRegressor(activation = 'relu', solver = 'adam', \n",
    "                                       learning_rate_init = 0.01, batch_size = 64, \n",
    "                                       max_iter = 2000, random_state = 33), \n",
    "                           rmlp_param_grid, cv = 10, n_jobs = -1)\n",
    "\n",
    "rmlp_search.fit(Xmod_train, y_train)\n",
    "print('\\nGeneral Parameters:', rmlp_search.best_params_)"
   ]
  },
  {
   "cell_type": "code",
   "execution_count": 189,
   "id": "056bf78c",
   "metadata": {},
   "outputs": [
    {
     "name": "stdout",
     "output_type": "stream",
     "text": [
      "\n",
      "General Parameters: {'hidden_layer_sizes': 51}\n"
     ]
    }
   ],
   "source": [
    "### Final GridSearch for minute adjustments\n",
    "cls_param_grid = {\n",
    "    'hidden_layer_sizes': [45,46,47,48,49,50,51,52,53,54]\n",
    "}\n",
    "\n",
    "cls_search = GridSearchCV(MLPRegressor(activation = 'relu', solver = 'adam', alpha = 0.001, \n",
    "                                       learning_rate_init = 0.01, batch_size = 64, \n",
    "                                       max_iter = 2000, random_state = 33), \n",
    "                          cls_param_grid, cv = 10, n_jobs = -1)\n",
    "\n",
    "cls_search.fit(Xmod_train, y_train)\n",
    "print('\\nGeneral Parameters:', cls_search.best_params_)"
   ]
  },
  {
   "cell_type": "code",
   "execution_count": 190,
   "id": "e1fea627",
   "metadata": {},
   "outputs": [
    {
     "name": "stdout",
     "output_type": "stream",
     "text": [
      "\n",
      "r2 Score: 0.1280210129784498\n",
      "\n",
      "\n",
      "\n",
      "Regression statistics\n",
      "\n",
      "                      Mean Error (ME) : 5184.0458\n",
      "       Root Mean Squared Error (RMSE) : 99912.9742\n",
      "            Mean Absolute Error (MAE) : 22844.3919\n",
      "          Mean Percentage Error (MPE) : -26.0356\n",
      "Mean Absolute Percentage Error (MAPE) : 68.1489\n"
     ]
    },
    {
     "name": "stderr",
     "output_type": "stream",
     "text": [
      "c:\\Users\\whitm\\anaconda3\\envs\\ads505\\lib\\site-packages\\sklearn\\neural_network\\_multilayer_perceptron.py:617: ConvergenceWarning: Stochastic Optimizer: Maximum iterations (2000) reached and the optimization hasn't converged yet.\n",
      "  % self.max_iter, ConvergenceWarning)\n"
     ]
    }
   ],
   "source": [
    "### Building the final subset predictor model\n",
    "mlp = MLPRegressor(activation = 'relu', solver = 'adam', \n",
    "                   alpha = 0.01, hidden_layer_sizes = 51, \n",
    "                   batch_size = 64, max_iter = 2000, \n",
    "                   random_state = 33).fit(Xmod_train, y_train)\n",
    "\n",
    "\n",
    "print('\\nr2 Score:', r2_score(y_test, mlp.predict(Xmod_test)))\n",
    "print('\\n')\n",
    "regressionSummary(y_test, mlp.predict(Xmod_test))"
   ]
  },
  {
   "cell_type": "markdown",
   "id": "feb832b5",
   "metadata": {},
   "source": [
    "#### Stepwise Subset"
   ]
  },
  {
   "cell_type": "code",
   "execution_count": 52,
   "id": "5dab00e5",
   "metadata": {},
   "outputs": [
    {
     "name": "stderr",
     "output_type": "stream",
     "text": [
      "C:\\Users\\whitm\\anaconda3\\envs\\ads505\\lib\\site-packages\\sklearn\\model_selection\\_search.py:925: UserWarning: One or more of the test scores are non-finite: [ 5.09619670e-001              nan  4.86983317e-001              nan\n",
      "  5.01619261e-001              nan  4.71781644e-001              nan\n",
      " -1.14589243e-001 -1.29895023e-001 -6.41154060e-003              nan\n",
      " -1.14302200e-002              nan -2.20767880e-002              nan\n",
      " -1.13938689e-001 -1.25651746e-001 -7.63533770e-002              nan\n",
      " -2.80809767e-002              nan -1.77898367e-002              nan\n",
      "  6.59787492e-001 -6.18976109e+077  5.64086898e-001 -1.16323610e+114\n",
      "  5.53439675e-001 -3.57809097e-003  5.43357012e-001 -4.54359189e+010]\n",
      "  category=UserWarning\n"
     ]
    },
    {
     "name": "stdout",
     "output_type": "stream",
     "text": [
      "\n",
      "General Parameters: {'activation': 'relu', 'learning_rate_init': 0.01, 'solver': 'adam'}\n"
     ]
    }
   ],
   "source": [
    "### Initial gridsearch looking for activation // solver tune\n",
    "smlp_param_grid = {\n",
    "    'activation': ['identity', 'logistic', 'tanh', 'relu'],\n",
    "    'solver': ['adam','sgd'], \n",
    "    'learning_rate_init': [0.01, 0.05, 0.075, 0.1]\n",
    "}\n",
    "\n",
    "smlp_search = GridSearchCV(MLPRegressor(random_state = 33, batch_size = 64, max_iter = 2000), smlp_param_grid, \n",
    "                          cv = 10, n_jobs = -1)\n",
    "\n",
    "smlp_search.fit(sub_X_train, y_train)\n",
    "print('\\nGeneral Parameters:', smlp_search.best_params_)"
   ]
  },
  {
   "cell_type": "code",
   "execution_count": 191,
   "id": "706feae6",
   "metadata": {},
   "outputs": [
    {
     "name": "stdout",
     "output_type": "stream",
     "text": [
      "\n",
      "General Parameters: {'alpha': 0.005, 'hidden_layer_sizes': 70}\n"
     ]
    }
   ],
   "source": [
    "### GridSearching hyperparameters\n",
    "srmlp_param_grid = {\n",
    "    'hidden_layer_sizes': [20, 30, 40, 50, 60, 70, 80, 90, 100],\n",
    "    'alpha': [0.0001, 0.001, 0.005, 0.01, 0.1]\n",
    "}\n",
    "\n",
    "srmlp_search = GridSearchCV(MLPRegressor(activation = 'relu', solver = 'adam', \n",
    "                                       learning_rate_init = 0.01, batch_size = 64, \n",
    "                                       max_iter = 2000, random_state = 33), \n",
    "                           srmlp_param_grid, cv = 10, n_jobs = -1)\n",
    "\n",
    "srmlp_search.fit(sub_X_train, y_train)\n",
    "print('\\nGeneral Parameters:', srmlp_search.best_params_)"
   ]
  },
  {
   "cell_type": "code",
   "execution_count": 54,
   "id": "8570044d",
   "metadata": {},
   "outputs": [
    {
     "name": "stdout",
     "output_type": "stream",
     "text": [
      "\n",
      "General Parameters: {'hidden_layer_sizes': 100}\n"
     ]
    }
   ],
   "source": [
    "### Final GridSearch for minute adjustments\n",
    "scls_param_grid = {\n",
    "    'hidden_layer_sizes': [95,96,97,98,99,100,101,102,103,104]\n",
    "}\n",
    "\n",
    "scls_search = GridSearchCV(MLPRegressor(activation = 'relu', solver = 'adam', alpha = 0.001, \n",
    "                                        learning_rate_init = 0.01, batch_size = 64, \n",
    "                                        max_iter = 2000, random_state = 33), \n",
    "                           scls_param_grid, cv = 10, n_jobs = -1)\n",
    "\n",
    "scls_search.fit(sub_X_train, y_train)\n",
    "print('\\nGeneral Parameters:', scls_search.best_params_)"
   ]
  },
  {
   "cell_type": "code",
   "execution_count": 192,
   "id": "4af9a27d",
   "metadata": {},
   "outputs": [
    {
     "name": "stdout",
     "output_type": "stream",
     "text": [
      "\n",
      "r2 Score: 0.17235195816673987\n",
      "\n",
      "\n",
      "\n",
      "Regression statistics\n",
      "\n",
      "                      Mean Error (ME) : 2453.2894\n",
      "       Root Mean Squared Error (RMSE) : 97340.0855\n",
      "            Mean Absolute Error (MAE) : 17264.1821\n",
      "          Mean Percentage Error (MPE) : -17.1280\n",
      "Mean Absolute Percentage Error (MAPE) : 53.4692\n"
     ]
    }
   ],
   "source": [
    "### Building the final subset predictor model\n",
    "sub_mlp = MLPRegressor(activation = 'relu', solver = 'adam', \n",
    "                       alpha = 0.001, hidden_layer_sizes = 100, \n",
    "                       batch_size = 64, max_iter = 2000, \n",
    "                       random_state = 33).fit(sub_X_train, y_train)\n",
    "\n",
    "\n",
    "print('\\nr2 Score:', r2_score(y_test, sub_mlp.predict(sub_X_test)))\n",
    "print('\\n')\n",
    "regressionSummary(y_test, sub_mlp.predict(sub_X_test))"
   ]
  },
  {
   "cell_type": "markdown",
   "id": "22edc794",
   "metadata": {},
   "source": [
    "### Logistic Regression"
   ]
  },
  {
   "cell_type": "markdown",
   "id": "29bb6108",
   "metadata": {},
   "source": [
    "#### Full Dataset"
   ]
  },
  {
   "cell_type": "code",
   "execution_count": 30,
   "id": "b6f22640",
   "metadata": {},
   "outputs": [
    {
     "name": "stdout",
     "output_type": "stream",
     "text": [
      "\n",
      "r2 Score: -0.4595897782191567\n",
      "\n",
      "\n",
      "\n",
      "Regression statistics\n",
      "\n",
      "                      Mean Error (ME) : -20329.1538\n",
      "       Root Mean Squared Error (RMSE) : 129265.9922\n",
      "            Mean Absolute Error (MAE) : 43246.7521\n",
      "          Mean Percentage Error (MPE) : -147.3422\n",
      "Mean Absolute Percentage Error (MAPE) : 177.8186\n"
     ]
    }
   ],
   "source": [
    "logreg_full = LogisticRegression(penalty=\"l2\", C=1e42, solver='liblinear', max_iter = 500, random_state = 33)\n",
    "logreg_full.fit(Xmod_train, y_train)\n",
    "\n",
    "print('\\nr2 Score:', r2_score(y_test, logreg_full.predict(Xmod_test)))\n",
    "print('\\n')\n",
    "regressionSummary(y_test, logreg_full.predict(Xmod_test))"
   ]
  },
  {
   "cell_type": "markdown",
   "id": "750e8486",
   "metadata": {},
   "source": [
    "#### Subset Dataset"
   ]
  },
  {
   "cell_type": "code",
   "execution_count": 31,
   "id": "a2e8c3b8",
   "metadata": {},
   "outputs": [
    {
     "name": "stdout",
     "output_type": "stream",
     "text": [
      "\n",
      "r2 Score: -0.005538622716809716\n",
      "\n",
      "\n",
      "\n",
      "Regression statistics\n",
      "\n",
      "                      Mean Error (ME) : 9056.0007\n",
      "       Root Mean Squared Error (RMSE) : 107292.2260\n",
      "            Mean Absolute Error (MAE) : 20868.8771\n",
      "          Mean Percentage Error (MPE) : -6.8088\n",
      "Mean Absolute Percentage Error (MAPE) : 48.0440\n"
     ]
    }
   ],
   "source": [
    "logreg_sub = LogisticRegression(penalty=\"l2\", C=1e42, solver='liblinear', max_iter = 500, random_state = 33)\n",
    "logreg_sub.fit(sub_X_train, y_train)\n",
    "\n",
    "print('\\nr2 Score:', r2_score(y_test, logreg_sub.predict(sub_X_test)))\n",
    "print('\\n')\n",
    "regressionSummary(y_test, logreg_sub.predict(sub_X_test))"
   ]
  },
  {
   "cell_type": "markdown",
   "id": "d09a860b",
   "metadata": {},
   "source": [
    "### XGBoost"
   ]
  },
  {
   "cell_type": "markdown",
   "id": "4bd1e4d2",
   "metadata": {},
   "source": [
    "#### Full Dataset"
   ]
  },
  {
   "cell_type": "code",
   "execution_count": 21,
   "id": "b3a531e7",
   "metadata": {},
   "outputs": [
    {
     "name": "stdout",
     "output_type": "stream",
     "text": [
      "\n",
      "r2 Score: 0.20403679607862413\n",
      "\n",
      "\n",
      "\n",
      "Regression statistics\n",
      "\n",
      "                      Mean Error (ME) : 2478.2759\n",
      "       Root Mean Squared Error (RMSE) : 95458.6686\n",
      "            Mean Absolute Error (MAE) : 13150.9073\n",
      "          Mean Percentage Error (MPE) : -17.1450\n",
      "Mean Absolute Percentage Error (MAPE) : 38.0624\n"
     ]
    }
   ],
   "source": [
    "xgbr_full = xgb.XGBRegressor(verbosity=0)\n",
    "xgbr_full.fit(Xmod_train, y_train)\n",
    "\n",
    "print('\\nr2 Score:', r2_score(y_test, xgbr_full.predict(Xmod_test)))\n",
    "print('\\n')\n",
    "regressionSummary(y_test, xgbr_full.predict(Xmod_test))"
   ]
  },
  {
   "cell_type": "markdown",
   "id": "54a92d61",
   "metadata": {},
   "source": [
    "#### Subset Dataset"
   ]
  },
  {
   "cell_type": "code",
   "execution_count": null,
   "id": "fee40abb",
   "metadata": {},
   "outputs": [],
   "source": [
    "xgbr_sub = xgb.XGBRegressor(verbosity=0)\n",
    "xgbr_sub.fit(sub_X_train, y_train)\n",
    "\n",
    "print('\\nr2 Score:', r2_score(y_test, xgbr_sub.predict(Xmod_test)))\n",
    "print('\\n')\n",
    "regressionSummary(y_test, xgbr_full.predict(Xmod_test))"
   ]
  }
 ],
 "metadata": {
  "kernelspec": {
   "display_name": "Python 3",
   "language": "python",
   "name": "python3"
  },
  "language_info": {
   "codemirror_mode": {
    "name": "ipython",
    "version": 3
   },
   "file_extension": ".py",
   "mimetype": "text/x-python",
   "name": "python",
   "nbconvert_exporter": "python",
   "pygments_lexer": "ipython3",
   "version": "3.6.13"
  },
  "vscode": {
   "interpreter": {
    "hash": "6cd0ae3ae56250ab841a05c2cdbc98506ebf18c06c086ba2fe4e03d7e89eb58f"
   }
  }
 },
 "nbformat": 4,
 "nbformat_minor": 5
}
