{
 "cells": [
  {
   "cell_type": "markdown",
   "id": "c2f2ad69",
   "metadata": {},
   "source": [
    "<font color='royalblue'><h1> ADS 505 Final Project - Team 2</h1>\n",
    "    <h1> India Housing Rent Prediction</h1>\n",
    "    <h3>Kiran Singh, Lane Whitmore, Mendelina Lopez</h3>\n",
    "    </div>\n",
    "</font>"
   ]
  },
  {
   "cell_type": "code",
   "execution_count": 37,
   "id": "29a0a624",
   "metadata": {},
   "outputs": [],
   "source": [
    "### Package Imports \n",
    "from sklearn.linear_model import LinearRegression\n",
    "from sklearn.model_selection import train_test_split, GridSearchCV\n",
    "from sklearn.preprocessing import MinMaxScaler, StandardScaler, LabelEncoder\n",
    "from sklearn.metrics import mean_squared_error, r2_score\n",
    "from sklearn.ensemble import RandomForestRegressor\n",
    "import matplotlib.pyplot as plt\n",
    "import seaborn as sns\n",
    "import pandas as pd\n",
    "import numpy as np\n",
    "import dmba\n",
    "from dmba import regressionSummary\n",
    "from dmba import adjusted_r2_score, AIC_score, BIC_score\n",
    "from dmba import exhaustive_search\n",
    "from dmba import stepwise_selection, forward_selection, backward_elimination\n",
    "from sklearn.linear_model import LogisticRegression\n",
    "from sklearn.linear_model import LinearRegression\n",
    "from sklearn.svm import SVR\n",
    "from sklearn.tree import DecisionTreeRegressor\n",
    "from sklearn.neural_network import MLPRegressor\n",
    "import itertools\n",
    "from sklearn.metrics.pairwise import haversine_distances\n",
    "from math import radians\n",
    "import xgboost as xgb\n",
    "from sklearn.svm import SVR\n",
    "from sklearn.pipeline import make_pipeline\n",
    "from sklearn.preprocessing import StandardScaler\n",
    "from sklearn.datasets import make_regression\n",
    "from sklearn.ensemble import GradientBoostingRegressor\n",
    "from sklearn.linear_model import SGDRegressor\n",
    "import plotly.graph_objects as go\n",
    "from sklearn.metrics import mean_absolute_error\n",
    "import pickle\n",
    "import warnings\n",
    "import matplotlib.image as mpimg \n",
    "\n",
    "\n",
    "warnings.filterwarnings('ignore')\n",
    "%matplotlib inline"
   ]
  },
  {
   "cell_type": "code",
   "execution_count": 3,
   "id": "74ef1b5c",
   "metadata": {},
   "outputs": [
    {
     "data": {
      "text/html": [
       "<div>\n",
       "<style scoped>\n",
       "    .dataframe tbody tr th:only-of-type {\n",
       "        vertical-align: middle;\n",
       "    }\n",
       "\n",
       "    .dataframe tbody tr th {\n",
       "        vertical-align: top;\n",
       "    }\n",
       "\n",
       "    .dataframe thead th {\n",
       "        text-align: right;\n",
       "    }\n",
       "</style>\n",
       "<table border=\"1\" class=\"dataframe\">\n",
       "  <thead>\n",
       "    <tr style=\"text-align: right;\">\n",
       "      <th></th>\n",
       "      <th>Posted On</th>\n",
       "      <th>BHK</th>\n",
       "      <th>Rent</th>\n",
       "      <th>Size</th>\n",
       "      <th>Floor</th>\n",
       "      <th>Area Type</th>\n",
       "      <th>Area Locality</th>\n",
       "      <th>City</th>\n",
       "      <th>Furnishing Status</th>\n",
       "      <th>Tenant Preferred</th>\n",
       "      <th>Bathroom</th>\n",
       "      <th>Point of Contact</th>\n",
       "    </tr>\n",
       "  </thead>\n",
       "  <tbody>\n",
       "    <tr>\n",
       "      <th>0</th>\n",
       "      <td>2022-05-18</td>\n",
       "      <td>2</td>\n",
       "      <td>10000</td>\n",
       "      <td>1100</td>\n",
       "      <td>Ground out of 2</td>\n",
       "      <td>Super Area</td>\n",
       "      <td>Bandel</td>\n",
       "      <td>Kolkata</td>\n",
       "      <td>Unfurnished</td>\n",
       "      <td>Bachelors/Family</td>\n",
       "      <td>2</td>\n",
       "      <td>Contact Owner</td>\n",
       "    </tr>\n",
       "    <tr>\n",
       "      <th>1</th>\n",
       "      <td>2022-05-13</td>\n",
       "      <td>2</td>\n",
       "      <td>20000</td>\n",
       "      <td>800</td>\n",
       "      <td>1 out of 3</td>\n",
       "      <td>Super Area</td>\n",
       "      <td>Phool Bagan, Kankurgachi</td>\n",
       "      <td>Kolkata</td>\n",
       "      <td>Semi-Furnished</td>\n",
       "      <td>Bachelors/Family</td>\n",
       "      <td>1</td>\n",
       "      <td>Contact Owner</td>\n",
       "    </tr>\n",
       "    <tr>\n",
       "      <th>2</th>\n",
       "      <td>2022-05-16</td>\n",
       "      <td>2</td>\n",
       "      <td>17000</td>\n",
       "      <td>1000</td>\n",
       "      <td>1 out of 3</td>\n",
       "      <td>Super Area</td>\n",
       "      <td>Salt Lake City Sector 2</td>\n",
       "      <td>Kolkata</td>\n",
       "      <td>Semi-Furnished</td>\n",
       "      <td>Bachelors/Family</td>\n",
       "      <td>1</td>\n",
       "      <td>Contact Owner</td>\n",
       "    </tr>\n",
       "    <tr>\n",
       "      <th>3</th>\n",
       "      <td>2022-07-04</td>\n",
       "      <td>2</td>\n",
       "      <td>10000</td>\n",
       "      <td>800</td>\n",
       "      <td>1 out of 2</td>\n",
       "      <td>Super Area</td>\n",
       "      <td>Dumdum Park</td>\n",
       "      <td>Kolkata</td>\n",
       "      <td>Unfurnished</td>\n",
       "      <td>Bachelors/Family</td>\n",
       "      <td>1</td>\n",
       "      <td>Contact Owner</td>\n",
       "    </tr>\n",
       "    <tr>\n",
       "      <th>4</th>\n",
       "      <td>2022-05-09</td>\n",
       "      <td>2</td>\n",
       "      <td>7500</td>\n",
       "      <td>850</td>\n",
       "      <td>1 out of 2</td>\n",
       "      <td>Carpet Area</td>\n",
       "      <td>South Dum Dum</td>\n",
       "      <td>Kolkata</td>\n",
       "      <td>Unfurnished</td>\n",
       "      <td>Bachelors</td>\n",
       "      <td>1</td>\n",
       "      <td>Contact Owner</td>\n",
       "    </tr>\n",
       "  </tbody>\n",
       "</table>\n",
       "</div>"
      ],
      "text/plain": [
       "    Posted On  BHK   Rent  Size            Floor    Area Type  \\\n",
       "0  2022-05-18    2  10000  1100  Ground out of 2   Super Area   \n",
       "1  2022-05-13    2  20000   800       1 out of 3   Super Area   \n",
       "2  2022-05-16    2  17000  1000       1 out of 3   Super Area   \n",
       "3  2022-07-04    2  10000   800       1 out of 2   Super Area   \n",
       "4  2022-05-09    2   7500   850       1 out of 2  Carpet Area   \n",
       "\n",
       "              Area Locality     City Furnishing Status  Tenant Preferred  \\\n",
       "0                    Bandel  Kolkata       Unfurnished  Bachelors/Family   \n",
       "1  Phool Bagan, Kankurgachi  Kolkata    Semi-Furnished  Bachelors/Family   \n",
       "2   Salt Lake City Sector 2  Kolkata    Semi-Furnished  Bachelors/Family   \n",
       "3               Dumdum Park  Kolkata       Unfurnished  Bachelors/Family   \n",
       "4             South Dum Dum  Kolkata       Unfurnished         Bachelors   \n",
       "\n",
       "   Bathroom Point of Contact  \n",
       "0         2    Contact Owner  \n",
       "1         1    Contact Owner  \n",
       "2         1    Contact Owner  \n",
       "3         1    Contact Owner  \n",
       "4         1    Contact Owner  "
      ]
     },
     "execution_count": 3,
     "metadata": {},
     "output_type": "execute_result"
    }
   ],
   "source": [
    "rent = pd.read_csv(r'C:/Users/whitm/OneDrive/Documents/GitHub/Rent_Prediction/House_Rent_Dataset.csv')\n",
    "\n",
    "### Data cleanup will entail splitting dates and addressing categorical variables\n",
    "rent.head()"
   ]
  },
  {
   "cell_type": "markdown",
   "id": "55f5f9fa",
   "metadata": {},
   "source": [
    "A first look at the data immediately shows that the dataset requires Floor and Posted On to be extracted during the pre processing steps. Additionally, there are 6 categorical variables that will require either one hot encoding or label encoders to be applied to them. Further discussion about the issues in the data and how they were addressed with be discussed below. "
   ]
  },
  {
   "cell_type": "markdown",
   "id": "03e361da",
   "metadata": {},
   "source": [
    "<font color='royalblue'>\n",
    "    <h2> Data Pre-Processing</h2>\n",
    "</font>"
   ]
  },
  {
   "cell_type": "markdown",
   "id": "726a37fe",
   "metadata": {},
   "source": [
    "<font color='royalblue'>\n",
    "    <h3> Label Encoding</h3>\n",
    "</font>\n",
    "\n",
    "for Area Type, Locality, City, Furnishing, Tenant Preferred, Point of Contact"
   ]
  },
  {
   "cell_type": "markdown",
   "id": "62954c6d",
   "metadata": {},
   "source": [
    "For the business context to create and deploy an application for consumers to predict rent based off of key characteristics, label encoding will be applied as it is easily deployed. This will have some effects that can be assumed. \n",
    "\n",
    "1. Area locality, due to its massive amount of classes, will be become an absolete variable. This will primarily not be a concern as using one hot encoding would add extreme dimension to the dataset. \n",
    "\n",
    "2. Using One hot encoding follows standards set for the use of linear regression models or linear models. By electing to use label encoding, we will not be forfeiting performance on all models, but making this decision will deprecate performance on linear models. "
   ]
  },
  {
   "cell_type": "code",
   "execution_count": 4,
   "id": "4aff881a",
   "metadata": {},
   "outputs": [],
   "source": [
    "le_areatype = LabelEncoder()\n",
    "rent['Area Type'] = le_areatype.fit_transform(rent['Area Type'])"
   ]
  },
  {
   "cell_type": "code",
   "execution_count": 5,
   "id": "05efbbee",
   "metadata": {},
   "outputs": [],
   "source": [
    "le_arealocality = LabelEncoder()\n",
    "rent['Area Locality'] = le_arealocality.fit_transform(rent['Area Locality'])"
   ]
  },
  {
   "cell_type": "code",
   "execution_count": 6,
   "id": "bf9d44b3",
   "metadata": {},
   "outputs": [],
   "source": [
    "le_city = LabelEncoder()\n",
    "rent['City'] = le_city.fit_transform(rent['City'])"
   ]
  },
  {
   "cell_type": "code",
   "execution_count": 7,
   "id": "c6db51bc",
   "metadata": {},
   "outputs": [],
   "source": [
    "le_furnish = LabelEncoder()\n",
    "rent['Furnishing Status'] = le_furnish.fit_transform(rent['Furnishing Status'])"
   ]
  },
  {
   "cell_type": "code",
   "execution_count": 8,
   "id": "ed64bc77",
   "metadata": {},
   "outputs": [],
   "source": [
    "le_tenant = LabelEncoder()\n",
    "rent['Tenant Preferred'] = le_tenant.fit_transform(rent['Tenant Preferred'])"
   ]
  },
  {
   "cell_type": "code",
   "execution_count": 9,
   "id": "8e10b7b9",
   "metadata": {},
   "outputs": [],
   "source": [
    "le_contact = LabelEncoder()\n",
    "rent['Point of Contact'] = le_contact.fit_transform(rent['Point of Contact'])"
   ]
  },
  {
   "cell_type": "code",
   "execution_count": 10,
   "id": "cf4657a4",
   "metadata": {},
   "outputs": [
    {
     "data": {
      "text/plain": [
       "Posted On            0\n",
       "BHK                  0\n",
       "Rent                 0\n",
       "Size                 0\n",
       "Floor                0\n",
       "Area Type            0\n",
       "Area Locality        0\n",
       "City                 0\n",
       "Furnishing Status    0\n",
       "Tenant Preferred     0\n",
       "Bathroom             0\n",
       "Point of Contact     0\n",
       "dtype: int64"
      ]
     },
     "execution_count": 10,
     "metadata": {},
     "output_type": "execute_result"
    }
   ],
   "source": [
    "### Double checking for null values before splitting the data, expecting to see none. \n",
    "rent.isnull().sum()"
   ]
  },
  {
   "cell_type": "markdown",
   "id": "f58e427e",
   "metadata": {},
   "source": [
    "The label encoding has been successful, and no null variables have been created doing so."
   ]
  },
  {
   "cell_type": "markdown",
   "id": "bd0e52ad",
   "metadata": {},
   "source": [
    "<font color='royalblue'>\n",
    "    <h3> Train / Test Split</h3>\n",
    "</font>"
   ]
  },
  {
   "cell_type": "code",
   "execution_count": 31,
   "id": "1ffeba58",
   "metadata": {},
   "outputs": [
    {
     "name": "stdout",
     "output_type": "stream",
     "text": [
      "\n",
      "Training Set Length: 3322\n",
      "\n",
      "Testing Set Length: 1424\n"
     ]
    }
   ],
   "source": [
    "### Splitting train and test sets before preprocessing\n",
    "train, test = train_test_split(rent, test_size = 0.3, random_state = 33)\n",
    "\n",
    "### Train set predictors & Response\n",
    "X_train = train.drop('Rent', axis = 1)\n",
    "y_train = train['Rent']\n",
    "\n",
    "### Test set predictors & Response\n",
    "X_test = test.drop('Rent', axis = 1)\n",
    "y_test = test['Rent']\n",
    "\n",
    "print('\\nTraining Set Length:', len(train))\n",
    "print('\\nTesting Set Length:', len(test))"
   ]
  },
  {
   "cell_type": "markdown",
   "id": "2f26a438",
   "metadata": {},
   "source": [
    "The dataset has been split 70/30 train/test and now has been split between predictors and reponse variables before moving into EDA and preprocessing. This left a sizable amount of the data to train with and fairly evaluate the models.  "
   ]
  },
  {
   "cell_type": "markdown",
   "id": "54211fe5",
   "metadata": {},
   "source": [
    "<font color='royalblue'>\n",
    "    <h3> Extracting Floor Information</h3>\n",
    "</font>\n",
    "\n",
    "\n",
    "The formulas below extract the numerical values from the Floor predictor creating two predictors that represent the floors the individual is on and the total floors in the building. \n",
    "In the UK and India, the ground floor is referred to as the first floor in the U.S. and first floor in the UK and India is the second floor in the U.S..\n",
    "Therefore, ground floor must be made into 0 and basement has been made into -1.\n",
    "\n",
    "If, else functions have been implemented that target the first 2 numbers in the string for floor on, and the last two for total floors for the apartment or house."
   ]
  },
  {
   "cell_type": "code",
   "execution_count": 13,
   "id": "cae226fe",
   "metadata": {},
   "outputs": [],
   "source": [
    "def clean_flooron(x):\n",
    "    if 'Gr' in str(x[:2]):\n",
    "        return 0\n",
    "    if 'Up' in str(x[:2]):\n",
    "        return -1\n",
    "    if 'Lo' in str(x[:2]):\n",
    "        return -2\n",
    "    else:\n",
    "        return str(x[:2])\n",
    "\n",
    "def clean_floortot(x):\n",
    "    if 'nd' in str(x[-2:]):\n",
    "        return 0\n",
    "    else:\n",
    "        return str(x[-2:])"
   ]
  },
  {
   "cell_type": "code",
   "execution_count": 14,
   "id": "5c06c982",
   "metadata": {},
   "outputs": [
    {
     "data": {
      "text/html": [
       "<div>\n",
       "<style scoped>\n",
       "    .dataframe tbody tr th:only-of-type {\n",
       "        vertical-align: middle;\n",
       "    }\n",
       "\n",
       "    .dataframe tbody tr th {\n",
       "        vertical-align: top;\n",
       "    }\n",
       "\n",
       "    .dataframe thead th {\n",
       "        text-align: right;\n",
       "    }\n",
       "</style>\n",
       "<table border=\"1\" class=\"dataframe\">\n",
       "  <thead>\n",
       "    <tr style=\"text-align: right;\">\n",
       "      <th></th>\n",
       "      <th>Posted On</th>\n",
       "      <th>BHK</th>\n",
       "      <th>Size</th>\n",
       "      <th>Floor</th>\n",
       "      <th>Area Type</th>\n",
       "      <th>Area Locality</th>\n",
       "      <th>City</th>\n",
       "      <th>Furnishing Status</th>\n",
       "      <th>Tenant Preferred</th>\n",
       "      <th>Bathroom</th>\n",
       "      <th>Point of Contact</th>\n",
       "      <th>floor on</th>\n",
       "      <th>floor total</th>\n",
       "    </tr>\n",
       "  </thead>\n",
       "  <tbody>\n",
       "    <tr>\n",
       "      <th>998</th>\n",
       "      <td>2022-07-09</td>\n",
       "      <td>2</td>\n",
       "      <td>900</td>\n",
       "      <td>10 out of 15</td>\n",
       "      <td>2</td>\n",
       "      <td>11</td>\n",
       "      <td>5</td>\n",
       "      <td>2</td>\n",
       "      <td>1</td>\n",
       "      <td>2</td>\n",
       "      <td>0</td>\n",
       "      <td>10</td>\n",
       "      <td>15</td>\n",
       "    </tr>\n",
       "    <tr>\n",
       "      <th>1945</th>\n",
       "      <td>2022-05-14</td>\n",
       "      <td>1</td>\n",
       "      <td>400</td>\n",
       "      <td>Ground out of 3</td>\n",
       "      <td>2</td>\n",
       "      <td>789</td>\n",
       "      <td>0</td>\n",
       "      <td>1</td>\n",
       "      <td>1</td>\n",
       "      <td>1</td>\n",
       "      <td>2</td>\n",
       "      <td>0</td>\n",
       "      <td>3</td>\n",
       "    </tr>\n",
       "    <tr>\n",
       "      <th>1679</th>\n",
       "      <td>2022-06-16</td>\n",
       "      <td>2</td>\n",
       "      <td>1050</td>\n",
       "      <td>1 out of 5</td>\n",
       "      <td>2</td>\n",
       "      <td>756</td>\n",
       "      <td>0</td>\n",
       "      <td>1</td>\n",
       "      <td>1</td>\n",
       "      <td>2</td>\n",
       "      <td>2</td>\n",
       "      <td>1</td>\n",
       "      <td>5</td>\n",
       "    </tr>\n",
       "    <tr>\n",
       "      <th>2579</th>\n",
       "      <td>2022-05-18</td>\n",
       "      <td>3</td>\n",
       "      <td>200</td>\n",
       "      <td>1 out of 4</td>\n",
       "      <td>1</td>\n",
       "      <td>1505</td>\n",
       "      <td>2</td>\n",
       "      <td>1</td>\n",
       "      <td>0</td>\n",
       "      <td>3</td>\n",
       "      <td>0</td>\n",
       "      <td>1</td>\n",
       "      <td>4</td>\n",
       "    </tr>\n",
       "    <tr>\n",
       "      <th>3374</th>\n",
       "      <td>2022-05-06</td>\n",
       "      <td>2</td>\n",
       "      <td>780</td>\n",
       "      <td>1 out of 2</td>\n",
       "      <td>2</td>\n",
       "      <td>1152</td>\n",
       "      <td>1</td>\n",
       "      <td>0</td>\n",
       "      <td>1</td>\n",
       "      <td>2</td>\n",
       "      <td>2</td>\n",
       "      <td>1</td>\n",
       "      <td>2</td>\n",
       "    </tr>\n",
       "  </tbody>\n",
       "</table>\n",
       "</div>"
      ],
      "text/plain": [
       "       Posted On  BHK  Size            Floor  Area Type  Area Locality  City  \\\n",
       "998   2022-07-09    2   900     10 out of 15          2             11     5   \n",
       "1945  2022-05-14    1   400  Ground out of 3          2            789     0   \n",
       "1679  2022-06-16    2  1050       1 out of 5          2            756     0   \n",
       "2579  2022-05-18    3   200       1 out of 4          1           1505     2   \n",
       "3374  2022-05-06    2   780       1 out of 2          2           1152     1   \n",
       "\n",
       "      Furnishing Status  Tenant Preferred  Bathroom  Point of Contact  \\\n",
       "998                   2                 1         2                 0   \n",
       "1945                  1                 1         1                 2   \n",
       "1679                  1                 1         2                 2   \n",
       "2579                  1                 0         3                 0   \n",
       "3374                  0                 1         2                 2   \n",
       "\n",
       "     floor on floor total  \n",
       "998        10          15  \n",
       "1945        0           3  \n",
       "1679       1            5  \n",
       "2579       1            4  \n",
       "3374       1            2  "
      ]
     },
     "execution_count": 14,
     "metadata": {},
     "output_type": "execute_result"
    }
   ],
   "source": [
    "### applying formulas to train and test set\n",
    "X_train['floor on'] = X_train['Floor'].apply(clean_flooron)\n",
    "X_train['floor total'] = X_train['Floor'].apply(clean_floortot)\n",
    "\n",
    "\n",
    "X_test['floor on'] = X_test['Floor'].apply(clean_flooron)\n",
    "X_test['floor total'] = X_test['Floor'].apply(clean_floortot)\n",
    "\n",
    "X_test.head()"
   ]
  },
  {
   "cell_type": "code",
   "execution_count": 15,
   "id": "2ec93571",
   "metadata": {
    "scrolled": true
   },
   "outputs": [
    {
     "data": {
      "text/html": [
       "<div>\n",
       "<style scoped>\n",
       "    .dataframe tbody tr th:only-of-type {\n",
       "        vertical-align: middle;\n",
       "    }\n",
       "\n",
       "    .dataframe tbody tr th {\n",
       "        vertical-align: top;\n",
       "    }\n",
       "\n",
       "    .dataframe thead th {\n",
       "        text-align: right;\n",
       "    }\n",
       "</style>\n",
       "<table border=\"1\" class=\"dataframe\">\n",
       "  <thead>\n",
       "    <tr style=\"text-align: right;\">\n",
       "      <th></th>\n",
       "      <th>Posted On</th>\n",
       "      <th>BHK</th>\n",
       "      <th>Size</th>\n",
       "      <th>Floor</th>\n",
       "      <th>Area Type</th>\n",
       "      <th>Area Locality</th>\n",
       "      <th>City</th>\n",
       "      <th>Furnishing Status</th>\n",
       "      <th>Tenant Preferred</th>\n",
       "      <th>Bathroom</th>\n",
       "      <th>Point of Contact</th>\n",
       "      <th>floor on</th>\n",
       "      <th>floor total</th>\n",
       "      <th>month</th>\n",
       "      <th>year</th>\n",
       "      <th>DOW</th>\n",
       "    </tr>\n",
       "  </thead>\n",
       "  <tbody>\n",
       "    <tr>\n",
       "      <th>1698</th>\n",
       "      <td>2022-06-04</td>\n",
       "      <td>2</td>\n",
       "      <td>1000</td>\n",
       "      <td>3 out of 4</td>\n",
       "      <td>2</td>\n",
       "      <td>322</td>\n",
       "      <td>0</td>\n",
       "      <td>1</td>\n",
       "      <td>1</td>\n",
       "      <td>2</td>\n",
       "      <td>2</td>\n",
       "      <td>3</td>\n",
       "      <td>4</td>\n",
       "      <td>6</td>\n",
       "      <td>2022</td>\n",
       "      <td>5</td>\n",
       "    </tr>\n",
       "    <tr>\n",
       "      <th>3924</th>\n",
       "      <td>2022-05-10</td>\n",
       "      <td>2</td>\n",
       "      <td>200</td>\n",
       "      <td>Ground out of 1</td>\n",
       "      <td>1</td>\n",
       "      <td>460</td>\n",
       "      <td>3</td>\n",
       "      <td>2</td>\n",
       "      <td>0</td>\n",
       "      <td>2</td>\n",
       "      <td>2</td>\n",
       "      <td>0</td>\n",
       "      <td>1</td>\n",
       "      <td>5</td>\n",
       "      <td>2022</td>\n",
       "      <td>1</td>\n",
       "    </tr>\n",
       "    <tr>\n",
       "      <th>4375</th>\n",
       "      <td>2022-05-24</td>\n",
       "      <td>2</td>\n",
       "      <td>1200</td>\n",
       "      <td>2 out of 2</td>\n",
       "      <td>2</td>\n",
       "      <td>255</td>\n",
       "      <td>3</td>\n",
       "      <td>2</td>\n",
       "      <td>0</td>\n",
       "      <td>2</td>\n",
       "      <td>2</td>\n",
       "      <td>2</td>\n",
       "      <td>2</td>\n",
       "      <td>5</td>\n",
       "      <td>2022</td>\n",
       "      <td>1</td>\n",
       "    </tr>\n",
       "    <tr>\n",
       "      <th>3910</th>\n",
       "      <td>2022-06-10</td>\n",
       "      <td>2</td>\n",
       "      <td>1140</td>\n",
       "      <td>3 out of 4</td>\n",
       "      <td>2</td>\n",
       "      <td>1412</td>\n",
       "      <td>3</td>\n",
       "      <td>1</td>\n",
       "      <td>1</td>\n",
       "      <td>2</td>\n",
       "      <td>2</td>\n",
       "      <td>3</td>\n",
       "      <td>4</td>\n",
       "      <td>6</td>\n",
       "      <td>2022</td>\n",
       "      <td>4</td>\n",
       "    </tr>\n",
       "    <tr>\n",
       "      <th>3864</th>\n",
       "      <td>2022-05-16</td>\n",
       "      <td>2</td>\n",
       "      <td>1000</td>\n",
       "      <td>2 out of 3</td>\n",
       "      <td>2</td>\n",
       "      <td>423</td>\n",
       "      <td>1</td>\n",
       "      <td>2</td>\n",
       "      <td>1</td>\n",
       "      <td>2</td>\n",
       "      <td>2</td>\n",
       "      <td>2</td>\n",
       "      <td>3</td>\n",
       "      <td>5</td>\n",
       "      <td>2022</td>\n",
       "      <td>0</td>\n",
       "    </tr>\n",
       "  </tbody>\n",
       "</table>\n",
       "</div>"
      ],
      "text/plain": [
       "      Posted On  BHK  Size            Floor  Area Type  Area Locality  City  \\\n",
       "1698 2022-06-04    2  1000       3 out of 4          2            322     0   \n",
       "3924 2022-05-10    2   200  Ground out of 1          1            460     3   \n",
       "4375 2022-05-24    2  1200       2 out of 2          2            255     3   \n",
       "3910 2022-06-10    2  1140       3 out of 4          2           1412     3   \n",
       "3864 2022-05-16    2  1000       2 out of 3          2            423     1   \n",
       "\n",
       "      Furnishing Status  Tenant Preferred  Bathroom  Point of Contact  \\\n",
       "1698                  1                 1         2                 2   \n",
       "3924                  2                 0         2                 2   \n",
       "4375                  2                 0         2                 2   \n",
       "3910                  1                 1         2                 2   \n",
       "3864                  2                 1         2                 2   \n",
       "\n",
       "     floor on floor total  month  year  DOW  \n",
       "1698       3            4      6  2022    5  \n",
       "3924        0           1      5  2022    1  \n",
       "4375       2            2      5  2022    1  \n",
       "3910       3            4      6  2022    4  \n",
       "3864       2            3      5  2022    0  "
      ]
     },
     "execution_count": 15,
     "metadata": {},
     "output_type": "execute_result"
    }
   ],
   "source": [
    "### Convert obj to datetime\n",
    "X_train['Posted On'] = pd.to_datetime(X_train['Posted On'])\n",
    "X_train['month'] = X_train['Posted On'].dt.month\n",
    "X_train['year'] = X_train['Posted On'].dt.year\n",
    "X_train['DOW'] = X_train['Posted On'].dt.dayofweek\n",
    "\n",
    "X_test['Posted On'] = pd.to_datetime(X_test['Posted On'])\n",
    "X_test['month'] = X_test['Posted On'].dt.month\n",
    "X_test['DOW'] = X_test['Posted On'].dt.dayofweek\n",
    "X_test['year'] = X_test['Posted On'].dt.year\n",
    "\n",
    "X_train.head()"
   ]
  },
  {
   "cell_type": "markdown",
   "id": "a21897a4",
   "metadata": {},
   "source": [
    "The Posted On predictor has been adjusted to represent the month posted, the year posted and the day of the week the listing was posted. In this dataset, all of the listings were posted in the year 2022, this feature will subsequently be dropped prior to modeling. "
   ]
  },
  {
   "cell_type": "code",
   "execution_count": 16,
   "id": "47ce1f06",
   "metadata": {},
   "outputs": [
    {
     "name": "stdout",
     "output_type": "stream",
     "text": [
      "<class 'pandas.core.frame.DataFrame'>\n",
      "Int64Index: 3322 entries, 1698 to 2439\n",
      "Data columns (total 16 columns):\n",
      " #   Column             Non-Null Count  Dtype         \n",
      "---  ------             --------------  -----         \n",
      " 0   Posted On          3322 non-null   datetime64[ns]\n",
      " 1   BHK                3322 non-null   int64         \n",
      " 2   Size               3322 non-null   int64         \n",
      " 3   Floor              3322 non-null   object        \n",
      " 4   Area Type          3322 non-null   int32         \n",
      " 5   Area Locality      3322 non-null   int32         \n",
      " 6   City               3322 non-null   int32         \n",
      " 7   Furnishing Status  3322 non-null   int32         \n",
      " 8   Tenant Preferred   3322 non-null   int32         \n",
      " 9   Bathroom           3322 non-null   int64         \n",
      " 10  Point of Contact   3322 non-null   int32         \n",
      " 11  floor on           3322 non-null   object        \n",
      " 12  floor total        3322 non-null   object        \n",
      " 13  month              3322 non-null   int64         \n",
      " 14  year               3322 non-null   int64         \n",
      " 15  DOW                3322 non-null   int64         \n",
      "dtypes: datetime64[ns](1), int32(6), int64(6), object(3)\n",
      "memory usage: 363.3+ KB\n"
     ]
    }
   ],
   "source": [
    "X_train.info()"
   ]
  },
  {
   "cell_type": "code",
   "execution_count": 17,
   "id": "f0f8d721",
   "metadata": {},
   "outputs": [],
   "source": [
    "X_train[['floor on', 'floor total']] = X_train[['floor on', 'floor total']].astype(int)\n",
    "X_test[['floor on', 'floor total']] = X_test[['floor on', 'floor total']].astype(int)"
   ]
  },
  {
   "cell_type": "markdown",
   "id": "03bd2439",
   "metadata": {},
   "source": [
    "The new floor on and floor total predictors need to be converted from object string to integer now that they have been extracted from Floor."
   ]
  },
  {
   "cell_type": "markdown",
   "id": "3cf1bd6b",
   "metadata": {},
   "source": [
    "<font color='darkgreen'>\n",
    "    <h2> Exploratory Data Analysis </h2>\n",
    "</font>"
   ]
  },
  {
   "cell_type": "markdown",
   "id": "2c958649",
   "metadata": {},
   "source": [
    "<font color='darkgreen'>\n",
    "    <h4> Observing the Value Count of Categorical Variables</h4> \n",
    "</font>"
   ]
  },
  {
   "cell_type": "code",
   "execution_count": 18,
   "id": "b76af706",
   "metadata": {},
   "outputs": [
    {
     "data": {
      "text/plain": [
       "year\n",
       "2022    3322\n",
       "dtype: int64"
      ]
     },
     "execution_count": 18,
     "metadata": {},
     "output_type": "execute_result"
    }
   ],
   "source": [
    "### Year will be a zero variance variable and therefore can be dropped\n",
    "X_train[['year']].value_counts()"
   ]
  },
  {
   "cell_type": "markdown",
   "id": "7bfc55ae",
   "metadata": {},
   "source": [
    "Again, year will be dropped as it is zero variance. "
   ]
  },
  {
   "cell_type": "code",
   "execution_count": 19,
   "id": "ad74245a",
   "metadata": {},
   "outputs": [
    {
     "data": {
      "text/plain": [
       "Area Type\n",
       "2            1688\n",
       "1            1632\n",
       "0               2\n",
       "dtype: int64"
      ]
     },
     "execution_count": 19,
     "metadata": {},
     "output_type": "execute_result"
    }
   ],
   "source": [
    "X_train[['Area Type']].value_counts()"
   ]
  },
  {
   "cell_type": "markdown",
   "id": "01730108",
   "metadata": {},
   "source": [
    "0 class will be kept in for consumers to be able to pick the class during app deployment. "
   ]
  },
  {
   "cell_type": "code",
   "execution_count": 20,
   "id": "b8606f68",
   "metadata": {},
   "outputs": [
    {
     "data": {
      "text/plain": [
       "City\n",
       "5       707\n",
       "1       624\n",
       "0       613\n",
       "3       593\n",
       "2       424\n",
       "4       361\n",
       "dtype: int64"
      ]
     },
     "execution_count": 20,
     "metadata": {},
     "output_type": "execute_result"
    }
   ],
   "source": [
    "X_train[['City']].value_counts()"
   ]
  },
  {
   "cell_type": "code",
   "execution_count": 21,
   "id": "9c98819f",
   "metadata": {},
   "outputs": [
    {
     "data": {
      "text/plain": [
       "Tenant Preferred\n",
       "1                   2392\n",
       "0                    586\n",
       "2                    344\n",
       "dtype: int64"
      ]
     },
     "execution_count": 21,
     "metadata": {},
     "output_type": "execute_result"
    }
   ],
   "source": [
    "X_train[['Tenant Preferred']].value_counts()"
   ]
  },
  {
   "cell_type": "code",
   "execution_count": 32,
   "id": "65aa3f6e",
   "metadata": {
    "scrolled": true
   },
   "outputs": [
    {
     "data": {
      "text/plain": [
       "Point of Contact\n",
       "2                   2226\n",
       "0                   1096\n",
       "dtype: int64"
      ]
     },
     "execution_count": 32,
     "metadata": {},
     "output_type": "execute_result"
    }
   ],
   "source": [
    "X_train[['Point of Contact']].value_counts()"
   ]
  },
  {
   "cell_type": "markdown",
   "id": "e42f0f3e",
   "metadata": {},
   "source": [
    "Within the test set there is a 1 class represented by a single variable, for contact Construction. This will be kept in the dataset to represent unseen future instances of this post deployment. "
   ]
  },
  {
   "cell_type": "code",
   "execution_count": 33,
   "id": "2e8c4769",
   "metadata": {},
   "outputs": [
    {
     "data": {
      "text/plain": [
       "Furnishing Status\n",
       "1                    1560\n",
       "2                    1287\n",
       "0                     475\n",
       "dtype: int64"
      ]
     },
     "execution_count": 33,
     "metadata": {},
     "output_type": "execute_result"
    }
   ],
   "source": [
    "X_train[['Furnishing Status']].value_counts()"
   ]
  },
  {
   "cell_type": "markdown",
   "id": "c7484c7e",
   "metadata": {},
   "source": [
    "<font color='darkgreen'>\n",
    "    <h4> Histogram for Continuous Variables</h4>\n",
    "</font>"
   ]
  },
  {
   "cell_type": "code",
   "execution_count": 23,
   "id": "ea2f6ecd",
   "metadata": {
    "scrolled": false
   },
   "outputs": [
    {
     "data": {
      "image/png": "[encoded data removed]",
      "text/plain": [
       "<Figure size 576x576 with 4 Axes>"
      ]
     },
     "metadata": {
      "needs_background": "light"
     },
     "output_type": "display_data"
    }
   ],
   "source": [
    "fig, axes = plt.subplots(2, 2, figsize=(8,8))\n",
    "sns.histplot(X_train[\"Size\"] , color=\"skyblue\", ax=axes[0,0])\n",
    "sns.histplot(X_train[\"floor total\"] , color=\"olive\", ax=axes[0,1])\n",
    "sns.histplot(X_train[\"floor on\"] , color=\"orange\", ax=axes[1,0])\n",
    "sns.histplot(y_train , color=\"red\", ax=axes[1,1])\n",
    "plt.show()"
   ]
  },
  {
   "cell_type": "markdown",
   "id": "3c0305a6",
   "metadata": {},
   "source": [
    "There is a left skew on all continuous predictors and the response variable rent. This could potentially limit models that assume normal distribution such as logistic regression, linear regression, or sigmoid function. This will likely lead to ensemble methods that implement the use of decision trees rather than linear formulas. "
   ]
  },
  {
   "cell_type": "markdown",
   "id": "57641b73",
   "metadata": {},
   "source": [
    "<font color='darkgreen'>\n",
    "    <h4> Correlation Matrix </h4>\n",
    "</font>"
   ]
  },
  {
   "cell_type": "code",
   "execution_count": 24,
   "id": "2becdf67",
   "metadata": {},
   "outputs": [
    {
     "data": {
      "image/png": "[encoded data removed]",
      "text/plain": [
       "<Figure size 864x864 with 2 Axes>"
      ]
     },
     "metadata": {
      "needs_background": "light"
     },
     "output_type": "display_data"
    }
   ],
   "source": [
    "matrix = pd.concat([X_train, y_train], axis = 1).corr().round(2)\n",
    "plt.figure(figsize=(12,12))\n",
    "sns.heatmap(matrix, annot=True)\n",
    "plt.title('Correlation Heatmap of Variables Under Consideration')\n",
    "plt.show()"
   ]
  },
  {
   "cell_type": "markdown",
   "id": "602a8109",
   "metadata": {},
   "source": [
    "Looking at our confusion matrix, size, bedrooms, and bathrooms all cary a high correlation to one another. Incidentally, they also correlate the highest with the response variable rent. Floor on also highly correlates to floor total. Likely, floor total will make it into the subset for model construction because total floor is more likely to identify expensive homes with low floor counts in addition to finding that tall buildings with massive amount of aparments will be a little cheaper. This can be more logically derived than the use of floor on. "
   ]
  },
  {
   "cell_type": "markdown",
   "id": "71055dd2",
   "metadata": {},
   "source": [
    "<font color='darkgreen'>\n",
    "    <h4> Scatterplots Exploring Relationships </h4>\n",
    "</font>"
   ]
  },
  {
   "cell_type": "code",
   "execution_count": 25,
   "id": "682fa0a3",
   "metadata": {
    "scrolled": true
   },
   "outputs": [
    {
     "data": {
      "image/png": "[encoded data removed]",
      "text/plain": [
       "<Figure size 432x288 with 1 Axes>"
      ]
     },
     "metadata": {
      "needs_background": "light"
     },
     "output_type": "display_data"
    }
   ],
   "source": [
    "plt.scatter(x = X_train['Size'], y = y_train)\n",
    "plt.title('Rent Cost vs. Size in square feet')\n",
    "plt.xlabel('Size')\n",
    "plt.ylabel('Rent')\n",
    "plt.show()"
   ]
  },
  {
   "cell_type": "markdown",
   "id": "f8fe71df",
   "metadata": {},
   "source": [
    "Size and Rent do show a slight relationship that moves to more costly renting options when the size of the building increases. "
   ]
  },
  {
   "cell_type": "code",
   "execution_count": 26,
   "id": "bb1db17c",
   "metadata": {},
   "outputs": [
    {
     "data": {
      "image/png": "[encoded data removed]",
      "text/plain": [
       "<Figure size 432x288 with 1 Axes>"
      ]
     },
     "metadata": {
      "needs_background": "light"
     },
     "output_type": "display_data"
    }
   ],
   "source": [
    "plt.scatter(x = X_train['floor total'], y = y_train)\n",
    "plt.title('Rent Cost vs. Floors in Building')\n",
    "plt.xlabel('Floor Total')\n",
    "plt.ylabel('Rent')\n",
    "plt.show()"
   ]
  },
  {
   "cell_type": "markdown",
   "id": "1486785d",
   "metadata": {},
   "source": [
    "Floor total and rent cost are less associated. There are slightly higher rent costs among lower floors, but there are also more low cost listings as well. "
   ]
  },
  {
   "cell_type": "code",
   "execution_count": 27,
   "id": "87425cd1",
   "metadata": {},
   "outputs": [
    {
     "data": {
      "text/html": [
       "<div>\n",
       "<style scoped>\n",
       "    .dataframe tbody tr th:only-of-type {\n",
       "        vertical-align: middle;\n",
       "    }\n",
       "\n",
       "    .dataframe tbody tr th {\n",
       "        vertical-align: top;\n",
       "    }\n",
       "\n",
       "    .dataframe thead th {\n",
       "        text-align: right;\n",
       "    }\n",
       "</style>\n",
       "<table border=\"1\" class=\"dataframe\">\n",
       "  <thead>\n",
       "    <tr style=\"text-align: right;\">\n",
       "      <th></th>\n",
       "      <th>BHK</th>\n",
       "      <th>Size</th>\n",
       "      <th>Area Type</th>\n",
       "      <th>Area Locality</th>\n",
       "      <th>City</th>\n",
       "      <th>Furnishing Status</th>\n",
       "      <th>Tenant Preferred</th>\n",
       "      <th>Bathroom</th>\n",
       "      <th>Point of Contact</th>\n",
       "      <th>floor on</th>\n",
       "      <th>floor total</th>\n",
       "      <th>month</th>\n",
       "      <th>DOW</th>\n",
       "    </tr>\n",
       "  </thead>\n",
       "  <tbody>\n",
       "    <tr>\n",
       "      <th>1698</th>\n",
       "      <td>2</td>\n",
       "      <td>1000</td>\n",
       "      <td>2</td>\n",
       "      <td>322</td>\n",
       "      <td>0</td>\n",
       "      <td>1</td>\n",
       "      <td>1</td>\n",
       "      <td>2</td>\n",
       "      <td>2</td>\n",
       "      <td>3</td>\n",
       "      <td>4</td>\n",
       "      <td>6</td>\n",
       "      <td>5</td>\n",
       "    </tr>\n",
       "    <tr>\n",
       "      <th>3924</th>\n",
       "      <td>2</td>\n",
       "      <td>200</td>\n",
       "      <td>1</td>\n",
       "      <td>460</td>\n",
       "      <td>3</td>\n",
       "      <td>2</td>\n",
       "      <td>0</td>\n",
       "      <td>2</td>\n",
       "      <td>2</td>\n",
       "      <td>0</td>\n",
       "      <td>1</td>\n",
       "      <td>5</td>\n",
       "      <td>1</td>\n",
       "    </tr>\n",
       "    <tr>\n",
       "      <th>4375</th>\n",
       "      <td>2</td>\n",
       "      <td>1200</td>\n",
       "      <td>2</td>\n",
       "      <td>255</td>\n",
       "      <td>3</td>\n",
       "      <td>2</td>\n",
       "      <td>0</td>\n",
       "      <td>2</td>\n",
       "      <td>2</td>\n",
       "      <td>2</td>\n",
       "      <td>2</td>\n",
       "      <td>5</td>\n",
       "      <td>1</td>\n",
       "    </tr>\n",
       "    <tr>\n",
       "      <th>3910</th>\n",
       "      <td>2</td>\n",
       "      <td>1140</td>\n",
       "      <td>2</td>\n",
       "      <td>1412</td>\n",
       "      <td>3</td>\n",
       "      <td>1</td>\n",
       "      <td>1</td>\n",
       "      <td>2</td>\n",
       "      <td>2</td>\n",
       "      <td>3</td>\n",
       "      <td>4</td>\n",
       "      <td>6</td>\n",
       "      <td>4</td>\n",
       "    </tr>\n",
       "    <tr>\n",
       "      <th>3864</th>\n",
       "      <td>2</td>\n",
       "      <td>1000</td>\n",
       "      <td>2</td>\n",
       "      <td>423</td>\n",
       "      <td>1</td>\n",
       "      <td>2</td>\n",
       "      <td>1</td>\n",
       "      <td>2</td>\n",
       "      <td>2</td>\n",
       "      <td>2</td>\n",
       "      <td>3</td>\n",
       "      <td>5</td>\n",
       "      <td>0</td>\n",
       "    </tr>\n",
       "  </tbody>\n",
       "</table>\n",
       "</div>"
      ],
      "text/plain": [
       "      BHK  Size  Area Type  Area Locality  City  Furnishing Status  \\\n",
       "1698    2  1000          2            322     0                  1   \n",
       "3924    2   200          1            460     3                  2   \n",
       "4375    2  1200          2            255     3                  2   \n",
       "3910    2  1140          2           1412     3                  1   \n",
       "3864    2  1000          2            423     1                  2   \n",
       "\n",
       "      Tenant Preferred  Bathroom  Point of Contact  floor on  floor total  \\\n",
       "1698                 1         2                 2         3            4   \n",
       "3924                 0         2                 2         0            1   \n",
       "4375                 0         2                 2         2            2   \n",
       "3910                 1         2                 2         3            4   \n",
       "3864                 1         2                 2         2            3   \n",
       "\n",
       "      month  DOW  \n",
       "1698      6    5  \n",
       "3924      5    1  \n",
       "4375      5    1  \n",
       "3910      6    4  \n",
       "3864      5    0  "
      ]
     },
     "execution_count": 27,
     "metadata": {},
     "output_type": "execute_result"
    }
   ],
   "source": [
    "Xmod_train = X_train.drop(['Posted On','Floor','year'], axis = 1)\n",
    "\n",
    "Xmod_test = X_test.drop(['Posted On','Floor','year'], axis = 1)\n",
    "\n",
    "Xmod_train.head()"
   ]
  },
  {
   "cell_type": "markdown",
   "id": "ee3d57d0",
   "metadata": {},
   "source": [
    "Obsolete variables have been dropped. Full training set. "
   ]
  },
  {
   "cell_type": "markdown",
   "id": "677310a2",
   "metadata": {},
   "source": [
    "<font color='darkgreen'>\n",
    "    <h3> Feature Extraction Using Linear Model and Stepwise Selection </h3>\n",
    "</font>"
   ]
  },
  {
   "cell_type": "code",
   "execution_count": 31,
   "id": "70dcb13d",
   "metadata": {},
   "outputs": [],
   "source": [
    "### train model is built to iterate through the variables when performing stepwise regression\n",
    "def train_model(variables):\n",
    "    if len(variables) == 0:\n",
    "        return None\n",
    "    ### Building linear regression\n",
    "    Model = LinearRegression()\n",
    "    Model.fit(Xmod_train[variables], y_train)\n",
    "    ### Returning the model fit with X amount of variables\n",
    "    return Model\n",
    "\n",
    "### Score model calculates the AIC of the models in order to choose the best variables based off of AIC\n",
    "def score_model(Model, variables):\n",
    "    if len(variables) == 0:\n",
    "        return AIC_score(y_train, [y_train.mean()] * len(y_train), Model, df = 1)\n",
    "    return AIC_score(y_train, Model.predict(Xmod_train[variables]), Model)"
   ]
  },
  {
   "cell_type": "code",
   "execution_count": 32,
   "id": "3b115b0f",
   "metadata": {},
   "outputs": [
    {
     "name": "stdout",
     "output_type": "stream",
     "text": [
      "Variables: BHK, Size, Area Type, Area Locality, City, Furnishing Status, Tenant Preferred, Bathroom, Point of Contact, floor on, floor total, month, DOW\n",
      "Start: score=82714.61, constant\n",
      "Step: score=81423.82, add Bathroom\n",
      "Step: score=81058.38, add floor total\n",
      "Step: score=80869.84, add Size\n",
      "Step: score=80687.18, add City\n",
      "Step: score=80609.16, add Point of Contact\n",
      "Step: score=80583.89, add Furnishing Status\n",
      "Step: score=80571.13, add month\n",
      "Step: score=80568.30, add Area Locality\n",
      "Step: score=80565.19, add floor on\n",
      "Step: score=80563.48, add DOW\n",
      "Step: score=80561.58, add Area Type\n",
      "Step: score=80561.58, unchanged None\n",
      "['Bathroom', 'floor total', 'Size', 'City', 'Point of Contact', 'Furnishing Status', 'month', 'Area Locality', 'floor on', 'DOW', 'Area Type']\n"
     ]
    }
   ],
   "source": [
    "### Using Stepwise selection to extract the best variables\n",
    "best_model, best_variables = stepwise_selection(Xmod_train.columns, train_model, score_model,\n",
    "                                               verbose = True)\n",
    "print(best_variables)"
   ]
  },
  {
   "cell_type": "code",
   "execution_count": 33,
   "id": "fbfd4354",
   "metadata": {},
   "outputs": [],
   "source": [
    "sub_train = Xmod_train[['Bathroom', 'floor total', 'Size', 'City', 'Point of Contact', \n",
    "                        'Furnishing Status', 'month', 'Area Locality', 'floor on', 'DOW', 'Area Type']]\n",
    "\n",
    "sub_test = Xmod_test[['Bathroom', 'floor total', 'Size', 'City', 'Point of Contact', \n",
    "                      'Furnishing Status', 'month', 'Area Locality', 'floor on', 'DOW', 'Area Type']]"
   ]
  },
  {
   "cell_type": "markdown",
   "id": "6d63fbc5",
   "metadata": {},
   "source": [
    "Although after encoding the categorical data linear models would be less telling of our potential performance. Step wise selection here has been used to be informative of the Random Forest Importances and how the subset should be split for comparison to the full dataset across models. While this subset will not be used, it can still be informative to compare results. "
   ]
  },
  {
   "cell_type": "markdown",
   "id": "6d86e3f2",
   "metadata": {},
   "source": [
    "<font color='darkred'>\n",
    "    <h2> Model Construction </h2>\n",
    "</font>"
   ]
  },
  {
   "cell_type": "markdown",
   "id": "72360954",
   "metadata": {},
   "source": [
    "The models below will be tuned using cross validation of k folds = 5. Due to the computation costs of some of the models such as SVM Regressor, 5 folds has been elected instead 10 to reduce training time and the computation cost. \n",
    "\n",
    "The models below will also be separated by full dataset and the subset taken using the context of the stepwise selction and Random Forest Regressor importance values in addition to knowledge gained working with the data. \n",
    "\n",
    "Additionally, the models will be evaluated using MAE and R^2. MAE will evaluate the average error in Indian rupee made by predictions using the model by comparing the prediction to the known value. R^2 represents the amount of variance that the model can predictable cover. "
   ]
  },
  {
   "cell_type": "markdown",
   "id": "a0dcb48a",
   "metadata": {},
   "source": [
    "<font color='darkred'>\n",
    "    <h3> Random Forest Regressor </h3>\n",
    "</font>"
   ]
  },
  {
   "cell_type": "markdown",
   "id": "3222219c",
   "metadata": {},
   "source": [
    "<font color='darkred'>\n",
    "    <h3> Full Dataset </h3>\n",
    "</font>"
   ]
  },
  {
   "cell_type": "markdown",
   "id": "f712b9b6",
   "metadata": {},
   "source": [
    "<font color='darkred'>\n",
    "    <h4> Model Tuning </h4>\n",
    "</font>"
   ]
  },
  {
   "cell_type": "code",
   "execution_count": 34,
   "id": "dcf03f86",
   "metadata": {},
   "outputs": [
    {
     "name": "stdout",
     "output_type": "stream",
     "text": [
      "\n",
      "Best Score: 0.696100449223651\n",
      "\n",
      "General Parameters: {'max_depth': 15, 'min_impurity_decrease': 0, 'min_samples_split': 20}\n"
     ]
    }
   ],
   "source": [
    "rf_param_grid = {\n",
    "    'max_depth': [5,10,15,20],\n",
    "    'min_impurity_decrease': [0,0.001,0.005,0.01],\n",
    "    'min_samples_split': [10,20,30,40,50]\n",
    "}\n",
    "### Using GridSearch Cross Validation to identify best parameters\n",
    "rf_search = GridSearchCV(RandomForestRegressor(random_state = 33), rf_param_grid, cv = 5, \n",
    "                          n_jobs = -1, return_train_score = True)\n",
    "\n",
    "rf_search.fit(Xmod_train, y_train)\n",
    "print('\\nBest Score:', rf_search.best_score_)\n",
    "print('\\nGeneral Parameters:', rf_search.best_params_)"
   ]
  },
  {
   "cell_type": "code",
   "execution_count": 35,
   "id": "2da1eeb9",
   "metadata": {},
   "outputs": [
    {
     "name": "stdout",
     "output_type": "stream",
     "text": [
      "\n",
      "Best Score: 0.6960652842494689\n",
      "\n",
      "General Parameters: {'max_depth': 17, 'min_impurity_decrease': 0, 'min_samples_split': 21}\n"
     ]
    }
   ],
   "source": [
    "rrf_param_grid = {\n",
    "    'max_depth': [16,17,18,19,20,21,22,23,24],\n",
    "    'min_impurity_decrease': [0,0.001,0.005,0.01],\n",
    "    'min_samples_split': [17,18,19,20,21,22,23]\n",
    "}\n",
    "### Using GridSearch Cross Validation to identify best parameters\n",
    "rrf_search = GridSearchCV(RandomForestRegressor(random_state = 33), rrf_param_grid, cv = 5, \n",
    "                          n_jobs = -1, return_train_score = True)\n",
    "\n",
    "rrf_search.fit(Xmod_train, y_train)\n",
    "print('\\nBest Score:', rrf_search.best_score_)\n",
    "print('\\nGeneral Parameters:', rrf_search.best_params_)"
   ]
  },
  {
   "cell_type": "markdown",
   "id": "c3d5df59",
   "metadata": {},
   "source": [
    "<font color='darkred'>\n",
    "    <h4> Full Dataset RF Model </h4>\n",
    "</font>"
   ]
  },
  {
   "cell_type": "code",
   "execution_count": 28,
   "id": "c54a69fc",
   "metadata": {},
   "outputs": [
    {
     "name": "stdout",
     "output_type": "stream",
     "text": [
      "\n",
      "Regression statistics\n",
      "\n",
      "                      Mean Error (ME) : 2785.6451\n",
      "       Root Mean Squared Error (RMSE) : 95086.5740\n",
      "            Mean Absolute Error (MAE) : 12939.4020\n",
      "          Mean Percentage Error (MPE) : -19.1573\n",
      "Mean Absolute Percentage Error (MAPE) : 36.3018\n",
      "\n",
      "\n",
      "r2 Score: 0.21022997767745022\n"
     ]
    }
   ],
   "source": [
    "### Building Random Forest Model based off of parameters\n",
    "rf = RandomForestRegressor(max_depth = 16, min_impurity_decrease = 0, \n",
    "                            min_samples_split = 19, random_state = 33).fit(Xmod_train, y_train)\n",
    "\n",
    "### rsquared score\n",
    "regressionSummary(y_test, rf.predict(Xmod_test))\n",
    "print('\\n')\n",
    "print('r2 Score:', r2_score(y_test, rf.predict(Xmod_test)))"
   ]
  },
  {
   "cell_type": "markdown",
   "id": "8903f340",
   "metadata": {},
   "source": [
    "The model covers about 21% of the variance in the data. For context, an MAE of 12,939 rupees would be equivalent to about 150 USD. The average rent value within the training set is about 35,000 rupees or around 420 USD. Meaning on average, the model is missing predictions by about 36% as the MAPE shows above. Hopefully, using the variable importance from this model to subset the data will lead to better results. "
   ]
  },
  {
   "cell_type": "code",
   "execution_count": 37,
   "id": "0924c0ce",
   "metadata": {},
   "outputs": [
    {
     "data": {
      "image/png": "[encoded data removed]",
      "text/plain": [
       "<Figure size 864x432 with 1 Axes>"
      ]
     },
     "metadata": {
      "needs_background": "light"
     },
     "output_type": "display_data"
    }
   ],
   "source": [
    "### Looking at the most important features for selection\n",
    "feature_names = Xmod_train.columns\n",
    "importances = rf.feature_importances_\n",
    "std = np.std([tree.feature_importances_ for tree in rf.estimators_], axis=0)\n",
    "\n",
    "forest_importances = pd.Series(importances, index=feature_names)\n",
    "\n",
    "fig, ax = plt.subplots(figsize=(12,6))\n",
    "forest_importances.plot.bar(yerr=std, ax=ax)\n",
    "ax.set_title(\"Feature importances\")\n",
    "ax.set_ylabel(\"Mean Decrease in Impurity\")\n",
    "plt.show()"
   ]
  },
  {
   "cell_type": "markdown",
   "id": "469372e1",
   "metadata": {},
   "source": [
    "Our most important variables are clearly Size, City, and Bathrooms. Folowing closely is floor total and Point of contact. only one of floor will be selected for the subset. Additionally, BHK will be carried over knowing that the rooms of a home is vital for making evaluations of homes. This leaves the 6 variables below to create the subset models. "
   ]
  },
  {
   "cell_type": "markdown",
   "id": "192158a7",
   "metadata": {},
   "source": [
    "<font color='darkred'>\n",
    "    <h4> Creating the Final Subset </h4>\n",
    "</font>"
   ]
  },
  {
   "cell_type": "code",
   "execution_count": 170,
   "id": "5d5146ea",
   "metadata": {},
   "outputs": [],
   "source": [
    "#### Extracting the 6 most important features for a subset\n",
    "\n",
    "sub_X_test = Xmod_test[['Size','City','Bathroom','floor total','Point of Contact','BHK']]\n",
    "sub_X_train = Xmod_train[['Size','City','Bathroom','floor total','Point of Contact','BHK']]"
   ]
  },
  {
   "cell_type": "markdown",
   "id": "7039f478",
   "metadata": {},
   "source": [
    "<font color='darkred'>\n",
    "    <h3> Subset Data Modeling </h3>\n",
    "</font>"
   ]
  },
  {
   "cell_type": "markdown",
   "id": "01f6097f",
   "metadata": {},
   "source": [
    "<font color='darkred'>\n",
    "    <h4> Tuning </h4>\n",
    "</font>"
   ]
  },
  {
   "cell_type": "code",
   "execution_count": 39,
   "id": "d1224f3a",
   "metadata": {},
   "outputs": [
    {
     "name": "stdout",
     "output_type": "stream",
     "text": [
      "\n",
      "Best Score: 0.6978536254164498\n",
      "\n",
      "General Parameters: {'max_depth': 10, 'min_impurity_decrease': 0, 'min_samples_split': 20}\n"
     ]
    }
   ],
   "source": [
    "srf_param_grid = {\n",
    "    'max_depth': [5,10,15,20],\n",
    "    'min_impurity_decrease': [0,0.001,0.005,0.01],\n",
    "    'min_samples_split': [10,20,30,40,50]\n",
    "}\n",
    "### Using GridSearch Cross Validation to identify best parameters\n",
    "srf_search = GridSearchCV(RandomForestRegressor(random_state = 33), srf_param_grid, cv = 5, \n",
    "                          n_jobs = -1, return_train_score = True)\n",
    "\n",
    "srf_search.fit(sub_X_train, y_train)\n",
    "print('\\nBest Score:', srf_search.best_score_)\n",
    "print('\\nGeneral Parameters:', srf_search.best_params_)"
   ]
  },
  {
   "cell_type": "code",
   "execution_count": 40,
   "id": "6b47fb90",
   "metadata": {},
   "outputs": [
    {
     "name": "stdout",
     "output_type": "stream",
     "text": [
      "\n",
      "Best Score: 0.6961180629553694\n",
      "\n",
      "General Parameters: {'max_depth': 15, 'min_impurity_decrease': 0, 'min_samples_split': 25}\n"
     ]
    }
   ],
   "source": [
    "srrf_param_grid = {\n",
    "    'max_depth': [5,6,7,8,9,10,11,12,13,14,15],\n",
    "    'min_impurity_decrease': [0,0.001,0.005,0.01],\n",
    "    'min_samples_split': [25,26,27,28,29,30,31,32,33,34]\n",
    "}\n",
    "### Using GridSearch Cross Validation to identify best parameters\n",
    "srrf_search = GridSearchCV(RandomForestRegressor(random_state = 33), srrf_param_grid, cv = 5, \n",
    "                           n_jobs = -1, return_train_score = True)\n",
    "\n",
    "srrf_search.fit(sub_X_train, y_train)\n",
    "print('\\nBest Score:', srrf_search.best_score_)\n",
    "print('\\nGeneral Parameters:', srrf_search.best_params_)"
   ]
  },
  {
   "cell_type": "markdown",
   "id": "d59e6453",
   "metadata": {},
   "source": [
    "<font color='darkred'>\n",
    "    <h4> Sub Dataset Final Model </h4>\n",
    "</font>"
   ]
  },
  {
   "cell_type": "code",
   "execution_count": 171,
   "id": "ea73cd2d",
   "metadata": {},
   "outputs": [
    {
     "name": "stdout",
     "output_type": "stream",
     "text": [
      "\n",
      "Regression statistics\n",
      "\n",
      "                      Mean Error (ME) : 3167.5681\n",
      "       Root Mean Squared Error (RMSE) : 94827.0205\n",
      "            Mean Absolute Error (MAE) : 12817.0340\n",
      "          Mean Percentage Error (MPE) : -17.8323\n",
      "Mean Absolute Percentage Error (MAPE) : 35.5977\n",
      "\n",
      "\n",
      "r2 Score: 0.21453569116937032\n"
     ]
    }
   ],
   "source": [
    "### Building Random Forest Model based off of parameters\n",
    "sub_rf = RandomForestRegressor(max_depth = 11, min_impurity_decrease = 0, \n",
    "                               min_samples_split = 26, random_state = 33).fit(sub_X_train, y_train)\n",
    "\n",
    "### rsquared score\n",
    "regressionSummary(y_test, sub_rf.predict(sub_X_test))\n",
    "print('\\n')\n",
    "print('r2 Score:', r2_score(y_test, sub_rf.predict(sub_X_test)))"
   ]
  },
  {
   "cell_type": "markdown",
   "id": "e616e8af",
   "metadata": {},
   "source": [
    "Subsetting the dataset proved to give a slight uptick in r^2 and a slight decrease in MAE and MAPE. MPE is showing that model is under predicting the true cost of rent more often than over predicting. Which, could potentially be a positive compared to over prediction. Going forward, the subset will continued to be compared throughout our models. "
   ]
  },
  {
   "cell_type": "markdown",
   "id": "d711a9ef",
   "metadata": {},
   "source": [
    "<font color='darkred'>\n",
    "    <h3> MLP Regressor </h3>\n",
    "</font>"
   ]
  },
  {
   "cell_type": "markdown",
   "id": "970bd7f2",
   "metadata": {},
   "source": [
    "<font color='darkred'>\n",
    "    <h3> Full Dataset </h3>\n",
    "</font>"
   ]
  },
  {
   "cell_type": "markdown",
   "id": "7ffcceef",
   "metadata": {},
   "source": [
    "<font color='darkred'>\n",
    "    <h4> Tuning </h4>\n",
    "</font>"
   ]
  },
  {
   "cell_type": "code",
   "execution_count": 193,
   "id": "a82cfe2e",
   "metadata": {},
   "outputs": [
    {
     "name": "stdout",
     "output_type": "stream",
     "text": [
      "\n",
      "General Parameters: {'activation': 'relu', 'learning_rate_init': 0.01, 'solver': 'adam'}\n"
     ]
    }
   ],
   "source": [
    "### Initial gridsearch looking for activation // solver tune\n",
    "mlp_param_grid = {\n",
    "    'activation': ['identity', 'logistic', 'tanh', 'relu'],\n",
    "    'solver': ['adam','sgd'], \n",
    "    'learning_rate_init': [0.01, 0.05, 0.075, 0.1]\n",
    "}\n",
    "\n",
    "mlp_search = GridSearchCV(MLPRegressor(random_state = 33, batch_size = 64, max_iter = 2000), mlp_param_grid, \n",
    "                          cv = 5, n_jobs = 12)\n",
    "\n",
    "mlp_search.fit(Xmod_train, y_train)\n",
    "print('\\nGeneral Parameters:', mlp_search.best_params_)"
   ]
  },
  {
   "cell_type": "code",
   "execution_count": 43,
   "id": "47df2fae",
   "metadata": {},
   "outputs": [
    {
     "name": "stdout",
     "output_type": "stream",
     "text": [
      "\n",
      "General Parameters: {'alpha': 0.001, 'hidden_layer_sizes': 80}\n"
     ]
    }
   ],
   "source": [
    "### GridSearching hyperparameters\n",
    "rmlp_param_grid = {\n",
    "    'hidden_layer_sizes': [20, 30, 40, 50, 60, 70, 80, 90, 100],\n",
    "    'alpha': [0.0001, 0.001, 0.005, 0.01, 0.1]\n",
    "}\n",
    "\n",
    "rmlp_search = GridSearchCV(MLPRegressor(activation = 'relu', solver = 'adam', \n",
    "                                       learning_rate_init = 0.01, batch_size = 64, \n",
    "                                       max_iter = 2000, random_state = 33), \n",
    "                           rmlp_param_grid, cv = 5, n_jobs = 12)\n",
    "\n",
    "rmlp_search.fit(Xmod_train, y_train)\n",
    "print('\\nGeneral Parameters:', rmlp_search.best_params_)"
   ]
  },
  {
   "cell_type": "code",
   "execution_count": 46,
   "id": "c5d1320d",
   "metadata": {},
   "outputs": [
    {
     "name": "stdout",
     "output_type": "stream",
     "text": [
      "\n",
      "General Parameters: {'hidden_layer_sizes': 85}\n"
     ]
    }
   ],
   "source": [
    "### Final GridSearch for minute adjustments\n",
    "cls_param_grid = {\n",
    "    'hidden_layer_sizes': [78,79,80,81,82,83,84,85,86,87,88,89]\n",
    "}\n",
    "\n",
    "cls_search = GridSearchCV(MLPRegressor(activation = 'relu', solver = 'adam', alpha = 0.001, \n",
    "                                       learning_rate_init = 0.01, batch_size = 64, \n",
    "                                       max_iter = 2000, random_state = 33), \n",
    "                          cls_param_grid, cv = 5, n_jobs = 12)\n",
    "\n",
    "cls_search.fit(Xmod_train, y_train)\n",
    "print('\\nGeneral Parameters:', cls_search.best_params_)"
   ]
  },
  {
   "cell_type": "markdown",
   "id": "45b717b7",
   "metadata": {},
   "source": [
    "<font color='darkred'>\n",
    "    <h4> Full Dataset Final MLP </h4>\n",
    "</font>"
   ]
  },
  {
   "cell_type": "code",
   "execution_count": 172,
   "id": "b16a388a",
   "metadata": {},
   "outputs": [
    {
     "name": "stdout",
     "output_type": "stream",
     "text": [
      "\n",
      "r2 Score: 0.17479721850779262\n",
      "\n",
      "\n",
      "\n",
      "Regression statistics\n",
      "\n",
      "                      Mean Error (ME) : 3371.7244\n",
      "       Root Mean Squared Error (RMSE) : 97196.1850\n",
      "            Mean Absolute Error (MAE) : 18542.0700\n",
      "          Mean Percentage Error (MPE) : -13.2667\n",
      "Mean Absolute Percentage Error (MAPE) : 69.3974\n"
     ]
    }
   ],
   "source": [
    "### Building the final subset predictor model\n",
    "mlp = MLPRegressor(activation = 'relu', solver = 'adam', \n",
    "                   alpha = 0.01, hidden_layer_sizes = 85, \n",
    "                   batch_size = 64, max_iter = 2000, \n",
    "                   random_state = 33).fit(Xmod_train, y_train)\n",
    "\n",
    "\n",
    "print('\\nr2 Score:', r2_score(y_test, mlp.predict(Xmod_test)))\n",
    "print('\\n')\n",
    "regressionSummary(y_test, mlp.predict(Xmod_test))"
   ]
  },
  {
   "cell_type": "markdown",
   "id": "11a82433",
   "metadata": {},
   "source": [
    "Across the board the MLP regressor has shown to be a worse predictor than the random forest regressor. Although, the model does make more over predictions than either of the previous models, looking at its MPE. Nearly 70% MAPE versus 35% on the previous model makes the model not as worth considering. The subset will still be attempted. "
   ]
  },
  {
   "cell_type": "markdown",
   "id": "3c7cb7ec",
   "metadata": {},
   "source": [
    "<font color='darkred'>\n",
    "    <h3> Subset Dataset </h3>\n",
    "</font>"
   ]
  },
  {
   "cell_type": "markdown",
   "id": "f895fe92",
   "metadata": {},
   "source": [
    "<font color='darkred'>\n",
    "    <h4> Tuning </h4>\n",
    "</font>"
   ]
  },
  {
   "cell_type": "code",
   "execution_count": 194,
   "id": "f288461c",
   "metadata": {},
   "outputs": [
    {
     "name": "stdout",
     "output_type": "stream",
     "text": [
      "\n",
      "General Parameters: {'activation': 'relu', 'learning_rate_init': 0.1, 'solver': 'adam'}\n"
     ]
    }
   ],
   "source": [
    "### Initial gridsearch looking for activation // solver tune\n",
    "smlp_param_grid = {\n",
    "    'activation': ['identity', 'logistic', 'tanh', 'relu'],\n",
    "    'solver': ['adam','sgd'], \n",
    "    'learning_rate_init': [0.01, 0.05, 0.075, 0.1]\n",
    "}\n",
    "\n",
    "smlp_search = GridSearchCV(MLPRegressor(random_state = 33, batch_size = 64, max_iter = 2000), smlp_param_grid, \n",
    "                          cv = 10, n_jobs = 12)\n",
    "\n",
    "smlp_search.fit(sub_X_train, y_train)\n",
    "print('\\nGeneral Parameters:', smlp_search.best_params_)"
   ]
  },
  {
   "cell_type": "code",
   "execution_count": 33,
   "id": "6de7092d",
   "metadata": {},
   "outputs": [
    {
     "name": "stdout",
     "output_type": "stream",
     "text": [
      "\n",
      "General Parameters: {'alpha': 0.001, 'hidden_layer_sizes': 100}\n"
     ]
    }
   ],
   "source": [
    "### GridSearching hyperparameters\n",
    "srmlp_param_grid = {\n",
    "    'hidden_layer_sizes': [20, 30, 40, 50, 60, 70, 80, 90, 100],\n",
    "    'alpha': [0.0001, 0.001, 0.005, 0.01, 0.1]\n",
    "}\n",
    "\n",
    "srmlp_search = GridSearchCV(MLPRegressor(activation = 'relu', solver = 'adam', \n",
    "                                       learning_rate_init = 0.1, batch_size = 64, \n",
    "                                       max_iter = 2000, random_state = 33), \n",
    "                           srmlp_param_grid, cv = 5, n_jobs = 12)\n",
    "\n",
    "srmlp_search.fit(sub_X_train, y_train)\n",
    "print('\\nGeneral Parameters:', srmlp_search.best_params_)"
   ]
  },
  {
   "cell_type": "code",
   "execution_count": 34,
   "id": "51ffd3a4",
   "metadata": {},
   "outputs": [
    {
     "name": "stdout",
     "output_type": "stream",
     "text": [
      "\n",
      "General Parameters: {'hidden_layer_sizes': 100}\n"
     ]
    }
   ],
   "source": [
    "### Final GridSearch for minute adjustments\n",
    "scls_param_grid = {\n",
    "    'hidden_layer_sizes': [95,96,97,98,99,100,101,102,103,104]\n",
    "}\n",
    "\n",
    "scls_search = GridSearchCV(MLPRegressor(activation = 'relu', solver = 'adam', alpha = 0.001, \n",
    "                                        learning_rate_init = 0.1, batch_size = 64, \n",
    "                                        max_iter = 2000, random_state = 33), \n",
    "                           scls_param_grid, cv = 5, n_jobs = 12)\n",
    "\n",
    "scls_search.fit(sub_X_train, y_train)\n",
    "print('\\nGeneral Parameters:', scls_search.best_params_)"
   ]
  },
  {
   "cell_type": "markdown",
   "id": "6b30abf3",
   "metadata": {},
   "source": [
    "<font color='darkred'>\n",
    "    <h4> sub Dataset Final MLP </h4>\n",
    "</font>"
   ]
  },
  {
   "cell_type": "code",
   "execution_count": 173,
   "id": "8d92a7c8",
   "metadata": {},
   "outputs": [
    {
     "name": "stdout",
     "output_type": "stream",
     "text": [
      "\n",
      "r2 Score: 0.16412378906241654\n",
      "\n",
      "\n",
      "\n",
      "Regression statistics\n",
      "\n",
      "                      Mean Error (ME) : -2484.3584\n",
      "       Root Mean Squared Error (RMSE) : 97822.7483\n",
      "            Mean Absolute Error (MAE) : 21089.1606\n",
      "          Mean Percentage Error (MPE) : -39.8958\n",
      "Mean Absolute Percentage Error (MAPE) : 74.1159\n"
     ]
    }
   ],
   "source": [
    "### Building the final subset predictor model\n",
    "sub_mlp = MLPRegressor(activation = 'relu', solver = 'adam', \n",
    "                       alpha = 0.001, hidden_layer_sizes = 100, \n",
    "                       batch_size = 64, max_iter = 2000, learning_rate_init = 0.1,\n",
    "                       random_state = 33).fit(sub_X_train, y_train)\n",
    "\n",
    "\n",
    "print('\\nr2 Score:', r2_score(y_test, sub_mlp.predict(sub_X_test)))\n",
    "print('\\n')\n",
    "regressionSummary(y_test, sub_mlp.predict(sub_X_test))"
   ]
  },
  {
   "cell_type": "markdown",
   "id": "c5e5e340",
   "metadata": {},
   "source": [
    "Moving to the subset data decreased the already bad metrics of the previous MLP Regressor."
   ]
  },
  {
   "cell_type": "markdown",
   "id": "e5b0aef7",
   "metadata": {},
   "source": [
    "<font color='darkred'>\n",
    "    <h3> Logistic Regression </h3>\n",
    "</font>"
   ]
  },
  {
   "cell_type": "markdown",
   "id": "f268bd9b",
   "metadata": {},
   "source": [
    "<font color='darkred'>\n",
    "    <h3> Full Dataset </h3>\n",
    "</font>"
   ]
  },
  {
   "cell_type": "code",
   "execution_count": 48,
   "id": "eeeb7a5e",
   "metadata": {},
   "outputs": [
    {
     "name": "stdout",
     "output_type": "stream",
     "text": [
      "\n",
      "r2 Score: 0.015368329969471684\n",
      "\n",
      "\n",
      "\n",
      "Regression statistics\n",
      "\n",
      "                      Mean Error (ME) : 4044.6390\n",
      "       Root Mean Squared Error (RMSE) : 106170.9681\n",
      "            Mean Absolute Error (MAE) : 21037.6461\n",
      "          Mean Percentage Error (MPE) : -14.3773\n",
      "Mean Absolute Percentage Error (MAPE) : 51.6336\n"
     ]
    }
   ],
   "source": [
    "logreg_full = LogisticRegression(penalty=\"l2\", C=1e42, solver='liblinear', \n",
    "                                 max_iter = 500, random_state = 33)\n",
    "logreg_full.fit(Xmod_train, y_train)\n",
    "\n",
    "print('\\nr2 Score:', r2_score(y_test, logreg_full.predict(Xmod_test)))\n",
    "print('\\n')\n",
    "regressionSummary(y_test, logreg_full.predict(Xmod_test))"
   ]
  },
  {
   "cell_type": "markdown",
   "id": "f1a70f81",
   "metadata": {},
   "source": [
    "Although the r2 is lower with the logistic regression model compared to the previous MLP, the MAPE showed improvement reducing to nearly 51%. Although the MAE is equally as bad as the previous MLP and nowhere near the random forest metrics. "
   ]
  },
  {
   "cell_type": "markdown",
   "id": "fbcca376",
   "metadata": {},
   "source": [
    "<font color='darkred'>\n",
    "    <h3> Subset Dataset </h3>\n",
    "</font>"
   ]
  },
  {
   "cell_type": "code",
   "execution_count": 174,
   "id": "0893b56c",
   "metadata": {},
   "outputs": [
    {
     "name": "stdout",
     "output_type": "stream",
     "text": [
      "\n",
      "r2 Score: -0.006301046995255133\n",
      "\n",
      "\n",
      "\n",
      "Regression statistics\n",
      "\n",
      "                      Mean Error (ME) : 11385.4874\n",
      "       Root Mean Squared Error (RMSE) : 107332.8941\n",
      "            Mean Absolute Error (MAE) : 19568.0955\n",
      "          Mean Percentage Error (MPE) : -12.1073\n",
      "Mean Absolute Percentage Error (MAPE) : 54.0479\n"
     ]
    }
   ],
   "source": [
    "logreg_sub = LogisticRegression(penalty = \"l2\", C = 1e42, solver='liblinear',\n",
    "                                max_iter = 500, random_state = 33)\n",
    "                                \n",
    "logreg_sub.fit(sub_X_train, y_train)\n",
    "\n",
    "print('\\nr2 Score:', r2_score(y_test, logreg_sub.predict(sub_X_test)))\n",
    "print('\\n')\n",
    "regressionSummary(y_test, logreg_sub.predict(sub_X_test))"
   ]
  },
  {
   "cell_type": "markdown",
   "id": "5cfaba5f",
   "metadata": {},
   "source": [
    "The subset dataset did improve the MAE, but nearly every other metric depreciated from the full set. "
   ]
  },
  {
   "cell_type": "markdown",
   "id": "32e7cc8a",
   "metadata": {},
   "source": [
    "<font color='darkred'>\n",
    "    <h3> XGBoost </h3>\n",
    "</font>"
   ]
  },
  {
   "cell_type": "markdown",
   "id": "21377ef9",
   "metadata": {},
   "source": [
    "<font color='darkred'>\n",
    "    <h3> Full Dataset </h3>\n",
    "</font>"
   ]
  },
  {
   "cell_type": "markdown",
   "id": "1e88de89",
   "metadata": {},
   "source": [
    "<font color='darkred'>\n",
    "    <h4> Tuning </h4>\n",
    "</font>"
   ]
  },
  {
   "cell_type": "code",
   "execution_count": 50,
   "id": "04419696",
   "metadata": {},
   "outputs": [
    {
     "name": "stdout",
     "output_type": "stream",
     "text": [
      "\n",
      "Best Score: 0.6667065870992258\n",
      "\n",
      "General Parameters: {'eta': 0.25, 'lambda': 2, 'max_depth': 10}\n"
     ]
    }
   ],
   "source": [
    "xgb_param_grid = {\n",
    "    'eta': [0, 0.25, 0.5, 0.75],\n",
    "    'max_depth': [10, 15, 20],\n",
    "    'lambda': [0,1,2,5]\n",
    "}\n",
    "\n",
    "xgb_search = GridSearchCV(xgb.XGBRegressor(random_state = 33, verbosity = 0), xgb_param_grid, \n",
    "                          cv = 5, n_jobs = 12)\n",
    "\n",
    "xgb_search.fit(Xmod_train, y_train)\n",
    "print('\\nBest Score:', xgb_search.best_score_)\n",
    "print('\\nGeneral Parameters:', xgb_search.best_params_)"
   ]
  },
  {
   "cell_type": "code",
   "execution_count": 51,
   "id": "0c3099ea",
   "metadata": {},
   "outputs": [
    {
     "name": "stdout",
     "output_type": "stream",
     "text": [
      "\n",
      "Best Score: 0.698604400259686\n",
      "\n",
      "General Parameters: {'eta': 0.2, 'lambda': 3, 'max_depth': 6}\n"
     ]
    }
   ],
   "source": [
    "rxgb_param_grid = {\n",
    "    'eta': [0,0.15,0.20,0.25],\n",
    "    'max_depth': [2,3,4,5,6,7,8,9,10],\n",
    "    'lambda': [1,2,3,4]\n",
    "}\n",
    "\n",
    "rxgb_search = GridSearchCV(xgb.XGBRegressor(random_state = 33, verbosity = 0), rxgb_param_grid, \n",
    "                          cv = 5, n_jobs = 12)\n",
    "\n",
    "rxgb_search.fit(Xmod_train, y_train)\n",
    "print('\\nBest Score:', rxgb_search.best_score_)\n",
    "print('\\nGeneral Parameters:', rxgb_search.best_params_)"
   ]
  },
  {
   "cell_type": "markdown",
   "id": "608fc0fc",
   "metadata": {},
   "source": [
    "<font color='darkred'>\n",
    "    <h4> Full Dataset Final XGBoost </h4>\n",
    "</font>"
   ]
  },
  {
   "cell_type": "code",
   "execution_count": 52,
   "id": "fd1f63e7",
   "metadata": {},
   "outputs": [
    {
     "name": "stdout",
     "output_type": "stream",
     "text": [
      "\n",
      "r2 Score: 0.20954762926087356\n",
      "\n",
      "\n",
      "\n",
      "Regression statistics\n",
      "\n",
      "                      Mean Error (ME) : 2923.2469\n",
      "       Root Mean Squared Error (RMSE) : 95127.6417\n",
      "            Mean Absolute Error (MAE) : 12763.1410\n",
      "          Mean Percentage Error (MPE) : -16.9179\n",
      "Mean Absolute Percentage Error (MAPE) : 36.3374\n"
     ]
    }
   ],
   "source": [
    "xgbr_full = xgb.XGBRegressor(eta = 0.2, max_depth = 6, reg_lambda = 3, \n",
    "                             verbosity = 0, random_state = 33).fit(Xmod_train, y_train)\n",
    "\n",
    "\n",
    "print('\\nr2 Score:', r2_score(y_test, xgbr_full.predict(Xmod_test)))\n",
    "print('\\n')\n",
    "regressionSummary(y_test, xgbr_full.predict(Xmod_test))"
   ]
  },
  {
   "cell_type": "markdown",
   "id": "14b71f31",
   "metadata": {},
   "source": [
    "The XGBoost performed similarly to the Random Forest metric wise. The MAPE is at an acceptable margin below 40% and the MAE is about at the $150 USD mark that is preferable compared to the LR and MLP models. The XGBoost will be considered in addition to the Random Forest moving forward. "
   ]
  },
  {
   "cell_type": "markdown",
   "id": "9f48b350",
   "metadata": {},
   "source": [
    "<font color='darkred'>\n",
    "    <h3> Subset Dataset </h3>\n",
    "</font>"
   ]
  },
  {
   "cell_type": "markdown",
   "id": "30d82bef",
   "metadata": {},
   "source": [
    "<font color='darkred'>\n",
    "    <h4> Tuning </h4>\n",
    "</font>"
   ]
  },
  {
   "cell_type": "code",
   "execution_count": 53,
   "id": "50db14ae",
   "metadata": {},
   "outputs": [
    {
     "name": "stdout",
     "output_type": "stream",
     "text": [
      "\n",
      "Best Score: 0.6032751956184577\n",
      "\n",
      "General Parameters: {'eta': 0.75, 'lambda': 4, 'max_depth': 20}\n"
     ]
    }
   ],
   "source": [
    "sxgb_param_grid = {\n",
    "    'eta': [0, 0.25, 0.5, 0.75],\n",
    "    'max_depth': [10, 15, 20, 25, 30],\n",
    "    'lambda': [1,2,3,4]\n",
    "}\n",
    "\n",
    "sxgb_search = GridSearchCV(xgb.XGBRegressor(random_state = 33, verbosity = 0), sxgb_param_grid, \n",
    "                           cv = 5, n_jobs = 12)\n",
    "\n",
    "sxgb_search.fit(sub_X_train, y_train)\n",
    "print('\\nBest Score:', sxgb_search.best_score_)\n",
    "print('\\nGeneral Parameters:', sxgb_search.best_params_)"
   ]
  },
  {
   "cell_type": "code",
   "execution_count": 48,
   "id": "2e1b5543",
   "metadata": {},
   "outputs": [
    {
     "name": "stdout",
     "output_type": "stream",
     "text": [
      "\n",
      "Best Score: 0.6165273457400516\n",
      "\n",
      "General Parameters: {'eta': 0.9, 'lambda': 5, 'max_depth': 26}\n"
     ]
    }
   ],
   "source": [
    "rsxgb_param_grid = {\n",
    "    'eta': [0.7,0.75,0.8,0.9],\n",
    "    'max_depth': [22,23,24,25,26,27,28,29,30],\n",
    "    'lambda': [4,5,6]\n",
    "}\n",
    "\n",
    "rsxgb_search = GridSearchCV(xgb.XGBRegressor(random_state = 33, verbosity = 0), rsxgb_param_grid, \n",
    "                            cv = 5, n_jobs = 12)\n",
    "\n",
    "rsxgb_search.fit(sub_X_train, y_train)\n",
    "print('\\nBest Score:', rsxgb_search.best_score_)\n",
    "print('\\nGeneral Parameters:', rsxgb_search.best_params_)"
   ]
  },
  {
   "cell_type": "markdown",
   "id": "1139bcb8",
   "metadata": {},
   "source": [
    "<font color='darkred'>\n",
    "    <h4> Subset Dataset Final XGboost</h4>\n",
    "</font>"
   ]
  },
  {
   "cell_type": "code",
   "execution_count": 175,
   "id": "bd9e6932",
   "metadata": {},
   "outputs": [
    {
     "name": "stdout",
     "output_type": "stream",
     "text": [
      "\n",
      "r2 Score: 0.2008031192925832\n",
      "\n",
      "\n",
      "\n",
      "Regression statistics\n",
      "\n",
      "                      Mean Error (ME) : 3030.0501\n",
      "       Root Mean Squared Error (RMSE) : 95652.3771\n",
      "            Mean Absolute Error (MAE) : 14582.8195\n",
      "          Mean Percentage Error (MPE) : -16.4930\n",
      "Mean Absolute Percentage Error (MAPE) : 41.0158\n"
     ]
    }
   ],
   "source": [
    "xgbr_sub = xgb.XGBRegressor(eta = 0.9, reg_lambda = 5, max_depth = 26, \n",
    "                            verbosity = 0, random_state = 33).fit(sub_X_train, y_train)\n",
    "\n",
    "\n",
    "print('\\nr2 Score:', r2_score(y_test, xgbr_sub.predict(sub_X_test)))\n",
    "print('\\n')\n",
    "regressionSummary(y_test, xgbr_sub.predict(sub_X_test))"
   ]
  },
  {
   "cell_type": "markdown",
   "id": "28b13632",
   "metadata": {},
   "source": [
    "Subsetting the XGboost did reduce the metric performance as the MAPE climbed about the 40% threshold and MAE climbed to an error of $160 each prediction. "
   ]
  },
  {
   "cell_type": "markdown",
   "id": "d45538aa",
   "metadata": {},
   "source": [
    "<font color='darkred'>\n",
    "    <h3> SVM Regression </h3>\n",
    "</font>"
   ]
  },
  {
   "cell_type": "markdown",
   "id": "59a6146d",
   "metadata": {},
   "source": [
    "<font color='darkred'>\n",
    "    <h4> Feature Scaling For SVM </h4>\n",
    "</font>"
   ]
  },
  {
   "cell_type": "code",
   "execution_count": 177,
   "id": "09d8e0d8",
   "metadata": {},
   "outputs": [],
   "source": [
    "scl_col = Xmod_train.drop(['City','Tenant Preferred', 'Area Type', 'Point of Contact'], axis = 1).columns\n",
    "scaling = StandardScaler()\n",
    "Xscale_train = pd.concat([Xmod_train[['City','Tenant Preferred','Area Type','Point of Contact']],\n",
    "                         pd.DataFrame(scaling.fit_transform(Xmod_train.drop(['City',\n",
    "                                                                             'Tenant Preferred', \n",
    "                                                                             'Area Type', \n",
    "                                                                             'Point of Contact'], axis = 1)), columns = scl_col, index = Xmod_train.index)], axis = 1)\n",
    "\n",
    "Xscale_test = pd.concat([Xmod_test[['City','Tenant Preferred','Area Type','Point of Contact']],\n",
    "                         pd.DataFrame(scaling.fit_transform(Xmod_test.drop(['City',\n",
    "                                                                             'Tenant Preferred', \n",
    "                                                                             'Area Type', \n",
    "                                                                             'Point of Contact'], axis = 1)), columns = scl_col, index = Xmod_test.index)], axis = 1)\n",
    "\n",
    "\n",
    "sbscl_col = sub_X_train.drop(['City','Point of Contact'], axis = 1).columns\n",
    "subscale = StandardScaler()\n",
    "sub_Xscale_train = pd.concat([sub_X_train[['City','Point of Contact']], \n",
    "                              pd.DataFrame(subscale.fit_transform(sub_X_train.drop(['City','Point of Contact'], axis = 1)), \n",
    "                                           columns = sbscl_col , index = sub_X_train.index)], axis = 1)\n",
    "\n",
    "sub_Xscale_test = pd.concat([sub_X_test[['City','Point of Contact']], \n",
    "                             pd.DataFrame(subscale.transform(sub_X_test.drop(['City','Point of Contact'], axis = 1)), \n",
    "                                          columns = sbscl_col , index = sub_X_test.index)], axis = 1)"
   ]
  },
  {
   "cell_type": "markdown",
   "id": "3bf4aa4b",
   "metadata": {},
   "source": [
    "The SVM model requires model scaling to perform optimally. There are categorical values encoded that should not be scaled as they are categorical. Those are dropped, the continuous values are scaled, and then are recatenated back to the categorical values. This is then repeated for the 6 variable subset. "
   ]
  },
  {
   "cell_type": "markdown",
   "id": "454057ce",
   "metadata": {},
   "source": [
    "<font color='darkred'>\n",
    "    <h3> Full Dataset </h3>\n",
    "</font>"
   ]
  },
  {
   "cell_type": "markdown",
   "id": "fbac2e98",
   "metadata": {},
   "source": [
    "<font color='darkred'>\n",
    "    <h4> Tuning </h4>\n",
    "</font>"
   ]
  },
  {
   "cell_type": "code",
   "execution_count": 103,
   "id": "0657c709",
   "metadata": {},
   "outputs": [
    {
     "name": "stdout",
     "output_type": "stream",
     "text": [
      "\n",
      "General Parameters: {'C': 1000, 'epsilon': 1, 'tol': 1}\n",
      "\n",
      "Best Score: 0.5905960414159196\n",
      "\n",
      "General Parameters: {'C': 1000, 'epsilon': 1, 'tol': 1}\n",
      "\n",
      "Best Score: 0.28788869764875924\n",
      "\n",
      "General Parameters: {'C': 100, 'epsilon': 0.001, 'tol': 1}\n",
      "\n",
      "Best Score: 0.07461647095990895\n"
     ]
    }
   ],
   "source": [
    "svm_param_grid = {\n",
    "    'tol': [1e-3, 1e-2, 0.1, 1],\n",
    "    'C': [1, 2, 5, 100, 500, 1000],\n",
    "    'epsilon': [0.001,0.01,0.1,1]\n",
    "}\n",
    "\n",
    "svmp_search = GridSearchCV(SVR(kernel  = 'poly'), svm_param_grid, \n",
    "                           cv = 5, n_jobs = 12)\n",
    "\n",
    "svmr_search = GridSearchCV(SVR(kernel  = 'rbf'), svm_param_grid, \n",
    "                           cv = 5, n_jobs = 12)\n",
    "\n",
    "svms_search = GridSearchCV(SVR(kernel  = 'sigmoid'), svm_param_grid, \n",
    "                           cv = 5, n_jobs = 12)\n",
    "\n",
    "svmp_search.fit(Xscale_train, y_train)\n",
    "svmr_search.fit(Xscale_train, y_train)\n",
    "svms_search.fit(Xscale_train, y_train)\n",
    "print('\\nGeneral Parameters:', svmp_search.best_params_)\n",
    "print('\\nBest Score:', svmp_search.best_score_)\n",
    "print('\\nGeneral Parameters:', svmr_search.best_params_)\n",
    "print('\\nBest Score:', svmr_search.best_score_)\n",
    "print('\\nGeneral Parameters:', svms_search.best_params_)\n",
    "print('\\nBest Score:', svms_search.best_score_)"
   ]
  },
  {
   "cell_type": "code",
   "execution_count": 122,
   "id": "904dc7d3",
   "metadata": {},
   "outputs": [
    {
     "name": "stdout",
     "output_type": "stream",
     "text": [
      "\n",
      "General Parameters: {'C': 19000, 'epsilon': 8, 'tol': 5}\n",
      "\n",
      "Best Score: 0.6455180902410703\n"
     ]
    }
   ],
   "source": [
    "rsvm_param_grid = {\n",
    "    'tol': [1,2,3,4,5],\n",
    "    'C': [10000,15000,19000,20000,21000],\n",
    "    'epsilon': [7,8,9,10]\n",
    "}\n",
    "\n",
    "rsvmp_search = GridSearchCV(SVR(kernel  = 'poly'), rsvm_param_grid, \n",
    "                            cv = 5, n_jobs = 12)\n",
    "\n",
    "rsvmp_search.fit(Xscale_train, y_train)\n",
    "print('\\nGeneral Parameters:', rsvmp_search.best_params_)\n",
    "print('\\nBest Score:', rsvmp_search.best_score_)"
   ]
  },
  {
   "cell_type": "markdown",
   "id": "a9bbb0db",
   "metadata": {},
   "source": [
    "<font color='darkred'>\n",
    "    <h4> Full Dataset Final SVM </h4>\n",
    "</font>"
   ]
  },
  {
   "cell_type": "code",
   "execution_count": 123,
   "id": "097fd2cf",
   "metadata": {},
   "outputs": [
    {
     "name": "stdout",
     "output_type": "stream",
     "text": [
      "\n",
      "r2 Score: 0.171027218349858\n",
      "\n",
      "\n",
      "\n",
      "Regression statistics\n",
      "\n",
      "                      Mean Error (ME) : 7381.3776\n",
      "       Root Mean Squared Error (RMSE) : 97417.9560\n",
      "            Mean Absolute Error (MAE) : 14022.8706\n",
      "          Mean Percentage Error (MPE) : -10.4785\n",
      "Mean Absolute Percentage Error (MAPE) : 33.5493\n"
     ]
    }
   ],
   "source": [
    "svm = SVR(tol = 5, C = 19000, epsilon = 8).fit(Xscale_train, y_train)\n",
    "\n",
    "print('\\nr2 Score:', r2_score(y_test, svm.predict(Xscale_test)))\n",
    "print('\\n')\n",
    "regressionSummary(y_test, svm.predict(Xscale_test))\n"
   ]
  },
  {
   "cell_type": "markdown",
   "id": "559eb52f",
   "metadata": {},
   "source": [
    "The final tune of the SVM revealed the lowest MPE and MAPE so far, but r2 and MAE both suffered. As the MAE is more directly the error missed, due to it using the residuals. Yet, this may  point out that the model is performing well on most moderate data points, then largely missing the outliers on the low or high side, in this instance the assumption would be the high side as Rent is left skewed at the MPE is less negative than previous models. "
   ]
  },
  {
   "cell_type": "markdown",
   "id": "4f3ecff9",
   "metadata": {},
   "source": [
    "<font color='darkred'>\n",
    "    <h3> Subset Dataset </h3>\n",
    "</font>"
   ]
  },
  {
   "cell_type": "markdown",
   "id": "608ab014",
   "metadata": {},
   "source": [
    "<font color='darkred'>\n",
    "    <h4> Tuning </h4>\n",
    "</font>"
   ]
  },
  {
   "cell_type": "code",
   "execution_count": 94,
   "id": "2342fa03",
   "metadata": {},
   "outputs": [
    {
     "name": "stdout",
     "output_type": "stream",
     "text": [
      "\n",
      "General Parameters: {'C': 60, 'epsilon': 1, 'tol': 1}\n",
      "\n",
      "Best Score: 0.4982859426066472\n",
      "\n",
      "General Parameters: {'C': 60, 'epsilon': 1, 'tol': 0.1}\n",
      "\n",
      "Best Score: 0.0457954665956787\n",
      "\n",
      "General Parameters: {'C': 50, 'epsilon': 1, 'tol': 1}\n",
      "\n",
      "Best Score: -0.011678406811354191\n"
     ]
    }
   ],
   "source": [
    "ssvm_param_grid = {\n",
    "    'tol': [1e-3, 1e-2, 0.1, 1],\n",
    "    'C': [20,30,40,50,60],\n",
    "    'epsilon': [0.001,0.01,0.1,1]\n",
    "}\n",
    "\n",
    "ssvmp_search = GridSearchCV(SVR(kernel  = 'poly'), ssvm_param_grid, \n",
    "                            cv = 5, n_jobs = 12)\n",
    "\n",
    "ssvmr_search = GridSearchCV(SVR(kernel  = 'rbf'), ssvm_param_grid, \n",
    "                            cv = 5, n_jobs = 12)\n",
    "\n",
    "ssvms_search = GridSearchCV(SVR(kernel  = 'sigmoid'), ssvm_param_grid, \n",
    "                            cv = 5, n_jobs = 12)\n",
    "\n",
    "ssvmp_search.fit(sub_Xscale_train, y_train)\n",
    "ssvmr_search.fit(sub_Xscale_train, y_train)\n",
    "ssvms_search.fit(sub_Xscale_train, y_train)\n",
    "print('\\nGeneral Parameters:', ssvmp_search.best_params_)\n",
    "print('\\nBest Score:', ssvmp_search.best_score_)\n",
    "print('\\nGeneral Parameters:', ssvmr_search.best_params_)\n",
    "print('\\nBest Score:', ssvmr_search.best_score_)\n",
    "print('\\nGeneral Parameters:', ssvms_search.best_params_)\n",
    "print('\\nBest Score:', ssvms_search.best_score_)"
   ]
  },
  {
   "cell_type": "code",
   "execution_count": 98,
   "id": "7068a4f1",
   "metadata": {},
   "outputs": [
    {
     "name": "stdout",
     "output_type": "stream",
     "text": [
      "\n",
      "General Parameters: {'C': 1000, 'epsilon': 4, 'tol': 0.5}\n",
      "\n",
      "Best Score: 0.57094624543658\n"
     ]
    }
   ],
   "source": [
    "rssvm_param_grid = {\n",
    "    'tol': [0.5,1,1.5,2],\n",
    "    'C': [110,130,170,200,250,500,1000,2000],\n",
    "    'epsilon': [4,5,6,7,8,9,10]\n",
    "}\n",
    "\n",
    "rssvmp_search = GridSearchCV(SVR(kernel  = 'poly'), rssvm_param_grid, \n",
    "                             cv = 5, n_jobs = 12)\n",
    "\n",
    "rssvmp_search.fit(sub_Xscale_train, y_train)\n",
    "print('\\nGeneral Parameters:', rssvmp_search.best_params_)\n",
    "print('\\nBest Score:', rssvmp_search.best_score_)"
   ]
  },
  {
   "cell_type": "code",
   "execution_count": 179,
   "id": "36720005",
   "metadata": {},
   "outputs": [
    {
     "name": "stdout",
     "output_type": "stream",
     "text": [
      "\n",
      "General Parameters: {'C': 1325}\n",
      "\n",
      "Best Score: 0.6145778933791098\n"
     ]
    }
   ],
   "source": [
    "erssvm_param_grid = {\n",
    "    'C': [900,1000,1100,1275,1300,1325]\n",
    "}\n",
    "\n",
    "erssvmp_search = GridSearchCV(SVR(kernel  = 'poly', epsilon = 4, tol = 0.5), erssvm_param_grid, \n",
    "                             cv = 5, n_jobs = 12)\n",
    "\n",
    "erssvmp_search.fit(sub_Xscale_train, y_train)\n",
    "print('\\nGeneral Parameters:', erssvmp_search.best_params_)\n",
    "print('\\nBest Score:', erssvmp_search.best_score_)"
   ]
  },
  {
   "cell_type": "markdown",
   "id": "9c98c70d",
   "metadata": {},
   "source": [
    "<font color='darkred'>\n",
    "    <h4> Full Dataset Final SVM </h4>\n",
    "</font>"
   ]
  },
  {
   "cell_type": "code",
   "execution_count": 181,
   "id": "4ab77cf9",
   "metadata": {},
   "outputs": [
    {
     "name": "stdout",
     "output_type": "stream",
     "text": [
      "\n",
      "r2 Score: 0.11004335523064768\n",
      "\n",
      "\n",
      "\n",
      "Regression statistics\n",
      "\n",
      "                      Mean Error (ME) : 10425.0459\n",
      "       Root Mean Squared Error (RMSE) : 100937.6762\n",
      "            Mean Absolute Error (MAE) : 16188.8021\n",
      "          Mean Percentage Error (MPE) : -9.0100\n",
      "Mean Absolute Percentage Error (MAPE) : 36.0912\n"
     ]
    }
   ],
   "source": [
    "sub_svm = SVR(C = 1325, epsilon = 4, tol = 0.5).fit(sub_Xscale_train, y_train)\n",
    "\n",
    "\n",
    "\n",
    "print('\\nr2 Score:', r2_score(y_test, sub_svm.predict(sub_Xscale_test)))\n",
    "print('\\n')\n",
    "regressionSummary(y_test, sub_svm.predict(sub_Xscale_test))"
   ]
  },
  {
   "cell_type": "markdown",
   "id": "36573f83",
   "metadata": {},
   "source": [
    "The subset SVM showed a similar issue. It has a strong MPE and MAPE but the r2 and MAE suffered likely from those high value outliers once again. "
   ]
  },
  {
   "cell_type": "markdown",
   "id": "eae3f4d5",
   "metadata": {},
   "source": [
    "<font color='darkred'>\n",
    "    <h3> Gradient Boosting Regressor </h3>\n",
    "</font>"
   ]
  },
  {
   "cell_type": "markdown",
   "id": "c1997aaf",
   "metadata": {},
   "source": [
    "<font color='darkred'>\n",
    "    <h3> Full Dataset </h3>\n",
    "</font>"
   ]
  },
  {
   "cell_type": "markdown",
   "id": "c5c803f7",
   "metadata": {},
   "source": [
    "<font color='darkred'>\n",
    "    <h4> Tuning </h4>\n",
    "</font>"
   ]
  },
  {
   "cell_type": "code",
   "execution_count": 30,
   "id": "59ec0c92",
   "metadata": {},
   "outputs": [
    {
     "name": "stdout",
     "output_type": "stream",
     "text": [
      "\n",
      "General Parameters: {'learning_rate': 0.01, 'max_depth': 3, 'n_estimators': 240}\n",
      "\n",
      "Best Score: 0.6730546412930632\n"
     ]
    }
   ],
   "source": [
    "gbr_param_grid = {\n",
    "    'learning_rate': [0.01,0.1,1,2,3,4],\n",
    "    'n_estimators': [90,100,120,180,240],\n",
    "    'max_depth': [3,5,7,9,11,15,25]\n",
    "}\n",
    "\n",
    "gbr_search = GridSearchCV(GradientBoostingRegressor(random_state = 33), gbr_param_grid, \n",
    "                             cv = 5, n_jobs = 12)\n",
    "\n",
    "gbr_search.fit(Xmod_train, y_train)\n",
    "print('\\nGeneral Parameters:', gbr_search.best_params_)\n",
    "print('\\nBest Score:', gbr_search.best_score_)"
   ]
  },
  {
   "cell_type": "code",
   "execution_count": 129,
   "id": "60cd8fbc",
   "metadata": {},
   "outputs": [
    {
     "name": "stdout",
     "output_type": "stream",
     "text": [
      "\n",
      "General Parameters: {'learning_rate': 0.01, 'max_depth': 3, 'n_estimators': 500}\n",
      "\n",
      "Best Score: 0.6856431845662841\n"
     ]
    }
   ],
   "source": [
    "rgbr_param_grid = {\n",
    "    'learning_rate': [0.001,0.01,0.1],\n",
    "    'n_estimators': [240,300,350,400,450,500,550],\n",
    "    'max_depth': [3,5,7,9,11]\n",
    "}\n",
    "\n",
    "rgbr_search = GridSearchCV(GradientBoostingRegressor(random_state = 33), rgbr_param_grid, \n",
    "                             cv = 5, n_jobs = 12)\n",
    "\n",
    "rgbr_search.fit(Xmod_train, y_train)\n",
    "print('\\nGeneral Parameters:', rgbr_search.best_params_)\n",
    "print('\\nBest Score:', rgbr_search.best_score_)"
   ]
  },
  {
   "cell_type": "markdown",
   "id": "4f7cb489",
   "metadata": {},
   "source": [
    "<font color='darkred'>\n",
    "    <h4> Full Dataset Final Gradient Boost</h4>\n",
    "</font>"
   ]
  },
  {
   "cell_type": "code",
   "execution_count": 137,
   "id": "175b30bb",
   "metadata": {},
   "outputs": [
    {
     "name": "stdout",
     "output_type": "stream",
     "text": [
      "\n",
      "r2 Score: 0.20645798582928243\n",
      "\n",
      "\n",
      "\n",
      "Regression statistics\n",
      "\n",
      "                      Mean Error (ME) : 2894.9120\n",
      "       Root Mean Squared Error (RMSE) : 95313.3733\n",
      "            Mean Absolute Error (MAE) : 13514.3830\n",
      "          Mean Percentage Error (MPE) : -24.0266\n",
      "Mean Absolute Percentage Error (MAPE) : 40.5176\n"
     ]
    }
   ],
   "source": [
    "gradBoost = GradientBoostingRegressor(learning_rate = 0.01, n_estimators = 500, max_depth = 3, \n",
    "                                      random_state = 33).fit(Xmod_train, y_train)\n",
    "\n",
    "\n",
    "print('\\nr2 Score:', r2_score(y_test, gradBoost.predict(Xmod_test)))\n",
    "print('\\n')\n",
    "regressionSummary(y_test, gradBoost.predict(Xmod_test))"
   ]
  },
  {
   "cell_type": "markdown",
   "id": "c4da7201",
   "metadata": {},
   "source": [
    "The Gradient Boosting model showed a similar r2 and MAE to the Random Forest, but the MPE and MAPE suffered as the model made greater mistakes on average the the previous XGboost and Random Forest. "
   ]
  },
  {
   "cell_type": "markdown",
   "id": "cd6b63b5",
   "metadata": {},
   "source": [
    "<font color='darkred'>\n",
    "    <h3> Subset Dataset </h3>\n",
    "</font>"
   ]
  },
  {
   "cell_type": "markdown",
   "id": "61aacce2",
   "metadata": {},
   "source": [
    "<font color='darkred'>\n",
    "    <h4> Tuning </h4>\n",
    "</font>"
   ]
  },
  {
   "cell_type": "code",
   "execution_count": 195,
   "id": "9cc14dbc",
   "metadata": {},
   "outputs": [
    {
     "name": "stdout",
     "output_type": "stream",
     "text": [
      "\n",
      "General Parameters: {'learning_rate': 0.01, 'max_depth': 3, 'n_estimators': 500}\n",
      "\n",
      "Best Score: 0.6933826968475365\n"
     ]
    }
   ],
   "source": [
    "sgbr_param_grid = {\n",
    "    'learning_rate': [0.01,0.1,1,2,3,4],\n",
    "    'n_estimators': [120,180,240,500,700],\n",
    "    'max_depth': [3,5,7,9,11,15]\n",
    "}\n",
    "\n",
    "sgbr_search = GridSearchCV(GradientBoostingRegressor(random_state = 33), sgbr_param_grid, \n",
    "                             cv = 5, n_jobs = 12)\n",
    "\n",
    "sgbr_search.fit(sub_X_train, y_train)\n",
    "print('\\nGeneral Parameters:', sgbr_search.best_params_)\n",
    "print('\\nBest Score:', sgbr_search.best_score_)"
   ]
  },
  {
   "cell_type": "code",
   "execution_count": 182,
   "id": "f0682516",
   "metadata": {},
   "outputs": [
    {
     "name": "stdout",
     "output_type": "stream",
     "text": [
      "\n",
      "r2 Score: 0.21043834818502616\n",
      "\n",
      "\n",
      "\n",
      "Regression statistics\n",
      "\n",
      "                      Mean Error (ME) : 2925.6064\n",
      "       Root Mean Squared Error (RMSE) : 95074.0295\n",
      "            Mean Absolute Error (MAE) : 13514.6289\n",
      "          Mean Percentage Error (MPE) : -25.1516\n",
      "Mean Absolute Percentage Error (MAPE) : 41.2084\n"
     ]
    }
   ],
   "source": [
    "sub_gradBoost = GradientBoostingRegressor(learning_rate = 0.01, n_estimators = 500, max_depth = 3, \n",
    "                                          random_state = 33).fit(sub_X_train, y_train)\n",
    "\n",
    "\n",
    "print('\\nr2 Score:', r2_score(y_test, sub_gradBoost.predict(sub_X_test)))\n",
    "print('\\n')\n",
    "regressionSummary(y_test, sub_gradBoost.predict(sub_X_test))"
   ]
  },
  {
   "cell_type": "markdown",
   "id": "5164157e",
   "metadata": {},
   "source": [
    "The subset dataset Gradient Boost metrics performed worse than the whole dataset, and will not be considered. "
   ]
  },
  {
   "cell_type": "markdown",
   "id": "54fc4195",
   "metadata": {},
   "source": [
    "<font color='darkred'>\n",
    "    <h3> Stochastic Gradient Descent Regression </h3>\n",
    "</font>"
   ]
  },
  {
   "cell_type": "markdown",
   "id": "15556542",
   "metadata": {},
   "source": [
    "<font color='darkred'>\n",
    "    <h3> Full Dataset </h3>\n",
    "</font>"
   ]
  },
  {
   "cell_type": "markdown",
   "id": "ebaf338b",
   "metadata": {},
   "source": [
    "<font color='darkred'>\n",
    "    <h4> Tuning </h4>\n",
    "</font>"
   ]
  },
  {
   "cell_type": "code",
   "execution_count": 157,
   "id": "b303f6e3",
   "metadata": {},
   "outputs": [
    {
     "name": "stdout",
     "output_type": "stream",
     "text": [
      "\n",
      "General Parameters: {'alpha': 0.0001, 'epsilon': 10}\n",
      "\n",
      "Best Score: 0.30952070759037736\n"
     ]
    }
   ],
   "source": [
    "sgd_param_grid = {\n",
    "    'alpha': [0.0001,0.0005,0.001,0.01,0.1,1],\n",
    "    'epsilon': [0.1,1,2,9,10,11,20]\n",
    "}\n",
    "\n",
    "sgd_search = GridSearchCV(SGDRegressor(loss = 'huber', random_state = 33), sgd_param_grid, \n",
    "                          cv = 5, n_jobs = 12)\n",
    "\n",
    "sgd_search.fit(Xmod_train, y_train)\n",
    "print('\\nGeneral Parameters:', sgd_search.best_params_)\n",
    "print('\\nBest Score:', sgd_search.best_score_)"
   ]
  },
  {
   "cell_type": "code",
   "execution_count": 159,
   "id": "6b8f5d35",
   "metadata": {},
   "outputs": [
    {
     "name": "stdout",
     "output_type": "stream",
     "text": [
      "\n",
      "r2 Score: 0.10835605018904915\n",
      "\n",
      "\n",
      "\n",
      "Regression statistics\n",
      "\n",
      "                      Mean Error (ME) : 7771.5709\n",
      "       Root Mean Squared Error (RMSE) : 101033.3169\n",
      "            Mean Absolute Error (MAE) : 21382.8870\n",
      "          Mean Percentage Error (MPE) : -16.6817\n",
      "Mean Absolute Percentage Error (MAPE) : 75.3070\n"
     ]
    }
   ],
   "source": [
    "sgd = SGDRegressor(loss = \"huber\", alpha = 0.0001, epsilon = 10, random_state = 33).fit(Xmod_train, y_train)\n",
    "\n",
    "print('\\nr2 Score:', r2_score(y_test, sgd.predict(Xmod_test)))\n",
    "print('\\n')\n",
    "regressionSummary(y_test, sgd.predict(Xmod_test))"
   ]
  },
  {
   "cell_type": "markdown",
   "id": "b67c9a62",
   "metadata": {},
   "source": [
    "The SGD even after tuning displayed horrible results. This is likely due to the SGD relying linearity. As the categorical variables have been encoded, the SGD will not perform well on this dataset. "
   ]
  },
  {
   "cell_type": "markdown",
   "id": "df3d0477",
   "metadata": {},
   "source": [
    "<font color='darkred'>\n",
    "    <h3> Subset Dataset </h3>\n",
    "</font>"
   ]
  },
  {
   "cell_type": "markdown",
   "id": "c905941e",
   "metadata": {},
   "source": [
    "<font color='darkred'>\n",
    "    <h4> Tuning </h4>\n",
    "</font>"
   ]
  },
  {
   "cell_type": "code",
   "execution_count": 161,
   "id": "817054d4",
   "metadata": {},
   "outputs": [
    {
     "name": "stdout",
     "output_type": "stream",
     "text": [
      "\n",
      "General Parameters: {'alpha': 0.01, 'epsilon': 20}\n",
      "\n",
      "Best Score: 0.277235715151782\n"
     ]
    }
   ],
   "source": [
    "ssgd_param_grid = {\n",
    "    'alpha': [0.0001,0.0005,0.001,0.01,0.1,1],\n",
    "    'epsilon': [0.1,1,2,9,10,11,20,25,30]\n",
    "}\n",
    "\n",
    "ssgd_search = GridSearchCV(SGDRegressor(loss = 'huber', random_state = 33), ssgd_param_grid, \n",
    "                           cv = 5, n_jobs = 12)\n",
    "\n",
    "ssgd_search.fit(sub_X_train, y_train)\n",
    "print('\\nGeneral Parameters:', ssgd_search.best_params_)\n",
    "print('\\nBest Score:', ssgd_search.best_score_)"
   ]
  },
  {
   "cell_type": "markdown",
   "id": "e5775d89",
   "metadata": {},
   "source": [
    "<font color='darkred'>\n",
    "    <h4> Full Dataset Final SGD </h4>\n",
    "</font>"
   ]
  },
  {
   "cell_type": "code",
   "execution_count": 183,
   "id": "b12af04c",
   "metadata": {},
   "outputs": [
    {
     "name": "stdout",
     "output_type": "stream",
     "text": [
      "\n",
      "r2 Score: 0.10105067521534516\n",
      "\n",
      "\n",
      "\n",
      "Regression statistics\n",
      "\n",
      "                      Mean Error (ME) : 4138.1326\n",
      "       Root Mean Squared Error (RMSE) : 101446.3632\n",
      "            Mean Absolute Error (MAE) : 21593.8301\n",
      "          Mean Percentage Error (MPE) : -60.5729\n",
      "Mean Absolute Percentage Error (MAPE) : 80.2879\n"
     ]
    }
   ],
   "source": [
    "sub_sgd =  SGDRegressor(loss=\"huber\", alpha = 0.01, epsilon = 20, random_state = 0).fit(sub_X_train, y_train)\n",
    "\n",
    "\n",
    "print('\\nr2 Score:', r2_score(y_test, sub_sgd.predict(sub_X_test)))\n",
    "\n",
    "print('\\n')\n",
    "regressionSummary(y_test, sub_sgd.predict(sub_X_test))"
   ]
  },
  {
   "cell_type": "markdown",
   "id": "7e8d6d87",
   "metadata": {},
   "source": [
    "Even on the smaller dataset with less categorical variables, the SGD did not keep up with the models built above. "
   ]
  },
  {
   "cell_type": "markdown",
   "id": "79dc5cd6",
   "metadata": {},
   "source": [
    "Overall the models performed about as expected. The models that presumed normal distribution such as the Logistic Regression model and the SGD performed extremely poorly as the continuous variables are heavily left skewed and the categorical variables have been encoded as opposed to one hot encoded. The decision tree based ensemble methods such as Random Forest and XGBoost offered the best results in these circumstances. This is unsurprising as these models find non-linear solutions. Additionally the SVM Regressor using Polynomial kernel found another strong solution due to the nonlinear nature of the kernel. "
   ]
  },
  {
   "cell_type": "markdown",
   "id": "6006888f",
   "metadata": {},
   "source": [
    "<font color='black'>\n",
    "    <h2> Model Evaluation </h2>\n",
    "</font>"
   ]
  },
  {
   "cell_type": "markdown",
   "id": "b42833b1",
   "metadata": {},
   "source": [
    "<font color='Black'>\n",
    "    <h3> R^2 Table </h3>\n",
    "</font>"
   ]
  },
  {
   "cell_type": "code",
   "execution_count": 196,
   "id": "be4d58f3",
   "metadata": {},
   "outputs": [
    {
     "data": {
      "application/vnd.plotly.v1+json": {
       "config": {
        "plotlyServerURL": "https://plot.ly"
       },
       "data": [
        {
         "cells": {
          "align": [
           "left",
           "center"
          ],
          "fill": {
           "color": [
            "paleturquoise",
            "white"
           ]
          },
          "font": {
           "size": 12
          },
          "height": 30,
          "line": {
           "color": "darkslategray"
          },
          "values": [
           [
            "Random Forest Regressor",
            "MLP Regressor",
            "Logistic Regression",
            "XGBoost",
            "Support Vector Regression (SVR)",
            "Gradient Boosting Regressor",
            "Stochastic Gradient Descent"
           ],
           [
            0.21,
            0.17,
            0.02,
            0.21,
            0.17,
            0.21,
            0.11
           ],
           [
            0.21,
            0.16,
            -0.01,
            0.2,
            0.11,
            0.21,
            0.1
           ]
          ]
         },
         "columnorder": [
          1,
          2,
          3
         ],
         "columnwidth": [
          400,
          300,
          300
         ],
         "header": {
          "align": [
           "left",
           "center"
          ],
          "fill": {
           "color": "royalblue"
          },
          "font": {
           "color": "white",
           "size": 12
          },
          "height": 40,
          "line": {
           "color": "darkslategray"
          },
          "values": [
           [
            "<b>Models</b>"
           ],
           [
            "<b>Full Dataset R2 Score </b>"
           ],
           [
            "<b>Subset Dataset R2 Score</b>"
           ]
          ]
         },
         "type": "table"
        }
       ],
       "layout": {
        "template": {
         "data": {
          "bar": [
           {
            "error_x": {
             "color": "#2a3f5f"
            },
            "error_y": {
             "color": "#2a3f5f"
            },
            "marker": {
             "line": {
              "color": "#E5ECF6",
              "width": 0.5
             },
             "pattern": {
              "fillmode": "overlay",
              "size": 10,
              "solidity": 0.2
             }
            },
            "type": "bar"
           }
          ],
          "barpolar": [
           {
            "marker": {
             "line": {
              "color": "#E5ECF6",
              "width": 0.5
             },
             "pattern": {
              "fillmode": "overlay",
              "size": 10,
              "solidity": 0.2
             }
            },
            "type": "barpolar"
           }
          ],
          "carpet": [
           {
            "aaxis": {
             "endlinecolor": "#2a3f5f",
             "gridcolor": "white",
             "linecolor": "white",
             "minorgridcolor": "white",
             "startlinecolor": "#2a3f5f"
            },
            "baxis": {
             "endlinecolor": "#2a3f5f",
             "gridcolor": "white",
             "linecolor": "white",
             "minorgridcolor": "white",
             "startlinecolor": "#2a3f5f"
            },
            "type": "carpet"
           }
          ],
          "choropleth": [
           {
            "colorbar": {
             "outlinewidth": 0,
             "ticks": ""
            },
            "type": "choropleth"
           }
          ],
          "contour": [
           {
            "colorbar": {
             "outlinewidth": 0,
             "ticks": ""
            },
            "colorscale": [
             [
              0,
              "#0d0887"
             ],
             [
              0.1111111111111111,
              "#46039f"
             ],
             [
              0.2222222222222222,
              "#7201a8"
             ],
             [
              0.3333333333333333,
              "#9c179e"
             ],
             [
              0.4444444444444444,
              "#bd3786"
             ],
             [
              0.5555555555555556,
              "#d8576b"
             ],
             [
              0.6666666666666666,
              "#ed7953"
             ],
             [
              0.7777777777777778,
              "#fb9f3a"
             ],
             [
              0.8888888888888888,
              "#fdca26"
             ],
             [
              1,
              "#f0f921"
             ]
            ],
            "type": "contour"
           }
          ],
          "contourcarpet": [
           {
            "colorbar": {
             "outlinewidth": 0,
             "ticks": ""
            },
            "type": "contourcarpet"
           }
          ],
          "heatmap": [
           {
            "colorbar": {
             "outlinewidth": 0,
             "ticks": ""
            },
            "colorscale": [
             [
              0,
              "#0d0887"
             ],
             [
              0.1111111111111111,
              "#46039f"
             ],
             [
              0.2222222222222222,
              "#7201a8"
             ],
             [
              0.3333333333333333,
              "#9c179e"
             ],
             [
              0.4444444444444444,
              "#bd3786"
             ],
             [
              0.5555555555555556,
              "#d8576b"
             ],
             [
              0.6666666666666666,
              "#ed7953"
             ],
             [
              0.7777777777777778,
              "#fb9f3a"
             ],
             [
              0.8888888888888888,
              "#fdca26"
             ],
             [
              1,
              "#f0f921"
             ]
            ],
            "type": "heatmap"
           }
          ],
          "heatmapgl": [
           {
            "colorbar": {
             "outlinewidth": 0,
             "ticks": ""
            },
            "colorscale": [
             [
              0,
              "#0d0887"
             ],
             [
              0.1111111111111111,
              "#46039f"
             ],
             [
              0.2222222222222222,
              "#7201a8"
             ],
             [
              0.3333333333333333,
              "#9c179e"
             ],
             [
              0.4444444444444444,
              "#bd3786"
             ],
             [
              0.5555555555555556,
              "#d8576b"
             ],
             [
              0.6666666666666666,
              "#ed7953"
             ],
             [
              0.7777777777777778,
              "#fb9f3a"
             ],
             [
              0.8888888888888888,
              "#fdca26"
             ],
             [
              1,
              "#f0f921"
             ]
            ],
            "type": "heatmapgl"
           }
          ],
          "histogram": [
           {
            "marker": {
             "pattern": {
              "fillmode": "overlay",
              "size": 10,
              "solidity": 0.2
             }
            },
            "type": "histogram"
           }
          ],
          "histogram2d": [
           {
            "colorbar": {
             "outlinewidth": 0,
             "ticks": ""
            },
            "colorscale": [
             [
              0,
              "#0d0887"
             ],
             [
              0.1111111111111111,
              "#46039f"
             ],
             [
              0.2222222222222222,
              "#7201a8"
             ],
             [
              0.3333333333333333,
              "#9c179e"
             ],
             [
              0.4444444444444444,
              "#bd3786"
             ],
             [
              0.5555555555555556,
              "#d8576b"
             ],
             [
              0.6666666666666666,
              "#ed7953"
             ],
             [
              0.7777777777777778,
              "#fb9f3a"
             ],
             [
              0.8888888888888888,
              "#fdca26"
             ],
             [
              1,
              "#f0f921"
             ]
            ],
            "type": "histogram2d"
           }
          ],
          "histogram2dcontour": [
           {
            "colorbar": {
             "outlinewidth": 0,
             "ticks": ""
            },
            "colorscale": [
             [
              0,
              "#0d0887"
             ],
             [
              0.1111111111111111,
              "#46039f"
             ],
             [
              0.2222222222222222,
              "#7201a8"
             ],
             [
              0.3333333333333333,
              "#9c179e"
             ],
             [
              0.4444444444444444,
              "#bd3786"
             ],
             [
              0.5555555555555556,
              "#d8576b"
             ],
             [
              0.6666666666666666,
              "#ed7953"
             ],
             [
              0.7777777777777778,
              "#fb9f3a"
             ],
             [
              0.8888888888888888,
              "#fdca26"
             ],
             [
              1,
              "#f0f921"
             ]
            ],
            "type": "histogram2dcontour"
           }
          ],
          "mesh3d": [
           {
            "colorbar": {
             "outlinewidth": 0,
             "ticks": ""
            },
            "type": "mesh3d"
           }
          ],
          "parcoords": [
           {
            "line": {
             "colorbar": {
              "outlinewidth": 0,
              "ticks": ""
             }
            },
            "type": "parcoords"
           }
          ],
          "pie": [
           {
            "automargin": true,
            "type": "pie"
           }
          ],
          "scatter": [
           {
            "fillpattern": {
             "fillmode": "overlay",
             "size": 10,
             "solidity": 0.2
            },
            "type": "scatter"
           }
          ],
          "scatter3d": [
           {
            "line": {
             "colorbar": {
              "outlinewidth": 0,
              "ticks": ""
             }
            },
            "marker": {
             "colorbar": {
              "outlinewidth": 0,
              "ticks": ""
             }
            },
            "type": "scatter3d"
           }
          ],
          "scattercarpet": [
           {
            "marker": {
             "colorbar": {
              "outlinewidth": 0,
              "ticks": ""
             }
            },
            "type": "scattercarpet"
           }
          ],
          "scattergeo": [
           {
            "marker": {
             "colorbar": {
              "outlinewidth": 0,
              "ticks": ""
             }
            },
            "type": "scattergeo"
           }
          ],
          "scattergl": [
           {
            "marker": {
             "colorbar": {
              "outlinewidth": 0,
              "ticks": ""
             }
            },
            "type": "scattergl"
           }
          ],
          "scattermapbox": [
           {
            "marker": {
             "colorbar": {
              "outlinewidth": 0,
              "ticks": ""
             }
            },
            "type": "scattermapbox"
           }
          ],
          "scatterpolar": [
           {
            "marker": {
             "colorbar": {
              "outlinewidth": 0,
              "ticks": ""
             }
            },
            "type": "scatterpolar"
           }
          ],
          "scatterpolargl": [
           {
            "marker": {
             "colorbar": {
              "outlinewidth": 0,
              "ticks": ""
             }
            },
            "type": "scatterpolargl"
           }
          ],
          "scatterternary": [
           {
            "marker": {
             "colorbar": {
              "outlinewidth": 0,
              "ticks": ""
             }
            },
            "type": "scatterternary"
           }
          ],
          "surface": [
           {
            "colorbar": {
             "outlinewidth": 0,
             "ticks": ""
            },
            "colorscale": [
             [
              0,
              "#0d0887"
             ],
             [
              0.1111111111111111,
              "#46039f"
             ],
             [
              0.2222222222222222,
              "#7201a8"
             ],
             [
              0.3333333333333333,
              "#9c179e"
             ],
             [
              0.4444444444444444,
              "#bd3786"
             ],
             [
              0.5555555555555556,
              "#d8576b"
             ],
             [
              0.6666666666666666,
              "#ed7953"
             ],
             [
              0.7777777777777778,
              "#fb9f3a"
             ],
             [
              0.8888888888888888,
              "#fdca26"
             ],
             [
              1,
              "#f0f921"
             ]
            ],
            "type": "surface"
           }
          ],
          "table": [
           {
            "cells": {
             "fill": {
              "color": "#EBF0F8"
             },
             "line": {
              "color": "white"
             }
            },
            "header": {
             "fill": {
              "color": "#C8D4E3"
             },
             "line": {
              "color": "white"
             }
            },
            "type": "table"
           }
          ]
         },
         "layout": {
          "annotationdefaults": {
           "arrowcolor": "#2a3f5f",
           "arrowhead": 0,
           "arrowwidth": 1
          },
          "autotypenumbers": "strict",
          "coloraxis": {
           "colorbar": {
            "outlinewidth": 0,
            "ticks": ""
           }
          },
          "colorscale": {
           "diverging": [
            [
             0,
             "#8e0152"
            ],
            [
             0.1,
             "#c51b7d"
            ],
            [
             0.2,
             "#de77ae"
            ],
            [
             0.3,
             "#f1b6da"
            ],
            [
             0.4,
             "#fde0ef"
            ],
            [
             0.5,
             "#f7f7f7"
            ],
            [
             0.6,
             "#e6f5d0"
            ],
            [
             0.7,
             "#b8e186"
            ],
            [
             0.8,
             "#7fbc41"
            ],
            [
             0.9,
             "#4d9221"
            ],
            [
             1,
             "#276419"
            ]
           ],
           "sequential": [
            [
             0,
             "#0d0887"
            ],
            [
             0.1111111111111111,
             "#46039f"
            ],
            [
             0.2222222222222222,
             "#7201a8"
            ],
            [
             0.3333333333333333,
             "#9c179e"
            ],
            [
             0.4444444444444444,
             "#bd3786"
            ],
            [
             0.5555555555555556,
             "#d8576b"
            ],
            [
             0.6666666666666666,
             "#ed7953"
            ],
            [
             0.7777777777777778,
             "#fb9f3a"
            ],
            [
             0.8888888888888888,
             "#fdca26"
            ],
            [
             1,
             "#f0f921"
            ]
           ],
           "sequentialminus": [
            [
             0,
             "#0d0887"
            ],
            [
             0.1111111111111111,
             "#46039f"
            ],
            [
             0.2222222222222222,
             "#7201a8"
            ],
            [
             0.3333333333333333,
             "#9c179e"
            ],
            [
             0.4444444444444444,
             "#bd3786"
            ],
            [
             0.5555555555555556,
             "#d8576b"
            ],
            [
             0.6666666666666666,
             "#ed7953"
            ],
            [
             0.7777777777777778,
             "#fb9f3a"
            ],
            [
             0.8888888888888888,
             "#fdca26"
            ],
            [
             1,
             "#f0f921"
            ]
           ]
          },
          "colorway": [
           "#636efa",
           "#EF553B",
           "#00cc96",
           "#ab63fa",
           "#FFA15A",
           "#19d3f3",
           "#FF6692",
           "#B6E880",
           "#FF97FF",
           "#FECB52"
          ],
          "font": {
           "color": "#2a3f5f"
          },
          "geo": {
           "bgcolor": "white",
           "lakecolor": "white",
           "landcolor": "#E5ECF6",
           "showlakes": true,
           "showland": true,
           "subunitcolor": "white"
          },
          "hoverlabel": {
           "align": "left"
          },
          "hovermode": "closest",
          "mapbox": {
           "style": "light"
          },
          "paper_bgcolor": "white",
          "plot_bgcolor": "#E5ECF6",
          "polar": {
           "angularaxis": {
            "gridcolor": "white",
            "linecolor": "white",
            "ticks": ""
           },
           "bgcolor": "#E5ECF6",
           "radialaxis": {
            "gridcolor": "white",
            "linecolor": "white",
            "ticks": ""
           }
          },
          "scene": {
           "xaxis": {
            "backgroundcolor": "#E5ECF6",
            "gridcolor": "white",
            "gridwidth": 2,
            "linecolor": "white",
            "showbackground": true,
            "ticks": "",
            "zerolinecolor": "white"
           },
           "yaxis": {
            "backgroundcolor": "#E5ECF6",
            "gridcolor": "white",
            "gridwidth": 2,
            "linecolor": "white",
            "showbackground": true,
            "ticks": "",
            "zerolinecolor": "white"
           },
           "zaxis": {
            "backgroundcolor": "#E5ECF6",
            "gridcolor": "white",
            "gridwidth": 2,
            "linecolor": "white",
            "showbackground": true,
            "ticks": "",
            "zerolinecolor": "white"
           }
          },
          "shapedefaults": {
           "line": {
            "color": "#2a3f5f"
           }
          },
          "ternary": {
           "aaxis": {
            "gridcolor": "white",
            "linecolor": "white",
            "ticks": ""
           },
           "baxis": {
            "gridcolor": "white",
            "linecolor": "white",
            "ticks": ""
           },
           "bgcolor": "#E5ECF6",
           "caxis": {
            "gridcolor": "white",
            "linecolor": "white",
            "ticks": ""
           }
          },
          "title": {
           "x": 0.05
          },
          "xaxis": {
           "automargin": true,
           "gridcolor": "white",
           "linecolor": "white",
           "ticks": "",
           "title": {
            "standoff": 15
           },
           "zerolinecolor": "white",
           "zerolinewidth": 2
          },
          "yaxis": {
           "automargin": true,
           "gridcolor": "white",
           "linecolor": "white",
           "ticks": "",
           "title": {
            "standoff": 15
           },
           "zerolinecolor": "white",
           "zerolinewidth": 2
          }
         }
        }
       }
      }
     },
     "metadata": {},
     "output_type": "display_data"
    }
   ],
   "source": [
    "values = [['Random Forest Regressor','MLP Regressor','Logistic Regression', 'XGBoost', 'Support Vector Regression (SVR)', 'Gradient Boosting Regressor', 'Stochastic Gradient Descent'], #1st col\n",
    "  [round(r2_score(y_test, rf.predict(Xmod_test)),2) ,\n",
    "    round(r2_score(y_test, mlp.predict(Xmod_test)),2),\n",
    "    round(r2_score(y_test, logreg_full.predict(Xmod_test)),2),\n",
    "    round(r2_score(y_test, xgbr_full.predict(Xmod_test)),2),\n",
    "    round(r2_score(y_test, svm.predict(Xscale_test)),2),\n",
    "    round(r2_score(y_test, gradBoost.predict(Xmod_test)),2),\n",
    "    round(r2_score(y_test, sgd.predict(Xmod_test)),2)],\n",
    "    [round(r2_score(y_test, sub_rf.predict(sub_X_test)),2) ,\n",
    "    round(r2_score(y_test, sub_mlp.predict(sub_X_test)),2),\n",
    "    round(r2_score(y_test, logreg_sub.predict(sub_X_test)),2),\n",
    "    round(r2_score(y_test, xgbr_sub.predict(sub_X_test)),2),\n",
    "    round(r2_score(y_test, sub_svm.predict(sub_Xscale_test)),2),\n",
    "    round(r2_score(y_test, sub_gradBoost.predict(sub_X_test)),2),\n",
    "    round(r2_score(y_test, sub_sgd.predict(sub_X_test)),2)]]\n",
    "\n",
    "fig = go.Figure(data=[go.Table(\n",
    "  columnorder = [1,2,3],\n",
    "  columnwidth = [400,300,300],\n",
    "  header = dict(\n",
    "    values = [['<b>Models</b>'],\n",
    "                  ['<b>Full Dataset R2 Score </b>'],['<b>Subset Dataset R2 Score</b>']]    ,\n",
    "    line_color='darkslategray',\n",
    "    fill_color='royalblue',\n",
    "    align=['left','center'],\n",
    "    font=dict(color='white', size=12),\n",
    "    height=40\n",
    "  ),\n",
    "  cells=dict(\n",
    "    values=values,\n",
    "    line_color='darkslategray',\n",
    "    fill=dict(color=['paleturquoise', 'white']),\n",
    "    align=['left', 'center'],\n",
    "    font_size=12,\n",
    "    height=30)\n",
    "    )\n",
    "])\n",
    "fig.show()"
   ]
  },
  {
   "cell_type": "code",
   "execution_count": 61,
   "id": "e92bf221",
   "metadata": {},
   "outputs": [
    {
     "data": {
      "image/png": "[encoded data removed]",
      "text/plain": [
       "<Figure size 1440x1440 with 1 Axes>"
      ]
     },
     "metadata": {
      "needs_background": "light"
     },
     "output_type": "display_data"
    }
   ],
   "source": [
    "r2 = mpimg.imread('r2tab.png') \n",
    "\n",
    "plt.figure(figsize=(20,20))\n",
    "plt.imshow(r2)\n",
    "plt.axis('off')\n",
    "plt.show()"
   ]
  },
  {
   "cell_type": "markdown",
   "id": "2fc67ca5",
   "metadata": {},
   "source": [
    "The r2 was optmized at the Random Forest Regressor and the Gradient Boosting Regressor. The other methods did not achieve as high of scores. The MAE will now be considered to make the final decision between the two."
   ]
  },
  {
   "cell_type": "markdown",
   "id": "9cef97f0",
   "metadata": {},
   "source": [
    "<font color='black'>\n",
    "    <h3> MAE Table </h3>\n",
    "</font>"
   ]
  },
  {
   "cell_type": "code",
   "execution_count": 197,
   "id": "611fb97a",
   "metadata": {},
   "outputs": [
    {
     "data": {
      "application/vnd.plotly.v1+json": {
       "config": {
        "plotlyServerURL": "https://plot.ly"
       },
       "data": [
        {
         "cells": {
          "align": [
           "left",
           "center"
          ],
          "fill": {
           "color": [
            "paleturquoise",
            "white"
           ]
          },
          "font": {
           "size": 12
          },
          "height": 30,
          "line": {
           "color": "darkslategray"
          },
          "values": [
           [
            "Random Forest Regressor",
            "MLP Regressor",
            "Logistic Regression",
            "XGBoost",
            "Support Vector Regression (SVR)",
            "Gradient Boosting Regressor",
            "Stochastic Gradient Descent"
           ],
           [
            12939.4,
            18542.07,
            21037.65,
            12763.14,
            14022.87,
            13514.38,
            21382.89
           ],
           [
            12817.03,
            21089.16,
            19568.1,
            14582.82,
            16188.8,
            13514.63,
            21593.83
           ]
          ]
         },
         "columnorder": [
          1,
          2,
          3
         ],
         "columnwidth": [
          400,
          300,
          300
         ],
         "header": {
          "align": [
           "left",
           "center"
          ],
          "fill": {
           "color": "royalblue"
          },
          "font": {
           "color": "white",
           "size": 12
          },
          "height": 40,
          "line": {
           "color": "darkslategray"
          },
          "values": [
           [
            "<b>Models</b>"
           ],
           [
            "<b>Full Dataset MAE </b>"
           ],
           [
            "<b>Subset Dataset MAE</b>"
           ]
          ]
         },
         "type": "table"
        }
       ],
       "layout": {
        "template": {
         "data": {
          "bar": [
           {
            "error_x": {
             "color": "#2a3f5f"
            },
            "error_y": {
             "color": "#2a3f5f"
            },
            "marker": {
             "line": {
              "color": "#E5ECF6",
              "width": 0.5
             },
             "pattern": {
              "fillmode": "overlay",
              "size": 10,
              "solidity": 0.2
             }
            },
            "type": "bar"
           }
          ],
          "barpolar": [
           {
            "marker": {
             "line": {
              "color": "#E5ECF6",
              "width": 0.5
             },
             "pattern": {
              "fillmode": "overlay",
              "size": 10,
              "solidity": 0.2
             }
            },
            "type": "barpolar"
           }
          ],
          "carpet": [
           {
            "aaxis": {
             "endlinecolor": "#2a3f5f",
             "gridcolor": "white",
             "linecolor": "white",
             "minorgridcolor": "white",
             "startlinecolor": "#2a3f5f"
            },
            "baxis": {
             "endlinecolor": "#2a3f5f",
             "gridcolor": "white",
             "linecolor": "white",
             "minorgridcolor": "white",
             "startlinecolor": "#2a3f5f"
            },
            "type": "carpet"
           }
          ],
          "choropleth": [
           {
            "colorbar": {
             "outlinewidth": 0,
             "ticks": ""
            },
            "type": "choropleth"
           }
          ],
          "contour": [
           {
            "colorbar": {
             "outlinewidth": 0,
             "ticks": ""
            },
            "colorscale": [
             [
              0,
              "#0d0887"
             ],
             [
              0.1111111111111111,
              "#46039f"
             ],
             [
              0.2222222222222222,
              "#7201a8"
             ],
             [
              0.3333333333333333,
              "#9c179e"
             ],
             [
              0.4444444444444444,
              "#bd3786"
             ],
             [
              0.5555555555555556,
              "#d8576b"
             ],
             [
              0.6666666666666666,
              "#ed7953"
             ],
             [
              0.7777777777777778,
              "#fb9f3a"
             ],
             [
              0.8888888888888888,
              "#fdca26"
             ],
             [
              1,
              "#f0f921"
             ]
            ],
            "type": "contour"
           }
          ],
          "contourcarpet": [
           {
            "colorbar": {
             "outlinewidth": 0,
             "ticks": ""
            },
            "type": "contourcarpet"
           }
          ],
          "heatmap": [
           {
            "colorbar": {
             "outlinewidth": 0,
             "ticks": ""
            },
            "colorscale": [
             [
              0,
              "#0d0887"
             ],
             [
              0.1111111111111111,
              "#46039f"
             ],
             [
              0.2222222222222222,
              "#7201a8"
             ],
             [
              0.3333333333333333,
              "#9c179e"
             ],
             [
              0.4444444444444444,
              "#bd3786"
             ],
             [
              0.5555555555555556,
              "#d8576b"
             ],
             [
              0.6666666666666666,
              "#ed7953"
             ],
             [
              0.7777777777777778,
              "#fb9f3a"
             ],
             [
              0.8888888888888888,
              "#fdca26"
             ],
             [
              1,
              "#f0f921"
             ]
            ],
            "type": "heatmap"
           }
          ],
          "heatmapgl": [
           {
            "colorbar": {
             "outlinewidth": 0,
             "ticks": ""
            },
            "colorscale": [
             [
              0,
              "#0d0887"
             ],
             [
              0.1111111111111111,
              "#46039f"
             ],
             [
              0.2222222222222222,
              "#7201a8"
             ],
             [
              0.3333333333333333,
              "#9c179e"
             ],
             [
              0.4444444444444444,
              "#bd3786"
             ],
             [
              0.5555555555555556,
              "#d8576b"
             ],
             [
              0.6666666666666666,
              "#ed7953"
             ],
             [
              0.7777777777777778,
              "#fb9f3a"
             ],
             [
              0.8888888888888888,
              "#fdca26"
             ],
             [
              1,
              "#f0f921"
             ]
            ],
            "type": "heatmapgl"
           }
          ],
          "histogram": [
           {
            "marker": {
             "pattern": {
              "fillmode": "overlay",
              "size": 10,
              "solidity": 0.2
             }
            },
            "type": "histogram"
           }
          ],
          "histogram2d": [
           {
            "colorbar": {
             "outlinewidth": 0,
             "ticks": ""
            },
            "colorscale": [
             [
              0,
              "#0d0887"
             ],
             [
              0.1111111111111111,
              "#46039f"
             ],
             [
              0.2222222222222222,
              "#7201a8"
             ],
             [
              0.3333333333333333,
              "#9c179e"
             ],
             [
              0.4444444444444444,
              "#bd3786"
             ],
             [
              0.5555555555555556,
              "#d8576b"
             ],
             [
              0.6666666666666666,
              "#ed7953"
             ],
             [
              0.7777777777777778,
              "#fb9f3a"
             ],
             [
              0.8888888888888888,
              "#fdca26"
             ],
             [
              1,
              "#f0f921"
             ]
            ],
            "type": "histogram2d"
           }
          ],
          "histogram2dcontour": [
           {
            "colorbar": {
             "outlinewidth": 0,
             "ticks": ""
            },
            "colorscale": [
             [
              0,
              "#0d0887"
             ],
             [
              0.1111111111111111,
              "#46039f"
             ],
             [
              0.2222222222222222,
              "#7201a8"
             ],
             [
              0.3333333333333333,
              "#9c179e"
             ],
             [
              0.4444444444444444,
              "#bd3786"
             ],
             [
              0.5555555555555556,
              "#d8576b"
             ],
             [
              0.6666666666666666,
              "#ed7953"
             ],
             [
              0.7777777777777778,
              "#fb9f3a"
             ],
             [
              0.8888888888888888,
              "#fdca26"
             ],
             [
              1,
              "#f0f921"
             ]
            ],
            "type": "histogram2dcontour"
           }
          ],
          "mesh3d": [
           {
            "colorbar": {
             "outlinewidth": 0,
             "ticks": ""
            },
            "type": "mesh3d"
           }
          ],
          "parcoords": [
           {
            "line": {
             "colorbar": {
              "outlinewidth": 0,
              "ticks": ""
             }
            },
            "type": "parcoords"
           }
          ],
          "pie": [
           {
            "automargin": true,
            "type": "pie"
           }
          ],
          "scatter": [
           {
            "fillpattern": {
             "fillmode": "overlay",
             "size": 10,
             "solidity": 0.2
            },
            "type": "scatter"
           }
          ],
          "scatter3d": [
           {
            "line": {
             "colorbar": {
              "outlinewidth": 0,
              "ticks": ""
             }
            },
            "marker": {
             "colorbar": {
              "outlinewidth": 0,
              "ticks": ""
             }
            },
            "type": "scatter3d"
           }
          ],
          "scattercarpet": [
           {
            "marker": {
             "colorbar": {
              "outlinewidth": 0,
              "ticks": ""
             }
            },
            "type": "scattercarpet"
           }
          ],
          "scattergeo": [
           {
            "marker": {
             "colorbar": {
              "outlinewidth": 0,
              "ticks": ""
             }
            },
            "type": "scattergeo"
           }
          ],
          "scattergl": [
           {
            "marker": {
             "colorbar": {
              "outlinewidth": 0,
              "ticks": ""
             }
            },
            "type": "scattergl"
           }
          ],
          "scattermapbox": [
           {
            "marker": {
             "colorbar": {
              "outlinewidth": 0,
              "ticks": ""
             }
            },
            "type": "scattermapbox"
           }
          ],
          "scatterpolar": [
           {
            "marker": {
             "colorbar": {
              "outlinewidth": 0,
              "ticks": ""
             }
            },
            "type": "scatterpolar"
           }
          ],
          "scatterpolargl": [
           {
            "marker": {
             "colorbar": {
              "outlinewidth": 0,
              "ticks": ""
             }
            },
            "type": "scatterpolargl"
           }
          ],
          "scatterternary": [
           {
            "marker": {
             "colorbar": {
              "outlinewidth": 0,
              "ticks": ""
             }
            },
            "type": "scatterternary"
           }
          ],
          "surface": [
           {
            "colorbar": {
             "outlinewidth": 0,
             "ticks": ""
            },
            "colorscale": [
             [
              0,
              "#0d0887"
             ],
             [
              0.1111111111111111,
              "#46039f"
             ],
             [
              0.2222222222222222,
              "#7201a8"
             ],
             [
              0.3333333333333333,
              "#9c179e"
             ],
             [
              0.4444444444444444,
              "#bd3786"
             ],
             [
              0.5555555555555556,
              "#d8576b"
             ],
             [
              0.6666666666666666,
              "#ed7953"
             ],
             [
              0.7777777777777778,
              "#fb9f3a"
             ],
             [
              0.8888888888888888,
              "#fdca26"
             ],
             [
              1,
              "#f0f921"
             ]
            ],
            "type": "surface"
           }
          ],
          "table": [
           {
            "cells": {
             "fill": {
              "color": "#EBF0F8"
             },
             "line": {
              "color": "white"
             }
            },
            "header": {
             "fill": {
              "color": "#C8D4E3"
             },
             "line": {
              "color": "white"
             }
            },
            "type": "table"
           }
          ]
         },
         "layout": {
          "annotationdefaults": {
           "arrowcolor": "#2a3f5f",
           "arrowhead": 0,
           "arrowwidth": 1
          },
          "autotypenumbers": "strict",
          "coloraxis": {
           "colorbar": {
            "outlinewidth": 0,
            "ticks": ""
           }
          },
          "colorscale": {
           "diverging": [
            [
             0,
             "#8e0152"
            ],
            [
             0.1,
             "#c51b7d"
            ],
            [
             0.2,
             "#de77ae"
            ],
            [
             0.3,
             "#f1b6da"
            ],
            [
             0.4,
             "#fde0ef"
            ],
            [
             0.5,
             "#f7f7f7"
            ],
            [
             0.6,
             "#e6f5d0"
            ],
            [
             0.7,
             "#b8e186"
            ],
            [
             0.8,
             "#7fbc41"
            ],
            [
             0.9,
             "#4d9221"
            ],
            [
             1,
             "#276419"
            ]
           ],
           "sequential": [
            [
             0,
             "#0d0887"
            ],
            [
             0.1111111111111111,
             "#46039f"
            ],
            [
             0.2222222222222222,
             "#7201a8"
            ],
            [
             0.3333333333333333,
             "#9c179e"
            ],
            [
             0.4444444444444444,
             "#bd3786"
            ],
            [
             0.5555555555555556,
             "#d8576b"
            ],
            [
             0.6666666666666666,
             "#ed7953"
            ],
            [
             0.7777777777777778,
             "#fb9f3a"
            ],
            [
             0.8888888888888888,
             "#fdca26"
            ],
            [
             1,
             "#f0f921"
            ]
           ],
           "sequentialminus": [
            [
             0,
             "#0d0887"
            ],
            [
             0.1111111111111111,
             "#46039f"
            ],
            [
             0.2222222222222222,
             "#7201a8"
            ],
            [
             0.3333333333333333,
             "#9c179e"
            ],
            [
             0.4444444444444444,
             "#bd3786"
            ],
            [
             0.5555555555555556,
             "#d8576b"
            ],
            [
             0.6666666666666666,
             "#ed7953"
            ],
            [
             0.7777777777777778,
             "#fb9f3a"
            ],
            [
             0.8888888888888888,
             "#fdca26"
            ],
            [
             1,
             "#f0f921"
            ]
           ]
          },
          "colorway": [
           "#636efa",
           "#EF553B",
           "#00cc96",
           "#ab63fa",
           "#FFA15A",
           "#19d3f3",
           "#FF6692",
           "#B6E880",
           "#FF97FF",
           "#FECB52"
          ],
          "font": {
           "color": "#2a3f5f"
          },
          "geo": {
           "bgcolor": "white",
           "lakecolor": "white",
           "landcolor": "#E5ECF6",
           "showlakes": true,
           "showland": true,
           "subunitcolor": "white"
          },
          "hoverlabel": {
           "align": "left"
          },
          "hovermode": "closest",
          "mapbox": {
           "style": "light"
          },
          "paper_bgcolor": "white",
          "plot_bgcolor": "#E5ECF6",
          "polar": {
           "angularaxis": {
            "gridcolor": "white",
            "linecolor": "white",
            "ticks": ""
           },
           "bgcolor": "#E5ECF6",
           "radialaxis": {
            "gridcolor": "white",
            "linecolor": "white",
            "ticks": ""
           }
          },
          "scene": {
           "xaxis": {
            "backgroundcolor": "#E5ECF6",
            "gridcolor": "white",
            "gridwidth": 2,
            "linecolor": "white",
            "showbackground": true,
            "ticks": "",
            "zerolinecolor": "white"
           },
           "yaxis": {
            "backgroundcolor": "#E5ECF6",
            "gridcolor": "white",
            "gridwidth": 2,
            "linecolor": "white",
            "showbackground": true,
            "ticks": "",
            "zerolinecolor": "white"
           },
           "zaxis": {
            "backgroundcolor": "#E5ECF6",
            "gridcolor": "white",
            "gridwidth": 2,
            "linecolor": "white",
            "showbackground": true,
            "ticks": "",
            "zerolinecolor": "white"
           }
          },
          "shapedefaults": {
           "line": {
            "color": "#2a3f5f"
           }
          },
          "ternary": {
           "aaxis": {
            "gridcolor": "white",
            "linecolor": "white",
            "ticks": ""
           },
           "baxis": {
            "gridcolor": "white",
            "linecolor": "white",
            "ticks": ""
           },
           "bgcolor": "#E5ECF6",
           "caxis": {
            "gridcolor": "white",
            "linecolor": "white",
            "ticks": ""
           }
          },
          "title": {
           "x": 0.05
          },
          "xaxis": {
           "automargin": true,
           "gridcolor": "white",
           "linecolor": "white",
           "ticks": "",
           "title": {
            "standoff": 15
           },
           "zerolinecolor": "white",
           "zerolinewidth": 2
          },
          "yaxis": {
           "automargin": true,
           "gridcolor": "white",
           "linecolor": "white",
           "ticks": "",
           "title": {
            "standoff": 15
           },
           "zerolinecolor": "white",
           "zerolinewidth": 2
          }
         }
        }
       }
      }
     },
     "metadata": {},
     "output_type": "display_data"
    }
   ],
   "source": [
    "values = [['Random Forest Regressor','MLP Regressor','Logistic Regression', 'XGBoost', 'Support Vector Regression (SVR)', 'Gradient Boosting Regressor', 'Stochastic Gradient Descent'], #1st col\n",
    "  [round(mean_absolute_error(y_test, rf.predict(Xmod_test)),2) ,\n",
    "    round(mean_absolute_error(y_test, mlp.predict(Xmod_test)),2),\n",
    "    round(mean_absolute_error(y_test, logreg_full.predict(Xmod_test)),2),\n",
    "    round(mean_absolute_error(y_test, xgbr_full.predict(Xmod_test)),2),\n",
    "    round(mean_absolute_error(y_test, svm.predict(Xscale_test)),2),\n",
    "    round(mean_absolute_error(y_test, gradBoost.predict(Xmod_test)),2),\n",
    "    round(mean_absolute_error(y_test, sgd.predict(Xmod_test)),2)],\n",
    "    [round(mean_absolute_error(y_test, sub_rf.predict(sub_X_test)),2) ,\n",
    "    round(mean_absolute_error(y_test, sub_mlp.predict(sub_X_test)),2),\n",
    "    round(mean_absolute_error(y_test, logreg_sub.predict(sub_X_test)),2),\n",
    "    round(mean_absolute_error(y_test, xgbr_sub.predict(sub_X_test)),2),\n",
    "    round(mean_absolute_error(y_test, sub_svm.predict(sub_Xscale_test)),2),\n",
    "    round(mean_absolute_error(y_test, sub_gradBoost.predict(sub_X_test)),2),\n",
    "    round(mean_absolute_error(y_test, sub_sgd.predict(sub_X_test)),2)]]\n",
    "\n",
    "fig = go.Figure(data=[go.Table(\n",
    "  columnorder = [1,2,3],\n",
    "  columnwidth = [400,300,300],\n",
    "  header = dict(\n",
    "    values = [['<b>Models</b>'],\n",
    "                  ['<b>Full Dataset MAE </b>'],['<b>Subset Dataset MAE</b>']]    ,\n",
    "    line_color='darkslategray',\n",
    "    fill_color='royalblue',\n",
    "    align=['left','center'],\n",
    "    font=dict(color='white', size=12),\n",
    "    height=40\n",
    "  ),\n",
    "  cells=dict(\n",
    "    values=values,\n",
    "    line_color='darkslategray',\n",
    "    fill=dict(color=['paleturquoise', 'white']),\n",
    "    align=['left', 'center'],\n",
    "    font_size=12,\n",
    "    height=30)\n",
    "    )\n",
    "])\n",
    "fig.show()"
   ]
  },
  {
   "cell_type": "code",
   "execution_count": 60,
   "id": "7029d8b0",
   "metadata": {},
   "outputs": [
    {
     "data": {
      "image/png": "[encoded data removed]",
      "text/plain": [
       "<Figure size 1440x1440 with 1 Axes>"
      ]
     },
     "metadata": {
      "needs_background": "light"
     },
     "output_type": "display_data"
    }
   ],
   "source": [
    "mae = mpimg.imread('maetable.png') \n",
    "\n",
    "plt.figure(figsize=(20,20))\n",
    "plt.imshow(mae)\n",
    "plt.axis('off')\n",
    "plt.show()"
   ]
  },
  {
   "cell_type": "markdown",
   "id": "c6b7bdac",
   "metadata": {},
   "source": [
    "The MAE was optimized at the Random forest subset between the two potential models above. Additionally the subset data will make the deployment of the app easier as the users would have to input less values to get their prediction at about the same accuracy as all values. That is why below the Random Forest subset model will be downloaded via pickle for deployment on the India Rent Prediction Application via StreamLit. "
   ]
  },
  {
   "cell_type": "markdown",
   "id": "c2b14a24",
   "metadata": {},
   "source": [
    "<font color='black'>\n",
    "    <h3> Saving Final Models and Encoders for App Construction </h3>\n",
    "</font>"
   ]
  },
  {
   "cell_type": "code",
   "execution_count": 191,
   "id": "1f645833",
   "metadata": {},
   "outputs": [],
   "source": [
    "data = {'model': sub_rf, 'le_areatype': le_areatype, \n",
    "        'le_arealocality': le_arealocality, 'le_city': le_city,\n",
    "        'le_contact': le_contact, 'le_furnish': le_furnish}\n",
    "\n",
    "with open('model_labelencode.pkl', 'wb') as file:\n",
    "    pickle.dump(data, file)"
   ]
  },
  {
   "cell_type": "markdown",
   "id": "d92142d2",
   "metadata": {},
   "source": [
    "## Final Business Conclusion"
   ]
  },
  {
   "cell_type": "markdown",
   "id": "24dbe47c",
   "metadata": {},
   "source": [
    "The company MagicBricks would like to add an application for consumers that estimates rental costs of potential listings based off of the listing's description. Many regression techniques have been deployed including tree based ensembles like Random Forest and Gradient Boosting to more simplistic models like SGD and Logistic Regression. By our primary metrics, r2 and MAE, the subset dataset with Random Forest Regressor performed the best. The model miss predicted by an average of about 12000 rupees or $150. This is about a 35% error for each prediction. The model also underpredicts rent pricing. Meaning if the model and a similar listing are around the same, the consumer can be assured that they are getting a solid price. This error percentage fairly strong in this regression setting given that we are limited by the amount of information a consumer would be willing to put into a deployed application. Using the six variables chosen we were able to build and deploy an application that can give customers within 12000 rupee estimate without having too many inputs to make customers wary of using the estimator themselves. I would suggest to MagicBricks the deployment of this model on their website, as the model will only continue to improve as this dataset contained only 5,000 variables. "
   ]
  }
 ],
 "metadata": {
  "kernelspec": {
   "display_name": "Python 3",
   "language": "python",
   "name": "python3"
  },
  "language_info": {
   "codemirror_mode": {
    "name": "ipython",
    "version": 3
   },
   "file_extension": ".py",
   "mimetype": "text/x-python",
   "name": "python",
   "nbconvert_exporter": "python",
   "pygments_lexer": "ipython3",
   "version": "3.6.13"
  },
  "vscode": {
   "interpreter": {
    "hash": "6cd0ae3ae56250ab841a05c2cdbc98506ebf18c06c086ba2fe4e03d7e89eb58f"
   }
  }
 },
 "nbformat": 4,
 "nbformat_minor": 5
}
